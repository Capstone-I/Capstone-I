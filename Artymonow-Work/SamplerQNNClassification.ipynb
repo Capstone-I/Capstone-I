{
 "cells": [
  {
   "cell_type": "code",
   "execution_count": 12,
   "id": "b42c47d4-270f-4cbd-ad4c-3fc316e825d3",
   "metadata": {
    "tags": []
   },
   "outputs": [
    {
     "name": "stderr",
     "output_type": "stream",
     "text": [
      "/opt/conda/lib/python3.10/site-packages/sklearn/preprocessing/_encoders.py:828: FutureWarning: `sparse` was renamed to `sparse_output` in version 1.2 and will be removed in 1.4. `sparse_output` is ignored unless you leave `sparse` to its default value.\n",
      "  warnings.warn(\n"
     ]
    },
    {
     "name": "stdout",
     "output_type": "stream",
     "text": [
      "Test accuracy: 0.8\n"
     ]
    }
   ],
   "source": [
    "import numpy as np\n",
    "from sklearn import datasets\n",
    "from sklearn.model_selection import train_test_split\n",
    "from sklearn.preprocessing import StandardScaler\n",
    "from qiskit.circuit.library import ZFeatureMap, EfficientSU2\n",
    "from qiskit_machine_learning.neural_networks import SamplerQNN\n",
    "from qiskit_machine_learning.algorithms.classifiers import NeuralNetworkClassifier\n",
    "from qiskit_ibm_provider import least_busy\n",
    "from qiskit import QuantumCircuit\n",
    "from qiskit.algorithms.optimizers import SLSQP\n",
    "from qiskit_ibm_runtime import Sampler\n",
    "from qiskit_ibm_runtime import Options\n",
    "from qiskit_ibm_runtime import QiskitRuntimeService\n",
    "\n",
    "# Create sampler object\n",
    "service = QiskitRuntimeService(\n",
    "    channel='ibm_quantum',\n",
    "    instance='ibm-q-asu/main/pi-deluca',\n",
    ")\n",
    "backend = service.backend('simulator_statevector')\n",
    "options = Options()\n",
    "options.execution.shots = 1024\n",
    "sampler = Sampler(session=backend, options=options)\n",
    "\n",
    "# Load the Iris dataset and preprocess the data\n",
    "iris = datasets.load_iris()\n",
    "X = iris.data\n",
    "y = iris.target\n",
    "\n",
    "# Split into training and test sets\n",
    "X_train, X_test, y_train, y_test = train_test_split(X, y, test_size=0.2, random_state=42)\n",
    "\n",
    "# Scale the data\n",
    "scaler = StandardScaler().fit(X_train)\n",
    "X_train = scaler.transform(X_train)\n",
    "X_test = scaler.transform(X_test)\n",
    "\n",
    "# Get number of qubits from number of features\n",
    "num_qubits = X.shape[1]\n",
    "\n",
    "# Define the feature map and ansatz\n",
    "feature_map = ZFeatureMap(feature_dimension=num_qubits, reps=2)\n",
    "ansatz = EfficientSU2(num_qubits=num_qubits, reps=1)\n",
    "\n",
    "# Quantum circuit\n",
    "qc = QuantumCircuit(num_qubits)\n",
    "qc.compose(feature_map, inplace=True)\n",
    "qc.compose(ansatz, inplace=True)\n",
    "\n",
    "def interpret_measurement(x):\n",
    "    return x % 3\n",
    "\n",
    "# Set up the sampler qnn\n",
    "qnn = SamplerQNN(\n",
    "    circuit=qc,\n",
    "    input_params=feature_map.parameters,\n",
    "    weight_params=ansatz.parameters,\n",
    "    interpret=interpret_measurement,\n",
    "    output_shape=3,\n",
    "    sampler=sampler\n",
    ")\n",
    "\n",
    "# Set up the neural network classifier\n",
    "classifier = NeuralNetworkClassifier(qnn, loss='cross_entropy', one_hot=True, optimizer=SLSQP(maxiter=50, max_evals_grouped=3), warm_start=True)\n",
    "\n",
    "# Train the classifier\n",
    "classifier.fit(X_train, y_train)\n",
    "\n",
    "# Test the classifier\n",
    "accuracy = classifier.score(X_test, y_test)\n",
    "print(\"Test accuracy:\", accuracy)"
   ]
  },
  {
   "cell_type": "code",
   "execution_count": null,
   "id": "e6f36432-84c1-4e7e-8d97-c48db3633d1d",
   "metadata": {},
   "outputs": [],
   "source": []
  }
 ],
 "metadata": {
  "kernelspec": {
   "display_name": "Python 3 (ipykernel)",
   "language": "python",
   "name": "python3"
  },
  "language_info": {
   "codemirror_mode": {
    "name": "ipython",
    "version": 3
   },
   "file_extension": ".py",
   "mimetype": "text/x-python",
   "name": "python",
   "nbconvert_exporter": "python",
   "pygments_lexer": "ipython3",
   "version": "3.10.8"
  },
  "widgets": {
   "application/vnd.jupyter.widget-state+json": {
    "state": {},
    "version_major": 2,
    "version_minor": 0
   }
  }
 },
 "nbformat": 4,
 "nbformat_minor": 5
}
