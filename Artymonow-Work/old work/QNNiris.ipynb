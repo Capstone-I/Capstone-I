{
 "cells": [
  {
   "cell_type": "code",
   "execution_count": 8,
   "id": "8a2665f9-5991-477f-ae59-71d6112d9ab3",
   "metadata": {
    "tags": []
   },
   "outputs": [
    {
     "name": "stderr",
     "output_type": "stream",
     "text": [
      "/opt/conda/lib/python3.10/site-packages/sklearn/preprocessing/_encoders.py:828: FutureWarning: `sparse` was renamed to `sparse_output` in version 1.2 and will be removed in 1.4. `sparse_output` is ignored unless you leave `sparse` to its default value.\n",
      "  warnings.warn(\n"
     ]
    },
    {
     "name": "stdout",
     "output_type": "stream",
     "text": [
      "Accuracy: 40.00%\n"
     ]
    }
   ],
   "source": [
    "import numpy as np\n",
    "from sklearn import datasets\n",
    "from sklearn.model_selection import train_test_split\n",
    "from sklearn.preprocessing import StandardScaler, OneHotEncoder\n",
    "from qiskit import IBMQ, Aer\n",
    "from qiskit.utils import QuantumInstance\n",
    "from qiskit.circuit.library import RealAmplitudes, ZZFeatureMap\n",
    "from qiskit.algorithms.optimizers import COBYLA\n",
    "from qiskit_machine_learning.algorithms.classifiers import VQC\n",
    "from qiskit_ibm_provider import IBMProvider\n",
    "\n",
    "\n",
    "# Set up the provider\n",
    "provider = IBMProvider(instance='ibm-q-asu/main/pi-deluca')\n",
    "\n",
    "# Load the Iris dataset\n",
    "iris = datasets.load_iris()\n",
    "\n",
    "# Preprocess the data\n",
    "X = iris.data\n",
    "y = iris.target.reshape(-1, 1)\n",
    "\n",
    "# One-hot encode the target labels\n",
    "encoder = OneHotEncoder(sparse=False)\n",
    "y_encoded = encoder.fit_transform(y)\n",
    "\n",
    "# Scale the data\n",
    "scaler = StandardScaler().fit(X)\n",
    "X_scaled = scaler.transform(X)\n",
    "\n",
    "# Split the data into training and testing sets\n",
    "X_train, X_test, y_train, y_test = train_test_split(X_scaled, y_encoded, test_size=0.2, random_state=42)\n",
    "\n",
    "# Define the feature map and ansatz\n",
    "feature_map = ZZFeatureMap(feature_dimension=X_train.shape[1], reps=1)\n",
    "ansatz = RealAmplitudes(num_qubits=X_train.shape[1], reps=3)\n",
    "\n",
    "# Define the quantum instance\n",
    "backend = provider.get_backend('simulator_statevector')\n",
    "quantum_instance = QuantumInstance(backend, shots=1024, seed_simulator=42, seed_transpiler=42)\n",
    "\n",
    "# Create a VQC classifier\n",
    "vqc = VQC(optimizer=COBYLA(maxiter=40), feature_map=feature_map, ansatz=ansatz, quantum_instance=quantum_instance)\n",
    "\n",
    "# Train the classifier\n",
    "vqc.fit(X_train, y_train)\n",
    "\n",
    "# Test the classifier\n",
    "y_pred = vqc.predict(X_test)\n",
    "\n",
    "# Decode the one-hot encoded predictions\n",
    "y_pred_decoded = np.argmax(y_pred, axis=1)\n",
    "\n",
    "# Decode the one-hot encoded target labels\n",
    "y_test_decoded = np.argmax(y_test, axis=1)\n",
    "\n",
    "# Calculate the accuracy\n",
    "accuracy = np.sum(y_pred_decoded == y_test_decoded) / len(y_test_decoded)\n",
    "print(f\"Accuracy: {accuracy * 100:.2f}%\")\n"
   ]
  },
  {
   "cell_type": "code",
   "execution_count": null,
   "id": "9b4ba966-48f2-496e-aa8f-e872a41cbd9c",
   "metadata": {},
   "outputs": [],
   "source": []
  }
 ],
 "metadata": {
  "kernelspec": {
   "display_name": "Python 3 (ipykernel)",
   "language": "python",
   "name": "python3"
  },
  "language_info": {
   "codemirror_mode": {
    "name": "ipython",
    "version": 3
   },
   "file_extension": ".py",
   "mimetype": "text/x-python",
   "name": "python",
   "nbconvert_exporter": "python",
   "pygments_lexer": "ipython3",
   "version": "3.10.8"
  },
  "widgets": {
   "application/vnd.jupyter.widget-state+json": {
    "state": {},
    "version_major": 2,
    "version_minor": 0
   }
  }
 },
 "nbformat": 4,
 "nbformat_minor": 5
}
