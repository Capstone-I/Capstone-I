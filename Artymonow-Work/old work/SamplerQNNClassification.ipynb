{
 "cells": [
  {
   "cell_type": "code",
   "execution_count": 2,
   "id": "b42c47d4-270f-4cbd-ad4c-3fc316e825d3",
   "metadata": {
    "tags": []
   },
   "outputs": [
    {
     "name": "stderr",
     "output_type": "stream",
     "text": [
      "/opt/conda/lib/python3.10/site-packages/sklearn/preprocessing/_encoders.py:828: FutureWarning: `sparse` was renamed to `sparse_output` in version 1.2 and will be removed in 1.4. `sparse_output` is ignored unless you leave `sparse` to its default value.\n",
      "  warnings.warn(\n"
     ]
    },
    {
     "name": "stdout",
     "output_type": "stream",
     "text": [
      "Test accuracy: 0.19540229885057472\n"
     ]
    }
   ],
   "source": [
    "import numpy as np\n",
    "from sklearn import datasets\n",
    "from sklearn.model_selection import train_test_split\n",
    "from sklearn.preprocessing import StandardScaler\n",
    "from qiskit.circuit.library import ZFeatureMap, EfficientSU2\n",
    "from qiskit_machine_learning.neural_networks import SamplerQNN\n",
    "from qiskit_machine_learning.algorithms.classifiers import NeuralNetworkClassifier\n",
    "from qiskit_ibm_provider import least_busy\n",
    "from qiskit import QuantumCircuit\n",
    "from qiskit.algorithms.optimizers import COBYLA, POWELL\n",
    "from qiskit_ibm_runtime import Sampler\n",
    "from qiskit_ibm_runtime import Options\n",
    "from qiskit_ibm_runtime import QiskitRuntimeService\n",
    "from sklearn.decomposition import PCA\n",
    "from qiskit.algorithms.gradients import FiniteDiffSamplerGradient\n",
    "\n",
    "# Create sampler object\n",
    "service = QiskitRuntimeService(\n",
    "    channel='ibm_quantum',\n",
    "    instance='ibm-q-asu/main/pi-deluca',\n",
    ")\n",
    "backend = service.backend('ibmq_qasm_simulator')\n",
    "options = Options()\n",
    "options.execution.shots = 256\n",
    "sampler = Sampler(session=backend, options=options)\n",
    "num_qubits = 7\n",
    "sampling_fraction = 0.0005\n",
    "\n",
    "# Load the dataset\n",
    "covtype = datasets.fetch_covtype()\n",
    "X = covtype.data\n",
    "y = covtype.target\n",
    "classes = len(np.unique(y))\n",
    "\n",
    "# Shuffle and select a sample from the dataset\n",
    "indices = np.arange(X.shape[0])\n",
    "np.random.shuffle(indices)\n",
    "sample_size = int(X.shape[0] * sampling_fraction)\n",
    "X_sample, y_sample = X[indices[:sample_size]], y[indices[:sample_size]]\n",
    "\n",
    "# Split into training and test sets\n",
    "X_train, X_test, y_train, y_test = train_test_split(X_sample, y_sample, test_size=0.3, random_state=42)\n",
    "\n",
    "# Preprocess\n",
    "scaler = StandardScaler()\n",
    "X_train = scaler.fit_transform(X_train)\n",
    "X_test = scaler.transform(X_test)\n",
    "\n",
    "# Dimensionality reduction\n",
    "pca = PCA(n_components=num_qubits)\n",
    "X_train = pca.fit_transform(X_train)\n",
    "X_test = pca.transform(X_test)\n",
    "\n",
    "# Define the feature map and ansatz\n",
    "feature_map = ZFeatureMap(feature_dimension=num_qubits, reps=1)\n",
    "ansatz = EfficientSU2(num_qubits=num_qubits, reps=1, entanglement='sca')\n",
    "\n",
    "# Quantum circuit\n",
    "qc = QuantumCircuit(num_qubits)\n",
    "qc.compose(feature_map, inplace=True)\n",
    "qc.compose(ansatz, inplace=True)\n",
    "\n",
    "def interpret_measurement(x):\n",
    "    return x % classes\n",
    "\n",
    "# Set up the sampler qnn\n",
    "qnn = SamplerQNN(\n",
    "    circuit=qc,\n",
    "    input_params=feature_map.parameters,\n",
    "    weight_params=ansatz.parameters,\n",
    "    interpret=interpret_measurement,\n",
    "    output_shape=classes,\n",
    "    sampler=sampler\n",
    ")\n",
    "\n",
    "# Set up the neural network classifier\n",
    "classifier = NeuralNetworkClassifier(\n",
    "    qnn,\n",
    "    loss='cross_entropy',\n",
    "    one_hot=True,\n",
    "    optimizer=COBYLA(),\n",
    "    warm_start=True\n",
    ")\n",
    "\n",
    "# Train the classifier\n",
    "classifier.fit(X_train, y_train)\n",
    "\n",
    "# Test the classifier\n",
    "accuracy = classifier.score(X_test, y_test)\n",
    "print(\"Test accuracy:\", accuracy)"
   ]
  },
  {
   "cell_type": "code",
   "execution_count": null,
   "id": "1c04bc82-b23d-49a4-bbab-8bf2ba1febdf",
   "metadata": {},
   "outputs": [],
   "source": []
  }
 ],
 "metadata": {
  "kernelspec": {
   "display_name": "Python 3 (ipykernel)",
   "language": "python",
   "name": "python3"
  },
  "language_info": {
   "codemirror_mode": {
    "name": "ipython",
    "version": 3
   },
   "file_extension": ".py",
   "mimetype": "text/x-python",
   "name": "python",
   "nbconvert_exporter": "python",
   "pygments_lexer": "ipython3",
   "version": "3.10.8"
  },
  "widgets": {
   "application/vnd.jupyter.widget-state+json": {
    "state": {},
    "version_major": 2,
    "version_minor": 0
   }
  }
 },
 "nbformat": 4,
 "nbformat_minor": 5
}
