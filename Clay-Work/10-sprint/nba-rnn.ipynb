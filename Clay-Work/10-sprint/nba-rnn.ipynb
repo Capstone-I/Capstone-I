{
 "cells": [
  {
   "cell_type": "code",
   "execution_count": 246,
   "metadata": {},
   "outputs": [],
   "source": [
    "import torch\n",
    "import torch.nn as nn\n",
    "import pandas as pd\n",
    "import numpy as np\n",
    "import matplotlib.pyplot as plt\n",
    "from sklearn.preprocessing import StandardScaler\n",
    "from sklearn.model_selection import train_test_split\n",
    "from torch.utils.data import DataLoader, Dataset\n",
    "from sklearn.metrics import r2_score"
   ]
  },
  {
   "cell_type": "code",
   "execution_count": 247,
   "metadata": {},
   "outputs": [],
   "source": [
    "df = pd.read_csv('../NBA-Game-Wins-Prediction/kaggle/working/nba_data.csv')\n",
    "df.dropna(inplace=True)\n",
    "x = df[df.columns.difference(['NEXT_W'])]\n",
    "y = df[['NEXT_W']]"
   ]
  },
  {
   "cell_type": "code",
   "execution_count": 248,
   "metadata": {},
   "outputs": [
    {
     "name": "stdout",
     "output_type": "stream",
     "text": [
      "        AST    BLK    DREB    FG3A    FG3M  FG3_PCT     FGA     FGM   FG_PCT  \\\n",
      "0    1666.0  410.0  2543.0  1256.0   422.0  104.083  6609.0  2857.0  320.764   \n",
      "1    1649.0  350.0  2387.0   997.0   309.0  114.160  6821.0  2997.0  357.705   \n",
      "2    1759.0  417.0  2427.0  1205.0   450.0  138.741  6997.0  3196.0  358.522   \n",
      "3    1728.0  480.0  2528.0  1161.0   385.0  127.166  6986.0  3105.0  369.110   \n",
      "4    2084.0  536.0  2885.0  1250.0   436.0  122.879  7668.0  3457.0  382.692   \n",
      "..      ...    ...     ...     ...     ...      ...     ...     ...      ...   \n",
      "442  1833.0  492.0  3070.0  1736.0   551.0  154.944  7612.0  3191.0  370.551   \n",
      "443  2027.0  485.0  3403.0  2745.0   987.0  266.812  8122.0  3528.0  425.323   \n",
      "444  2024.0  425.0  3111.0  2526.0   866.0  188.367  7589.0  3318.0  387.285   \n",
      "445  1869.0  393.0  3078.0  2379.0   872.0  212.096  7537.0  3386.0  390.534   \n",
      "446  2173.0  386.0  2704.0  2976.0  1095.0  211.146  7117.0  3210.0  352.732   \n",
      "\n",
      "        FTA  ...  NEXT_SEASON    OREB      PF  PLUS_MINUS     PTS     REB  \\\n",
      "0    2004.0  ...         2004  1005.0  1853.0     -1905.0  7691.0  3548.0   \n",
      "1    2059.0  ...         2005  1123.0  2068.0     -3983.0  7759.0  3510.0   \n",
      "2    2404.0  ...         2006  1141.0  2235.0     -1950.0  8646.0  3568.0   \n",
      "3    2438.0  ...         2007  1067.0  2195.0     -1950.0  8460.0  3595.0   \n",
      "4    2758.0  ...         2008  1189.0  2016.0     -1165.0  9479.0  4074.0   \n",
      "..      ...  ...          ...     ...     ...         ...     ...     ...   \n",
      "442  2057.0  ...         2015   895.0  1691.0     -1430.0  8480.0  3965.0   \n",
      "443  2352.0  ...         2016   843.0  1758.0      1195.0  9902.0  4246.0   \n",
      "444  2146.0  ...         2017   793.0  1486.0      -175.0  9243.0  3904.0   \n",
      "445  2334.0  ...         2018   876.0  1502.0        90.0  9382.0  3954.0   \n",
      "446  1729.0  ...         2021   855.0  1485.0      -899.0  8814.0  3559.0   \n",
      "\n",
      "       STL     TEAM_ID      TO  Unnamed: 0  \n",
      "0    633.0  1610612737  1292.0           0  \n",
      "1    642.0  1610612737  1289.0           1  \n",
      "2    633.0  1610612737  1377.0           2  \n",
      "3    663.0  1610612737  1400.0           3  \n",
      "4    696.0  1610612737  1411.0           4  \n",
      "..     ...         ...     ...         ...  \n",
      "442  552.0  1610612766  1017.0         442  \n",
      "443  691.0  1610612766  1140.0         443  \n",
      "444  621.0  1610612766  1004.0         444  \n",
      "445  594.0  1610612766  1093.0         445  \n",
      "446  640.0  1610612766  1160.0         446  \n",
      "\n",
      "[447 rows x 22 columns]\n"
     ]
    }
   ],
   "source": [
    "print(x)"
   ]
  },
  {
   "cell_type": "code",
   "execution_count": 249,
   "metadata": {},
   "outputs": [],
   "source": [
    "scaler_x = StandardScaler()\n",
    "scaler_y = StandardScaler()\n",
    "x = scaler_x.fit_transform(x)\n",
    "y = scaler_y.fit_transform(y)"
   ]
  },
  {
   "cell_type": "code",
   "execution_count": 250,
   "metadata": {},
   "outputs": [],
   "source": [
    "X_train, X_test, y_train, y_test = train_test_split(x, y, test_size=0.20, random_state=0)"
   ]
  },
  {
   "cell_type": "code",
   "execution_count": 251,
   "metadata": {},
   "outputs": [],
   "source": [
    "X_train = torch.tensor(X_train, dtype=torch.float32)\n",
    "y_train = torch.tensor(y_train, dtype=torch.float32)\n",
    "X_test = torch.tensor(X_test, dtype=torch.float32)\n",
    "seq_len = X_train[0].shape[0]"
   ]
  },
  {
   "cell_type": "code",
   "execution_count": 252,
   "metadata": {},
   "outputs": [
    {
     "name": "stdout",
     "output_type": "stream",
     "text": [
      "tensor([[-0.4207,  0.4727, -0.5396,  ..., -1.3312, -0.0799, -1.3252],\n",
      "        [ 0.3945,  0.3931, -0.3688,  ..., -1.0995, -1.4637, -1.1547],\n",
      "        [ 2.5404,  0.0066,  1.5629,  ..., -1.5629,  0.7586, -1.5267],\n",
      "        ...,\n",
      "        [ 3.7580,  3.5876,  2.4139,  ..., -0.8679,  1.8766, -0.8215],\n",
      "        [-1.1231, -0.7437, -0.5200,  ..., -1.3312, -0.3116, -1.3639],\n",
      "        [ 1.9016,  1.7232,  1.4117,  ..., -0.4045,  1.6721, -0.3952]])\n"
     ]
    }
   ],
   "source": [
    "print(X_train)"
   ]
  },
  {
   "cell_type": "code",
   "execution_count": 253,
   "metadata": {},
   "outputs": [],
   "source": [
    "class NBA(Dataset):\n",
    "    def __init__(self, X_train, y_train):\n",
    "        super(Dataset, self).__init__()\n",
    "        self.X_train = X_train\n",
    "        self.y_train = y_train\n",
    "\n",
    "    def __len__(self):\n",
    "        return len(self.X_train)\n",
    "    \n",
    "    def __getitem__(self, idx):\n",
    "        x = self.X_train[idx]\n",
    "        y = self.y_train[idx]\n",
    "        return x, y"
   ]
  },
  {
   "cell_type": "code",
   "execution_count": 254,
   "metadata": {},
   "outputs": [],
   "source": [
    "hidden_size = 512\n",
    "num_layers = 2\n",
    "learning_rate = 0.001\n",
    "batch_size = 64\n",
    "epoch_size = 10"
   ]
  },
  {
   "cell_type": "code",
   "execution_count": 255,
   "metadata": {},
   "outputs": [],
   "source": [
    "train_dataset = NBA(X_train, y_train)\n",
    "test_dataset = NBA(X_test, y_test)\n",
    "train_loader = DataLoader(train_dataset, batch_size=batch_size, shuffle=True)\n",
    "test_loader = DataLoader(test_dataset, batch_size=batch_size, shuffle=False)"
   ]
  },
  {
   "cell_type": "code",
   "execution_count": 256,
   "metadata": {},
   "outputs": [],
   "source": [
    "class RNN(nn.Module):\n",
    "    def __init__(self, input_feature_size, hidden_size, num_layers):\n",
    "        super(RNN, self).__init__()\n",
    "        self.lstm = nn.LSTM(input_feature_size, hidden_size, num_layers, batch_first=True)\n",
    "        self.fc1 = nn.Linear(hidden_size, 128)\n",
    "        self.relu = nn.ReLU()\n",
    "        self.fc2 = nn.Linear(128, 1)\n",
    "\n",
    "    def forward(self, x):\n",
    "        out, _ = self.lstm(x)\n",
    "        out = self.fc1(out)\n",
    "        out = self.relu(out)\n",
    "        out = self.fc2(out)\n",
    "        return out"
   ]
  },
  {
   "cell_type": "code",
   "execution_count": 257,
   "metadata": {},
   "outputs": [],
   "source": [
    "device = 'cuda' if torch.cuda.is_available() else 'cpu'\n",
    "rnn = RNN(22, hidden_size, num_layers).to(device)\n",
    "criterion = nn.MSELoss()\n",
    "optimizer = torch.optim.Adam(rnn.parameters(), lr=0.0001)"
   ]
  },
  {
   "cell_type": "code",
   "execution_count": 258,
   "metadata": {},
   "outputs": [],
   "source": [
    "rnn.train()\n",
    "for epoch in range(epoch_size):\n",
    "    loss = 0.0\n",
    "\n",
    "    for batch_idx, data in enumerate(train_loader):\n",
    "        inputs, targets = data\n",
    "        inputs.to(device)\n",
    "        targets.to(device)\n",
    "\n",
    "        optimizer.zero_grad()\n",
    "\n",
    "        outputs = rnn(inputs)\n",
    "        loss = criterion(outputs, targets)\n",
    "        loss.backward()\n",
    "        optimizer.step()\n",
    "\n",
    "        loss += loss.item()\n",
    "        if batch_idx % 100 == 99:\n",
    "            print(f'[{epoch + 1}, {batch_idx + 1:5d}] loss: {loss / 100:.3f}')\n",
    "            loss = 0.0"
   ]
  },
  {
   "cell_type": "code",
   "execution_count": 260,
   "metadata": {},
   "outputs": [],
   "source": [
    "prediction = []\n",
    "ground_truth = []\n",
    "\n",
    "rnn.eval()\n",
    "with torch.no_grad():\n",
    "    for data in test_loader:\n",
    "        inputs, targets = data\n",
    "        inputs = inputs.to(device)\n",
    "\n",
    "        ground_truth += targets.flatten().tolist()\n",
    "        out = rnn(inputs).detach().cpu().flatten().tolist()\n",
    "        prediction += out"
   ]
  },
  {
   "cell_type": "code",
   "execution_count": 261,
   "metadata": {},
   "outputs": [],
   "source": [
    "# prediction = scaler_y.inverse_transform(prediction)\n",
    "# ground_truth = scaler_y.inverse_transform(ground_truth)"
   ]
  },
  {
   "cell_type": "code",
   "execution_count": 262,
   "metadata": {},
   "outputs": [
    {
     "name": "stdout",
     "output_type": "stream",
     "text": [
      "-16.997282714393172\n"
     ]
    }
   ],
   "source": [
    "r2score = r2_score(prediction, ground_truth)\n",
    "print(r2score)"
   ]
  },
  {
   "cell_type": "code",
   "execution_count": 263,
   "metadata": {},
   "outputs": [
    {
     "name": "stdout",
     "output_type": "stream",
     "text": [
      "Prediction:  -0.16808904707431793 , ground truth:  -1.3704775584469473\n",
      "1.2023885113726294\n",
      "Prediction:  -0.06454604864120483 , ground truth:  -0.7267329441022363\n",
      "0.6621868954610315\n",
      "Prediction:  -0.18768128752708435 , ground truth:  1.0435647453457184\n",
      "-1.2312460328728028\n",
      "Prediction:  -0.43723392486572266 , ground truth:  -0.9681371744815029\n",
      "0.5309032496157803\n",
      "Prediction:  -0.4160013496875763 , ground truth:  1.2045008989318962\n",
      "-1.6205022486194725\n",
      "Prediction:  -0.30876651406288147 , ground truth:  -0.08298832975752554\n",
      "-0.22577818430535593\n",
      "Prediction:  0.04021993279457092 , ground truth:  -1.3704775584469473\n",
      "1.4106974912415182\n",
      "Prediction:  -0.20161041617393494 , ground truth:  0.8826285917595407\n",
      "-1.0842390079334756\n",
      "Prediction:  -0.20611503720283508 , ground truth:  -0.6462648673091476\n",
      "0.4401498301063125\n",
      "Prediction:  -0.036537814885377884 , ground truth:  0.2388839774148299\n",
      "-0.2754217923002078\n",
      "Prediction:  0.24548177421092987 , ground truth:  0.5607562845871853\n",
      "-0.3152745103762554\n",
      "Prediction:  0.11237242817878723 , ground truth:  -0.8876690976884141\n",
      "1.0000415258672013\n",
      "Prediction:  0.25403547286987305 , ground truth:  1.0435647453457184\n",
      "-0.7895292724758454\n",
      "Prediction:  -0.1254623532295227 , ground truth:  -0.40486063692988095\n",
      "0.27939828370035824\n",
      "Prediction:  -0.24200713634490967 , ground truth:  -1.1290733280676806\n",
      "0.8870661917227709\n",
      "Prediction:  0.28543269634246826 , ground truth:  1.2045008989318962\n",
      "-0.9190682025894279\n",
      "Prediction:  0.1059545949101448 , ground truth:  1.1240328221388072\n",
      "-1.0180782272286624\n",
      "Prediction:  -0.30832210183143616 , ground truth:  -1.2095414048607696\n",
      "0.9012193030293334\n",
      "Prediction:  0.18347430229187012 , ground truth:  0.5607562845871853\n",
      "-0.3772819822953152\n",
      "Prediction:  -0.28836438059806824 , ground truth:  -1.5314137120331248\n",
      "1.2430493314350566\n",
      "Prediction:  -0.32526323199272156 , ground truth:  -1.933754095998569\n",
      "1.6084908640058475\n",
      "Prediction:  -0.32646456360816956 , ground truth:  -0.6462648673091476\n",
      "0.319800303700978\n",
      "Prediction:  0.09706009924411774 , ground truth:  -0.0025202529644366826\n",
      "0.09958035220855442\n",
      "Prediction:  -0.14893591403961182 , ground truth:  -1.450945635240036\n",
      "1.3020097212004242\n",
      "Prediction:  -0.17802254855632782 , ground truth:  -1.450945635240036\n",
      "1.2729230866837082\n",
      "Prediction:  -0.08619385957717896 , ground truth:  1.0435647453457184\n",
      "-1.1297586049228974\n",
      "Prediction:  -0.25126925110816956 , ground truth:  -0.5657967905160587\n",
      "0.31452753940788913\n",
      "Prediction:  -0.19717837870121002 , ground truth:  -1.6118817888262138\n",
      "1.4147034101250038\n",
      "Prediction:  -0.2245934009552002 , ground truth:  -1.933754095998569\n",
      "1.7091606950433689\n",
      "Prediction:  0.21452364325523376 , ground truth:  0.8826285917595407\n",
      "-0.6681049485043069\n",
      "Prediction:  -0.10250116884708405 , ground truth:  0.5607562845871853\n",
      "-0.6632574534342693\n",
      "Prediction:  -0.1739225834608078 , ground truth:  0.9630966685526295\n",
      "-1.1370192520134372\n",
      "Prediction:  0.30269017815589905 , ground truth:  2.0896497436558734\n",
      "-1.7869595654999744\n",
      "Prediction:  -0.4035913944244385 , ground truth:  -0.5657967905160587\n",
      "0.1622053960916202\n",
      "Prediction:  -0.40946704149246216 , ground truth:  0.6412243613802742\n",
      "-1.0506914028727363\n",
      "Prediction:  -0.3141482472419739 , ground truth:  -1.933754095998569\n",
      "1.6196058487565952\n",
      "Prediction:  -0.3003654479980469 , ground truth:  0.15841590062174102\n",
      "-0.4587813486197879\n",
      "Prediction:  -0.37864115834236145 , ground truth:  0.31935205420791873\n",
      "-0.6979932125502801\n",
      "Prediction:  -0.3424696624279022 , ground truth:  0.4802882077940964\n",
      "-0.8227578702219986\n",
      "Prediction:  -0.3140219748020172 , ground truth:  0.721692438173363\n",
      "-1.0357144129753801\n",
      "Prediction:  -0.31015971302986145 , ground truth:  1.0435647453457184\n",
      "-1.3537244583755799\n",
      "Prediction:  -0.04835784062743187 , ground truth:  0.2388839774148299\n",
      "-0.2872418180422618\n",
      "Prediction:  -0.2674761414527893 , ground truth:  1.284968975724985\n",
      "-1.5524451171777742\n",
      "Prediction:  -0.29573091864585876 , ground truth:  -0.0025202529644366826\n",
      "-0.29321066568142207\n",
      "Prediction:  -0.2486589252948761 , ground truth:  0.8021605149664518\n",
      "-1.050819440261328\n",
      "Prediction:  -0.0484992153942585 , ground truth:  0.721692438173363\n",
      "-0.7701916535676215\n",
      "Prediction:  -0.052971530705690384 , ground truth:  -0.0025202529644366826\n",
      "-0.0504512777412537\n",
      "Prediction:  -0.2552785873413086 , ground truth:  -0.08298832975752554\n",
      "-0.17229025758378305\n",
      "Prediction:  0.006308116018772125 , ground truth:  -0.40486063692988095\n",
      "0.41116875294865307\n",
      "Prediction:  0.1448337286710739 , ground truth:  2.0896497436558734\n",
      "-1.9448160149847995\n",
      "Prediction:  -0.3119368255138397 , ground truth:  -0.40486063692988095\n",
      "0.09292381141604122\n",
      "Prediction:  -0.22477585077285767 , ground truth:  1.365437052518074\n",
      "-1.5902129032909316\n",
      "Prediction:  0.052166130393743515 , ground truth:  0.2388839774148299\n",
      "-0.18671784702108637\n",
      "Prediction:  0.14179189503192902 , ground truth:  -1.1290733280676806\n",
      "1.2708652230996096\n",
      "Prediction:  -0.2257041037082672 , ground truth:  -1.3704775584469473\n",
      "1.14477345473868\n",
      "Prediction:  -0.3598165810108185 , ground truth:  -0.0025202529644366826\n",
      "-0.3572963280463818\n",
      "Prediction:  -0.3340817987918854 , ground truth:  0.31935205420791873\n",
      "-0.653433852999804\n",
      "Prediction:  -0.1373877078294754 , ground truth:  0.15841590062174102\n",
      "-0.29580360845121645\n",
      "Prediction:  0.3317727744579315 , ground truth:  0.4802882077940964\n",
      "-0.1485154333361649\n",
      "Prediction:  0.2830025851726532 , ground truth:  1.365437052518074\n",
      "-1.0824344673454207\n",
      "Prediction:  0.21040865778923035 , ground truth:  1.284968975724985\n",
      "-1.0745603179357546\n",
      "Prediction:  0.24906527996063232 , ground truth:  0.5607562845871853\n",
      "-0.31169100462655297\n",
      "Prediction:  -0.05390361323952675 , ground truth:  0.5607562845871853\n",
      "-0.614659897826712\n",
      "Prediction:  -0.17874982953071594 , ground truth:  -0.4853287137229698\n",
      "0.3065788841922539\n",
      "Prediction:  0.11206313967704773 , ground truth:  0.07794782382865217\n",
      "0.034115315848395555\n",
      "Prediction:  0.2628665566444397 , ground truth:  0.31935205420791873\n",
      "-0.05648549756347904\n",
      "Prediction:  0.22265410423278809 , ground truth:  0.6412243613802742\n",
      "-0.4185702571474861\n",
      "Prediction:  -0.3077237904071808 , ground truth:  -1.6923498656193026\n",
      "1.3846260752121218\n",
      "Prediction:  -0.280105859041214 , ground truth:  1.4459051293111627\n",
      "-1.7260109883523767\n",
      "Prediction:  -0.2334870994091034 , ground truth:  -0.0025202529644366826\n",
      "-0.23096684644466672\n",
      "Prediction:  0.18333372473716736 , ground truth:  0.9630966685526295\n",
      "-0.7797629438154622\n",
      "Prediction:  -0.049598004668951035 , ground truth:  -1.5314137120331248\n",
      "1.4818157073641738\n",
      "Prediction:  -0.27467337250709534 , ground truth:  -0.08298832975752554\n",
      "-0.1916850427495698\n",
      "Prediction:  -0.3908996284008026 , ground truth:  0.4802882077940964\n",
      "-0.871187836194899\n",
      "Prediction:  0.11613810062408447 , ground truth:  1.4459051293111627\n",
      "-1.3297670286870782\n",
      "Prediction:  0.001155652105808258 , ground truth:  -0.9681371744815029\n",
      "0.9692928265873112\n",
      "Prediction:  -0.26120153069496155 , ground truth:  -1.450945635240036\n",
      "1.1897441045450745\n",
      "Prediction:  -0.1433943212032318 , ground truth:  1.6873093596904292\n",
      "-1.830703680893661\n",
      "Prediction:  -0.3251402974128723 , ground truth:  -0.3243925601367921\n",
      "-0.0007477372760802403\n",
      "Prediction:  -0.03669128194451332 , ground truth:  1.0435647453457184\n",
      "-1.0802560272902317\n",
      "Prediction:  0.11869871616363525 , ground truth:  0.07794782382865217\n",
      "0.04075089233498308\n",
      "Prediction:  0.37440040707588196 , ground truth:  1.928713590069696\n",
      "-1.554313182993814\n",
      "Prediction:  0.37543627619743347 , ground truth:  0.9630966685526295\n",
      "-0.5876603923551961\n",
      "Prediction:  0.3374292850494385 , ground truth:  1.2045008989318962\n",
      "-0.8670716138824577\n",
      "Prediction:  -0.08278562128543854 , ground truth:  -0.9681371744815029\n",
      "0.8853515531960644\n",
      "Prediction:  -0.29654160141944885 , ground truth:  -1.933754095998569\n",
      "1.6372124945791202\n",
      "Prediction:  -0.4046199917793274 , ground truth:  0.15841590062174102\n",
      "-0.5630358924010684\n",
      "Prediction:  0.28221338987350464 , ground truth:  1.284968975724985\n",
      "-1.0027555858514803\n",
      "Prediction:  0.361712247133255 , ground truth:  1.7677774364835181\n",
      "-1.4060651893502631\n",
      "Prediction:  0.01084887608885765 , ground truth:  -0.3243925601367921\n",
      "0.3352414362256497\n"
     ]
    }
   ],
   "source": [
    "for i in range(len(prediction)):\n",
    "    print(\"Prediction: \", prediction[i], \", ground truth: \", ground_truth[i])\n",
    "    print(prediction[i] - ground_truth[i])"
   ]
  }
 ],
 "metadata": {
  "kernelspec": {
   "display_name": "Python 3",
   "language": "python",
   "name": "python3"
  },
  "language_info": {
   "codemirror_mode": {
    "name": "ipython",
    "version": 3
   },
   "file_extension": ".py",
   "mimetype": "text/x-python",
   "name": "python",
   "nbconvert_exporter": "python",
   "pygments_lexer": "ipython3",
   "version": "3.10.11"
  },
  "orig_nbformat": 4
 },
 "nbformat": 4,
 "nbformat_minor": 2
}
