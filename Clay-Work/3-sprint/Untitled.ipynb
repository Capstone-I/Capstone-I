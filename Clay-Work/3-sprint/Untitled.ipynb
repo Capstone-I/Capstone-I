{
 "cells": [
  {
   "cell_type": "code",
   "execution_count": 6,
   "id": "950c0c6e-8957-4645-bc85-581586e766ef",
   "metadata": {
    "tags": []
   },
   "outputs": [],
   "source": [
    "import numpy as np\n",
    "from qiskit import Aer\n",
    "from qiskit_machine_learning.algorithms import QSVC\n",
    "from sklearn \n",
    "from qiskit_machine_learning.neural_networks import SamplerQNN\n",
    "from qiskit.circuit.library import ZZFeatureMap"
   ]
  },
  {
   "cell_type": "code",
   "execution_count": 7,
   "id": "1faa9ef5-7e03-4a55-8f9f-fe8b60bed52d",
   "metadata": {
    "tags": []
   },
   "outputs": [
    {
     "name": "stderr",
     "output_type": "stream",
     "text": [
      "/tmp/ipykernel_9399/1387469029.py:2: DeprecationWarning: The iris function is deprecated as of version 0.4.0 and will be removed no sooner than 3 months after the release.\n",
      "  _, iris_test = iris(training_size=0.7, test_size=0.3, n=feature_dim)\n"
     ]
    },
    {
     "ename": "TypeError",
     "evalue": "slice indices must be integers or None or have an __index__ method",
     "output_type": "error",
     "traceback": [
      "\u001b[0;31m---------------------------------------------------------------------------\u001b[0m",
      "\u001b[0;31mTypeError\u001b[0m                                 Traceback (most recent call last)",
      "Cell \u001b[0;32mIn[7], line 2\u001b[0m\n\u001b[1;32m      1\u001b[0m feature_dim \u001b[38;5;241m=\u001b[39m \u001b[38;5;241m4\u001b[39m\n\u001b[0;32m----> 2\u001b[0m _, iris_test \u001b[38;5;241m=\u001b[39m \u001b[43miris\u001b[49m\u001b[43m(\u001b[49m\u001b[43mtraining_size\u001b[49m\u001b[38;5;241;43m=\u001b[39;49m\u001b[38;5;241;43m0.7\u001b[39;49m\u001b[43m,\u001b[49m\u001b[43m \u001b[49m\u001b[43mtest_size\u001b[49m\u001b[38;5;241;43m=\u001b[39;49m\u001b[38;5;241;43m0.3\u001b[39;49m\u001b[43m,\u001b[49m\u001b[43m \u001b[49m\u001b[43mn\u001b[49m\u001b[38;5;241;43m=\u001b[39;49m\u001b[43mfeature_dim\u001b[49m\u001b[43m)\u001b[49m\n\u001b[1;32m      4\u001b[0m x_test, y_test \u001b[38;5;241m=\u001b[39m iris_test[\u001b[38;5;124m'\u001b[39m\u001b[38;5;124mA\u001b[39m\u001b[38;5;124m'\u001b[39m], iris_test[\u001b[38;5;124m'\u001b[39m\u001b[38;5;124mB\u001b[39m\u001b[38;5;124m'\u001b[39m]\n",
      "File \u001b[0;32m~/.local/lib/python3.10/site-packages/qiskit_machine_learning/deprecation.py:363\u001b[0m, in \u001b[0;36m_deprecate_object.<locals>.decorator.<locals>.wrapper\u001b[0;34m(*args, **kwargs)\u001b[0m\n\u001b[1;32m    361\u001b[0m     warnings\u001b[38;5;241m.\u001b[39mwarn(msg, \u001b[38;5;167;01mDeprecationWarning\u001b[39;00m, stacklevel\u001b[38;5;241m=\u001b[39mstack_level)\n\u001b[1;32m    362\u001b[0m     wrapper\u001b[38;5;241m.\u001b[39m_warned \u001b[38;5;241m=\u001b[39m \u001b[38;5;28;01mTrue\u001b[39;00m\n\u001b[0;32m--> 363\u001b[0m \u001b[38;5;28;01mreturn\u001b[39;00m \u001b[43mfunc\u001b[49m\u001b[43m(\u001b[49m\u001b[38;5;241;43m*\u001b[39;49m\u001b[43margs\u001b[49m\u001b[43m,\u001b[49m\u001b[43m \u001b[49m\u001b[38;5;241;43m*\u001b[39;49m\u001b[38;5;241;43m*\u001b[39;49m\u001b[43mkwargs\u001b[49m\u001b[43m)\u001b[49m\n",
      "File \u001b[0;32m~/.local/lib/python3.10/site-packages/qiskit_machine_learning/datasets/iris.py:56\u001b[0m, in \u001b[0;36miris\u001b[0;34m(training_size, test_size, n, plot_data, one_hot)\u001b[0m\n\u001b[1;32m     53\u001b[0m sample_test \u001b[38;5;241m=\u001b[39m minmax_scale\u001b[38;5;241m.\u001b[39mtransform(sample_test)\n\u001b[1;32m     55\u001b[0m \u001b[38;5;66;03m# Pick training size number of samples from each distro\u001b[39;00m\n\u001b[0;32m---> 56\u001b[0m training_input \u001b[38;5;241m=\u001b[39m {\n\u001b[1;32m     57\u001b[0m     key: (sample_train[label_train \u001b[38;5;241m==\u001b[39m k, :])[:training_size]\n\u001b[1;32m     58\u001b[0m     \u001b[38;5;28;01mfor\u001b[39;00m k, key \u001b[38;5;129;01min\u001b[39;00m \u001b[38;5;28menumerate\u001b[39m(class_labels)\n\u001b[1;32m     59\u001b[0m }\n\u001b[1;32m     60\u001b[0m test_input \u001b[38;5;241m=\u001b[39m {\n\u001b[1;32m     61\u001b[0m     key: (sample_test[label_test \u001b[38;5;241m==\u001b[39m k, :])[:test_size] \u001b[38;5;28;01mfor\u001b[39;00m k, key \u001b[38;5;129;01min\u001b[39;00m \u001b[38;5;28menumerate\u001b[39m(class_labels)\n\u001b[1;32m     62\u001b[0m }\n\u001b[1;32m     64\u001b[0m training_feature_array, training_label_array \u001b[38;5;241m=\u001b[39m features_and_labels_transform(\n\u001b[1;32m     65\u001b[0m     training_input, class_labels, one_hot\n\u001b[1;32m     66\u001b[0m )\n",
      "File \u001b[0;32m~/.local/lib/python3.10/site-packages/qiskit_machine_learning/datasets/iris.py:57\u001b[0m, in \u001b[0;36m<dictcomp>\u001b[0;34m(.0)\u001b[0m\n\u001b[1;32m     53\u001b[0m sample_test \u001b[38;5;241m=\u001b[39m minmax_scale\u001b[38;5;241m.\u001b[39mtransform(sample_test)\n\u001b[1;32m     55\u001b[0m \u001b[38;5;66;03m# Pick training size number of samples from each distro\u001b[39;00m\n\u001b[1;32m     56\u001b[0m training_input \u001b[38;5;241m=\u001b[39m {\n\u001b[0;32m---> 57\u001b[0m     key: \u001b[43m(\u001b[49m\u001b[43msample_train\u001b[49m\u001b[43m[\u001b[49m\u001b[43mlabel_train\u001b[49m\u001b[43m \u001b[49m\u001b[38;5;241;43m==\u001b[39;49m\u001b[43m \u001b[49m\u001b[43mk\u001b[49m\u001b[43m,\u001b[49m\u001b[43m \u001b[49m\u001b[43m:\u001b[49m\u001b[43m]\u001b[49m\u001b[43m)\u001b[49m\u001b[43m[\u001b[49m\u001b[43m:\u001b[49m\u001b[43mtraining_size\u001b[49m\u001b[43m]\u001b[49m\n\u001b[1;32m     58\u001b[0m     \u001b[38;5;28;01mfor\u001b[39;00m k, key \u001b[38;5;129;01min\u001b[39;00m \u001b[38;5;28menumerate\u001b[39m(class_labels)\n\u001b[1;32m     59\u001b[0m }\n\u001b[1;32m     60\u001b[0m test_input \u001b[38;5;241m=\u001b[39m {\n\u001b[1;32m     61\u001b[0m     key: (sample_test[label_test \u001b[38;5;241m==\u001b[39m k, :])[:test_size] \u001b[38;5;28;01mfor\u001b[39;00m k, key \u001b[38;5;129;01min\u001b[39;00m \u001b[38;5;28menumerate\u001b[39m(class_labels)\n\u001b[1;32m     62\u001b[0m }\n\u001b[1;32m     64\u001b[0m training_feature_array, training_label_array \u001b[38;5;241m=\u001b[39m features_and_labels_transform(\n\u001b[1;32m     65\u001b[0m     training_input, class_labels, one_hot\n\u001b[1;32m     66\u001b[0m )\n",
      "\u001b[0;31mTypeError\u001b[0m: slice indices must be integers or None or have an __index__ method"
     ]
    }
   ],
   "source": []
  }
 ],
 "metadata": {
  "kernelspec": {
   "display_name": "Python 3 (ipykernel)",
   "language": "python",
   "name": "python3"
  },
  "language_info": {
   "codemirror_mode": {
    "name": "ipython",
    "version": 3
   },
   "file_extension": ".py",
   "mimetype": "text/x-python",
   "name": "python",
   "nbconvert_exporter": "python",
   "pygments_lexer": "ipython3",
   "version": "3.10.6"
  }
 },
 "nbformat": 4,
 "nbformat_minor": 5
}
