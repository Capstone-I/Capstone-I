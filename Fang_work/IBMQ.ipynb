{
 "cells": [
  {
   "cell_type": "code",
   "execution_count": 1,
   "id": "a56ced5f-dbee-4540-a9e4-6b0c8b2d9a60",
   "metadata": {
    "tags": []
   },
   "outputs": [],
   "source": [
    "# Importing standard Qiskit libraries\n",
    "from qiskit import QuantumCircuit, transpile\n",
    "from qiskit.tools.jupyter import *\n",
    "from qiskit.visualization import *\n",
    "from ibm_quantum_widgets import *\n",
    "from qiskit_aer import AerSimulator\n",
    "\n",
    "# qiskit-ibmq-provider has been deprecated.\n",
    "# Please see the Migration Guides in https://ibm.biz/provider_migration_guide for more detail.\n",
    "from qiskit_ibm_runtime import QiskitRuntimeService, Sampler, Estimator, Session, Options\n",
    "\n",
    "# Loading your IBM Quantum account(s)\n",
    "service = QiskitRuntimeService(channel=\"ibm_quantum\")\n",
    "\n",
    "# Invoke a primitive inside a session. For more details see https://qiskit.org/documentation/partners/qiskit_ibm_runtime/tutorials.html\n",
    "# with Session(backend=service.backend(\"ibmq_qasm_simulator\")):\n",
    "#     result = Sampler().run(circuits).result()"
   ]
  },
  {
   "cell_type": "code",
   "execution_count": 2,
   "id": "44b48680-95d9-49f3-90b3-1d79664aa2bb",
   "metadata": {
    "tags": []
   },
   "outputs": [
    {
     "name": "stdout",
     "output_type": "stream",
     "text": [
      "Traceback \u001b[1;36m(most recent call last)\u001b[0m:\n",
      "\u001b[1;36m  Cell \u001b[1;32mIn[2], line 4\u001b[1;36m\n",
      "\u001b[1;33m    provider = IBMProvider(instance='ibm-q-asu/main/pi-deluca')\u001b[1;36m\n",
      "\u001b[1;31mNameError\u001b[0m\u001b[1;31m:\u001b[0m name 'IBMProvider' is not defined\n",
      "\n",
      "Use %tb to get the full traceback.\n"
     ]
    },
    {
     "data": {
      "text/html": [
       "\n",
       "<style>\n",
       ".button {\n",
       "  border: none;\n",
       "  color: white;\n",
       "  padding: 4px 8px;\n",
       "  text-align: center;\n",
       "  text-decoration: none;\n",
       "  display: inline-block;\n",
       "  font-size: 12px;\n",
       "  margin: 4px 2px;\n",
       "  transition-duration: 0.2s;\n",
       "  cursor: pointer;\n",
       "}\n",
       ".iqx-button {\n",
       "  background-color: #0f62fe; \n",
       "  color: white; \n",
       "}\n",
       ".iqx-button:hover {\n",
       "  background-color: #0043ce;\n",
       "  color: white;\n",
       "}\n",
       "</style>\n",
       "<a href=\"https://stackoverflow.com/search?q=NameError: name 'IBMProvider' is not defined\" target='_blank'><button class='button iqx-button'>Search for solution online</button></a>\n"
      ],
      "text/plain": [
       "<IPython.core.display.HTML object>"
      ]
     },
     "metadata": {},
     "output_type": "display_data"
    }
   ],
   "source": [
    "# Save your credentials on disk.\n",
    "# IBMProvider.save_account(token='<IBM Quantum API key>')\n",
    "\n",
    "provider = IBMProvider(instance='ibm-q-asu/main/pi-deluca')\n",
    "\n",
    "from qiskit_ibm_runtime import QiskitRuntimeService\n",
    "\n",
    "# Save your credentials on disk.\n",
    "# QiskitRuntimeService.save_account(channel='ibm_quantum', token=<IBM Quantum API key>)\n",
    "\n",
    "service = QiskitRuntimeService(\n",
    "    channel='ibm_quantum',\n",
    "    instance='ibm-q/open/main',\n",
    ")\n",
    "\n",
    "# replace TOKEN with your API token string (https://quantum-computing.ibm.com/lab/docs/iql/manage/account/ibmq)\n",
    "IBMQ.save_account(\"309740a41a986bb4ef392f4a88fe42bb3bf306977b29eb182c0560ce547fd6c155f2fdd870e3a1d32d334ce0e69f2c838e39eca623a597ed5bd5b6b59ce01fd8\", overwrite=True) \n",
    "provider = IBMQ.load_account()\n",
    "\n",
    "# Get backend for experiment\n",
    "#provider = IBMQ.get_provider(hub='ibm-q', group='open', project='main')\n",
    "#backend = provider.get_backend('ibmq_quito')\n",
    "\n",
    "# prepare the circuit for the backend\n",
    "mapped_circuit = transpile(circuit, backend=backend)\n",
    "qobj = assemble(mapped_circuit, backend=backend, shots=1024)\n",
    "\n",
    "# execute the circuit\n",
    "job = backend.run(qobj)\n"
   ]
  },
  {
   "cell_type": "code",
   "execution_count": 4,
   "id": "9dc6f6ab-8c1d-430c-b096-5b79bb0bd375",
   "metadata": {},
   "outputs": [
    {
     "name": "stdout",
     "output_type": "stream",
     "text": [
      "Traceback \u001b[1;36m(most recent call last)\u001b[0m:\n",
      "\u001b[1;36m  Cell \u001b[1;32mIn[4], line 4\u001b[1;36m\n",
      "\u001b[1;33m    provider = IBMProvider(instance='ibm-q-asu/main/pi-deluca')\u001b[1;36m\n",
      "\u001b[1;31mNameError\u001b[0m\u001b[1;31m:\u001b[0m name 'IBMProvider' is not defined\n",
      "\n",
      "Use %tb to get the full traceback.\n"
     ]
    },
    {
     "data": {
      "text/html": [
       "\n",
       "<style>\n",
       ".button {\n",
       "  border: none;\n",
       "  color: white;\n",
       "  padding: 4px 8px;\n",
       "  text-align: center;\n",
       "  text-decoration: none;\n",
       "  display: inline-block;\n",
       "  font-size: 12px;\n",
       "  margin: 4px 2px;\n",
       "  transition-duration: 0.2s;\n",
       "  cursor: pointer;\n",
       "}\n",
       ".iqx-button {\n",
       "  background-color: #0f62fe; \n",
       "  color: white; \n",
       "}\n",
       ".iqx-button:hover {\n",
       "  background-color: #0043ce;\n",
       "  color: white;\n",
       "}\n",
       "</style>\n",
       "<a href=\"https://stackoverflow.com/search?q=NameError: name 'IBMProvider' is not defined\" target='_blank'><button class='button iqx-button'>Search for solution online</button></a>\n"
      ],
      "text/plain": [
       "<IPython.core.display.HTML object>"
      ]
     },
     "metadata": {},
     "output_type": "display_data"
    }
   ],
   "source": [
    "# Save your credentials on disk.\n",
    "# IBMProvider.save_account(token='<IBM Quantum API key>')\n",
    "\n",
    "provider = IBMProvider(instance='ibm-q-asu/main/pi-deluca')\n",
    "\n",
    "from qiskit_ibm_runtime import QiskitRuntimeService\n",
    "\n",
    "# Save your credentials on disk.\n",
    "# QiskitRuntimeService.save_account(channel='ibm_quantum', token=<IBM Quantum API key>)\n",
    "\n",
    "service = QiskitRuntimeService(\n",
    "    channel='ibm_quantum',\n",
    "    instance='ibm-q/open/main',\n",
    ")\n",
    "\n",
    "# replace TOKEN with your API token string (https://quantum-computing.ibm.com/lab/docs/iql/manage/account/ibmq)\n",
    "IBMQ.save_account(\"d7a877f800d29c8810b1a51b48d8e0c22125b9137cc4aceec21026db78ebbc99dad913ad8e3a61b9dad3d079457ab928208a8a676ebc1b1f66ab2798fcd5c88a\", overwrite=True) \n",
    "provider = IBMQ.load_account()\n",
    "\n",
    "# Get backend for experiment\n",
    "#provider = IBMQ.get_provider(hub='ibm-q', group='open', project='main')\n",
    "#backend = provider.get_backend('ibmq_quito')\n",
    "\n",
    "# prepare the circuit for the backend\n",
    "mapped_circuit = transpile(circuit, backend=backend)\n",
    "qobj = assemble(mapped_circuit, backend=backend, shots=1024)\n",
    "\n",
    "# execute the circuit\n",
    "job = backend.run(qobj)"
   ]
  },
  {
   "cell_type": "code",
   "execution_count": 5,
   "id": "449f0d0c-6611-4a6c-a407-8e58b21d0414",
   "metadata": {
    "tags": []
   },
   "outputs": [
    {
     "name": "stderr",
     "output_type": "stream",
     "text": [
      "/opt/conda/lib/python3.10/site-packages/qiskit_ibm_provider/ibm_provider.py:297: UserWarning: Default hub/group/project ibm-q-asu/main/pi-deluca not found for the account and is ignored.\n",
      "  warnings.warn(\n",
      "/opt/conda/lib/python3.10/site-packages/qiskit_ibm_runtime/qiskit_runtime_service.py:448: UserWarning: Default hub/group/project ibm-q-asu/main/pi-deluca not found for the account and is ignored.\n",
      "  warnings.warn(\n"
     ]
    }
   ],
   "source": [
    "from qiskit_ibm_provider import IBMProvider\n",
    "\n",
    "# Save your credentials on disk.\n",
    "# IBMProvider.save_account(token='<IBM Quantum API key>')\n",
    "\n",
    "provider = IBMProvider(instance='ibm-q-asu/main/pi-deluca')\n",
    "\n",
    "from qiskit_ibm_runtime import QiskitRuntimeService\n",
    "\n",
    "# Save your credentials on disk.\n",
    "# QiskitRuntimeService.save_account(channel='ibm_quantum', token=<IBM Quantum API key>)\n",
    "\n",
    "service = QiskitRuntimeService(\n",
    "    channel='ibm_quantum',\n",
    "    instance='ibm-q-asu/main/pi-deluca',\n",
    ")"
   ]
  },
  {
   "cell_type": "code",
   "execution_count": 6,
   "id": "92b266fd-e4f3-47e2-8411-3aa6e6d99a96",
   "metadata": {
    "tags": []
   },
   "outputs": [
    {
     "name": "stdout",
     "output_type": "stream",
     "text": [
      "Traceback \u001b[1;36m(most recent call last)\u001b[0m:\n",
      "\u001b[1;36m  Cell \u001b[1;32mIn[6], line 2\u001b[1;36m\n",
      "\u001b[1;33m    IBMQ.save_account(\"TOKEN\", overwrite=True)\u001b[1;36m\n",
      "\u001b[1;31mNameError\u001b[0m\u001b[1;31m:\u001b[0m name 'IBMQ' is not defined\n",
      "\n",
      "Use %tb to get the full traceback.\n"
     ]
    },
    {
     "data": {
      "text/html": [
       "\n",
       "<style>\n",
       ".button {\n",
       "  border: none;\n",
       "  color: white;\n",
       "  padding: 4px 8px;\n",
       "  text-align: center;\n",
       "  text-decoration: none;\n",
       "  display: inline-block;\n",
       "  font-size: 12px;\n",
       "  margin: 4px 2px;\n",
       "  transition-duration: 0.2s;\n",
       "  cursor: pointer;\n",
       "}\n",
       ".iqx-button {\n",
       "  background-color: #0f62fe; \n",
       "  color: white; \n",
       "}\n",
       ".iqx-button:hover {\n",
       "  background-color: #0043ce;\n",
       "  color: white;\n",
       "}\n",
       "</style>\n",
       "<a href=\"https://stackoverflow.com/search?q=NameError: name 'IBMQ' is not defined\" target='_blank'><button class='button iqx-button'>Search for solution online</button></a>\n"
      ],
      "text/plain": [
       "<IPython.core.display.HTML object>"
      ]
     },
     "metadata": {},
     "output_type": "display_data"
    }
   ],
   "source": [
    " # replace TOKEN with your API token string (https://quantum-computing.ibm.com/lab/docs/iql/manage/account/ibmq)\n",
    "IBMQ.save_account(\"TOKEN\", overwrite=True) \n",
    "provider = IBMQ.load_account()"
   ]
  },
  {
   "cell_type": "code",
   "execution_count": 7,
   "id": "cb0e4b28-2674-4b43-af69-96ceaa048bfa",
   "metadata": {
    "tags": []
   },
   "outputs": [
    {
     "name": "stdout",
     "output_type": "stream",
     "text": [
      "Traceback \u001b[1;36m(most recent call last)\u001b[0m:\n",
      "\u001b[1;36m  Cell \u001b[1;32mIn[7], line 2\u001b[1;36m\n",
      "\u001b[1;33m    IBMQ.save_account(\"d7a877f800d29c8810b1a51b48d8e0c22125b9137cc4aceec21026db78ebbc99dad913ad8e3a61b9dad3d079457ab928208a8a676ebc1b1f66ab2798fcd5c88a\", overwrite=True)\u001b[1;36m\n",
      "\u001b[1;31mNameError\u001b[0m\u001b[1;31m:\u001b[0m name 'IBMQ' is not defined\n",
      "\n",
      "Use %tb to get the full traceback.\n"
     ]
    },
    {
     "data": {
      "text/html": [
       "\n",
       "<style>\n",
       ".button {\n",
       "  border: none;\n",
       "  color: white;\n",
       "  padding: 4px 8px;\n",
       "  text-align: center;\n",
       "  text-decoration: none;\n",
       "  display: inline-block;\n",
       "  font-size: 12px;\n",
       "  margin: 4px 2px;\n",
       "  transition-duration: 0.2s;\n",
       "  cursor: pointer;\n",
       "}\n",
       ".iqx-button {\n",
       "  background-color: #0f62fe; \n",
       "  color: white; \n",
       "}\n",
       ".iqx-button:hover {\n",
       "  background-color: #0043ce;\n",
       "  color: white;\n",
       "}\n",
       "</style>\n",
       "<a href=\"https://stackoverflow.com/search?q=NameError: name 'IBMQ' is not defined\" target='_blank'><button class='button iqx-button'>Search for solution online</button></a>\n"
      ],
      "text/plain": [
       "<IPython.core.display.HTML object>"
      ]
     },
     "metadata": {},
     "output_type": "display_data"
    }
   ],
   "source": [
    " # replace TOKEN with your API token string (https://quantum-computing.ibm.com/lab/docs/iql/manage/account/ibmq)\n",
    "IBMQ.save_account(\"d7a877f800d29c8810b1a51b48d8e0c22125b9137cc4aceec21026db78ebbc99dad913ad8e3a61b9dad3d079457ab928208a8a676ebc1b1f66ab2798fcd5c88a\", overwrite=True) \n",
    "provider = IBMQ.load_account()\n",
    "\n",
    "\n",
    "from qiskit import QuantumCircuit, QuantumRegister, ClassicalRegister, IBMQ, execute, transpile, Aer, assemble\n",
    "from qiskit.tools.monitor import job_monitor\n",
    "\n",
    "# Suppress warnings\n",
    "import warnings\n",
    "warnings.filterwarnings('ignore')\n",
    "\n",
    "qr = QuantumRegister(5)\n",
    "cr = ClassicalRegister(5)\n",
    "\n",
    "circuit = QuantumCircuit(qr, cr)\n",
    "circuit.x(qr[0])\n",
    "circuit.x(qr[1])\n",
    "circuit.ccx(qr[0], qr[1], qr[2])\n",
    "circuit.cx(qr[0], qr[1])\n",
    "circuit.measure(qr, cr)\n",
    "\n",
    "# Get backend for experiment\n",
    "provider = IBMQ.get_provider(hub='ibm-q', group='open', project='main')\n",
    "backend = provider.get_backend('ibmq_quito')\n",
    "\n",
    "# prepare the circuit for the backend\n",
    "mapped_circuit = transpile(circuit, backend=backend)\n",
    "qobj = assemble(mapped_circuit, backend=backend, shots=1024)\n",
    "\n",
    "# execute the circuit\n",
    "job = backend.run(qobj)"
   ]
  },
  {
   "cell_type": "code",
   "execution_count": 8,
   "id": "98f53540-7424-4ad3-ad5f-6a0f25580435",
   "metadata": {
    "tags": []
   },
   "outputs": [
    {
     "name": "stdout",
     "output_type": "stream",
     "text": [
      "Traceback \u001b[1;36m(most recent call last)\u001b[0m:\n",
      "\u001b[1;36m  Cell \u001b[1;32mIn[8], line 2\u001b[1;36m\n",
      "\u001b[1;33m    IBMQ.save_account(\"d7a877f800d29c8810b1a51b48d8e0c22125b9137cc4aceec21026db78ebbc99dad913ad8e3a61b9dad3d079457ab928208a8a676ebc1b1f66ab2798fcd5c88a\", overwrite=True)\u001b[1;36m\n",
      "\u001b[1;31mNameError\u001b[0m\u001b[1;31m:\u001b[0m name 'IBMQ' is not defined\n",
      "\n",
      "Use %tb to get the full traceback.\n"
     ]
    },
    {
     "data": {
      "text/html": [
       "\n",
       "<style>\n",
       ".button {\n",
       "  border: none;\n",
       "  color: white;\n",
       "  padding: 4px 8px;\n",
       "  text-align: center;\n",
       "  text-decoration: none;\n",
       "  display: inline-block;\n",
       "  font-size: 12px;\n",
       "  margin: 4px 2px;\n",
       "  transition-duration: 0.2s;\n",
       "  cursor: pointer;\n",
       "}\n",
       ".iqx-button {\n",
       "  background-color: #0f62fe; \n",
       "  color: white; \n",
       "}\n",
       ".iqx-button:hover {\n",
       "  background-color: #0043ce;\n",
       "  color: white;\n",
       "}\n",
       "</style>\n",
       "<a href=\"https://stackoverflow.com/search?q=NameError: name 'IBMQ' is not defined\" target='_blank'><button class='button iqx-button'>Search for solution online</button></a>\n"
      ],
      "text/plain": [
       "<IPython.core.display.HTML object>"
      ]
     },
     "metadata": {},
     "output_type": "display_data"
    }
   ],
   "source": [
    "Traceback (most recent call last):\n",
    "  Cell In[8], line 2\n",
    "    IBMQ.save_account(\"d7a877f800d29c8810b1a51b48d8e0c22125b9137cc4aceec21026db78ebbc99dad913ad8e3a61b9dad3d079457ab928208a8a676ebc1b1f66ab2798fcd5c88a\", overwrite=True)\n",
    "NameError: name 'IBMQ' is not defined"
   ]
  },
  {
   "cell_type": "code",
   "execution_count": 9,
   "id": "692b8741-a2ba-4a6f-8051-77a3ef84d956",
   "metadata": {
    "tags": []
   },
   "outputs": [
    {
     "name": "stderr",
     "output_type": "stream",
     "text": [
      "/tmp/ipykernel_61/4026955535.py:2: DeprecationWarning: The qiskit.IBMQ entrypoint and the qiskit-ibmq-provider package (accessible from 'qiskit.providers.ibmq`) are deprecated and will be removed in a future release. Instead you should use the qiskit-ibm-provider package which is accessible from 'qiskit_ibm_provider'. You can install it with 'pip install qiskit_ibm_provider'. Just replace 'qiskit.IBMQ' with 'qiskit_ibm_provider.IBMProvider'\n",
      "  IBMQ.save_account(\"d7a877f800d29c8810b1a51b48d8e0c22125b9137cc4aceec21026db78ebbc99dad913ad8e3a61b9dad3d079457ab928208a8a676ebc1b1f66ab2798fcd5c88a\", overwrite=True)\n"
     ]
    }
   ],
   "source": [
    "from qiskit import IBMQ\n",
    "IBMQ.save_account(\"d7a877f800d29c8810b1a51b48d8e0c22125b9137cc4aceec21026db78ebbc99dad913ad8e3a61b9dad3d079457ab928208a8a676ebc1b1f66ab2798fcd5c88a\", overwrite=True) \n",
    "provider = IBMQ.load_account()\n",
    "\n",
    "from qiskit import QuantumCircuit, QuantumRegister, ClassicalRegister, execute, transpile, Aer, assemble\n",
    "from qiskit.tools.monitor import job_monitor\n",
    "\n",
    "# Suppress warnings\n",
    "import warnings\n",
    "warnings.filterwarnings('ignore')\n",
    "\n",
    "qr = QuantumRegister(5)\n",
    "cr = ClassicalRegister(5)\n",
    "\n",
    "circuit = QuantumCircuit(qr, cr)\n",
    "circuit.x(qr[0])\n",
    "circuit.x(qr[1])\n",
    "circuit.ccx(qr[0], qr[1], qr[2])\n",
    "circuit.cx(qr[0], qr[1])\n",
    "circuit.measure(qr, cr)\n",
    "\n",
    "# Get backend for experiment\n",
    "provider = IBMQ.get_provider(hub='ibm-q', group='open', project='main')\n",
    "backend = provider.get_backend('ibmq_quito')\n",
    "\n",
    "# prepare the circuit for the backend\n",
    "mapped_circuit = transpile(circuit, backend=backend)\n",
    "qobj = assemble(mapped_circuit, backend=backend, shots=1024)\n",
    "\n",
    "# execute the circuit\n",
    "job = backend.run(qobj)\n"
   ]
  },
  {
   "cell_type": "code",
   "execution_count": 10,
   "id": "7efcaceb-c93b-485c-985d-b9c3ddd4e843",
   "metadata": {
    "tags": []
   },
   "outputs": [
    {
     "name": "stderr",
     "output_type": "stream",
     "text": [
      "ibmqfactory.load_account:WARNING:2023-03-24 20:42:08,069: Credentials are already in use. The existing account in the session will be replaced.\n"
     ]
    },
    {
     "name": "stdout",
     "output_type": "stream",
     "text": [
      "Traceback \u001b[1;36m(most recent call last)\u001b[0m:\n",
      "\u001b[0m  Cell \u001b[0;32mIn[10], line 23\u001b[0m\n",
      "    provider = IBMQ.get_provider(hub='ibm-q-asu-edu', group='open', project='main')\u001b[0m\n",
      "\u001b[1;36m  File \u001b[1;32m/opt/conda/lib/python3.10/site-packages/qiskit/providers/ibmq/ibmqfactory.py:423\u001b[1;36m in \u001b[1;35mget_provider\u001b[1;36m\n",
      "\u001b[1;33m    raise IBMQProviderError('No provider matches the specified criteria: '\u001b[1;36m\n",
      "\u001b[1;31mIBMQProviderError\u001b[0m\u001b[1;31m:\u001b[0m 'No provider matches the specified criteria: hub = ibm-q-asu-edu, group = open, project = main'\n",
      "\n",
      "Use %tb to get the full traceback.\n"
     ]
    },
    {
     "data": {
      "text/html": [
       "\n",
       "<style>\n",
       ".button {\n",
       "  border: none;\n",
       "  color: white;\n",
       "  padding: 4px 8px;\n",
       "  text-align: center;\n",
       "  text-decoration: none;\n",
       "  display: inline-block;\n",
       "  font-size: 12px;\n",
       "  margin: 4px 2px;\n",
       "  transition-duration: 0.2s;\n",
       "  cursor: pointer;\n",
       "}\n",
       ".iqx-button {\n",
       "  background-color: #0f62fe; \n",
       "  color: white; \n",
       "}\n",
       ".iqx-button:hover {\n",
       "  background-color: #0043ce;\n",
       "  color: white;\n",
       "}\n",
       "</style>\n",
       "<a href=\"https://stackoverflow.com/search?q=IBMQProviderError: No provider matches the specified criteria: hub = ibm-q-asu-edu, group = open, project = main\" target='_blank'><button class='button iqx-button'>Search for solution online</button></a>\n"
      ],
      "text/plain": [
       "<IPython.core.display.HTML object>"
      ]
     },
     "metadata": {},
     "output_type": "display_data"
    }
   ],
   "source": [
    "from qiskit import IBMQ\n",
    "IBMQ.save_account(\"d7a877f800d29c8810b1a51b48d8e0c22125b9137cc4aceec21026db78ebbc99dad913ad8e3a61b9dad3d079457ab928208a8a676ebc1b1f66ab2798fcd5c88a\", overwrite=True) \n",
    "provider = IBMQ.load_account()\n",
    "\n",
    "from qiskit import QuantumCircuit, QuantumRegister, ClassicalRegister, execute, transpile, Aer, assemble\n",
    "from qiskit.tools.monitor import job_monitor\n",
    "\n",
    "# Suppress warnings\n",
    "import warnings\n",
    "warnings.filterwarnings('ignore')\n",
    "\n",
    "qr = QuantumRegister(5)\n",
    "cr = ClassicalRegister(5)\n",
    "\n",
    "circuit = QuantumCircuit(qr, cr)\n",
    "circuit.x(qr[0])\n",
    "circuit.x(qr[1])\n",
    "circuit.ccx(qr[0], qr[1], qr[2])\n",
    "circuit.cx(qr[0], qr[1])\n",
    "circuit.measure(qr, cr)\n",
    "\n",
    "# Get backend for experiment\n",
    "provider = IBMQ.get_provider(hub='ibm-q-asu-edu', group='open', project='main')\n",
    "backend = provider.get_backend('ibmq_quito')\n",
    "\n",
    "# prepare the circuit for the backend\n",
    "mapped_circuit = transpile(circuit, backend=backend)\n",
    "qobj = assemble(mapped_circuit, backend=backend, shots=1024)\n",
    "\n",
    "# execute the circuit\n",
    "job = backend.run(qobj)\n"
   ]
  },
  {
   "cell_type": "code",
   "execution_count": 11,
   "id": "f3163791-1aaa-44c0-b4b4-0ca24fcb88f3",
   "metadata": {
    "tags": []
   },
   "outputs": [
    {
     "name": "stderr",
     "output_type": "stream",
     "text": [
      "ibmqfactory.load_account:WARNING:2023-03-24 20:42:38,615: Credentials are already in use. The existing account in the session will be replaced.\n"
     ]
    },
    {
     "name": "stdout",
     "output_type": "stream",
     "text": [
      "Traceback \u001b[1;36m(most recent call last)\u001b[0m:\n",
      "\u001b[0m  Cell \u001b[0;32mIn[11], line 23\u001b[0m\n",
      "    provider = IBMQ.get_provider(hub='ibm-q-asu', group='open', project='main')\u001b[0m\n",
      "\u001b[1;36m  File \u001b[1;32m/opt/conda/lib/python3.10/site-packages/qiskit/providers/ibmq/ibmqfactory.py:423\u001b[1;36m in \u001b[1;35mget_provider\u001b[1;36m\n",
      "\u001b[1;33m    raise IBMQProviderError('No provider matches the specified criteria: '\u001b[1;36m\n",
      "\u001b[1;31mIBMQProviderError\u001b[0m\u001b[1;31m:\u001b[0m 'No provider matches the specified criteria: hub = ibm-q-asu, group = open, project = main'\n",
      "\n",
      "Use %tb to get the full traceback.\n"
     ]
    },
    {
     "data": {
      "text/html": [
       "\n",
       "<style>\n",
       ".button {\n",
       "  border: none;\n",
       "  color: white;\n",
       "  padding: 4px 8px;\n",
       "  text-align: center;\n",
       "  text-decoration: none;\n",
       "  display: inline-block;\n",
       "  font-size: 12px;\n",
       "  margin: 4px 2px;\n",
       "  transition-duration: 0.2s;\n",
       "  cursor: pointer;\n",
       "}\n",
       ".iqx-button {\n",
       "  background-color: #0f62fe; \n",
       "  color: white; \n",
       "}\n",
       ".iqx-button:hover {\n",
       "  background-color: #0043ce;\n",
       "  color: white;\n",
       "}\n",
       "</style>\n",
       "<a href=\"https://stackoverflow.com/search?q=IBMQProviderError: No provider matches the specified criteria: hub = ibm-q-asu, group = open, project = main\" target='_blank'><button class='button iqx-button'>Search for solution online</button></a>\n"
      ],
      "text/plain": [
       "<IPython.core.display.HTML object>"
      ]
     },
     "metadata": {},
     "output_type": "display_data"
    }
   ],
   "source": [
    "from qiskit import IBMQ\n",
    "IBMQ.save_account(\"d7a877f800d29c8810b1a51b48d8e0c22125b9137cc4aceec21026db78ebbc99dad913ad8e3a61b9dad3d079457ab928208a8a676ebc1b1f66ab2798fcd5c88a\", overwrite=True) \n",
    "provider = IBMQ.load_account()\n",
    "\n",
    "from qiskit import QuantumCircuit, QuantumRegister, ClassicalRegister, execute, transpile, Aer, assemble\n",
    "from qiskit.tools.monitor import job_monitor\n",
    "\n",
    "# Suppress warnings\n",
    "import warnings\n",
    "warnings.filterwarnings('ignore')\n",
    "\n",
    "qr = QuantumRegister(5)\n",
    "cr = ClassicalRegister(5)\n",
    "\n",
    "circuit = QuantumCircuit(qr, cr)\n",
    "circuit.x(qr[0])\n",
    "circuit.x(qr[1])\n",
    "circuit.ccx(qr[0], qr[1], qr[2])\n",
    "circuit.cx(qr[0], qr[1])\n",
    "circuit.measure(qr, cr)\n",
    "\n",
    "# Get backend for experiment\n",
    "provider = IBMQ.get_provider(hub='ibm-q-asu', group='open', project='main')\n",
    "backend = provider.get_backend('ibmq_quito')\n",
    "\n",
    "# prepare the circuit for the backend\n",
    "mapped_circuit = transpile(circuit, backend=backend)\n",
    "qobj = assemble(mapped_circuit, backend=backend, shots=1024)\n",
    "\n",
    "# execute the circuit\n",
    "job = backend.run(qobj)\n"
   ]
  },
  {
   "cell_type": "code",
   "execution_count": 12,
   "id": "85a2217c-e732-4f86-b1db-ae6279e477e5",
   "metadata": {
    "tags": []
   },
   "outputs": [
    {
     "name": "stderr",
     "output_type": "stream",
     "text": [
      "ibmqfactory.load_account:WARNING:2023-03-24 20:43:09,734: Credentials are already in use. The existing account in the session will be replaced.\n"
     ]
    },
    {
     "name": "stdout",
     "output_type": "stream",
     "text": [
      "Traceback \u001b[1;36m(most recent call last)\u001b[0m:\n",
      "\u001b[0m  Cell \u001b[0;32mIn[12], line 23\u001b[0m\n",
      "    provider = IBMQ.get_provider(hub='ibm-q-asu', project='main')\u001b[0m\n",
      "\u001b[1;36m  File \u001b[1;32m/opt/conda/lib/python3.10/site-packages/qiskit/providers/ibmq/ibmqfactory.py:423\u001b[1;36m in \u001b[1;35mget_provider\u001b[1;36m\n",
      "\u001b[1;33m    raise IBMQProviderError('No provider matches the specified criteria: '\u001b[1;36m\n",
      "\u001b[1;31mIBMQProviderError\u001b[0m\u001b[1;31m:\u001b[0m 'No provider matches the specified criteria: hub = ibm-q-asu, group = None, project = main'\n",
      "\n",
      "Use %tb to get the full traceback.\n"
     ]
    },
    {
     "data": {
      "text/html": [
       "\n",
       "<style>\n",
       ".button {\n",
       "  border: none;\n",
       "  color: white;\n",
       "  padding: 4px 8px;\n",
       "  text-align: center;\n",
       "  text-decoration: none;\n",
       "  display: inline-block;\n",
       "  font-size: 12px;\n",
       "  margin: 4px 2px;\n",
       "  transition-duration: 0.2s;\n",
       "  cursor: pointer;\n",
       "}\n",
       ".iqx-button {\n",
       "  background-color: #0f62fe; \n",
       "  color: white; \n",
       "}\n",
       ".iqx-button:hover {\n",
       "  background-color: #0043ce;\n",
       "  color: white;\n",
       "}\n",
       "</style>\n",
       "<a href=\"https://stackoverflow.com/search?q=IBMQProviderError: No provider matches the specified criteria: hub = ibm-q-asu, group = None, project = main\" target='_blank'><button class='button iqx-button'>Search for solution online</button></a>\n"
      ],
      "text/plain": [
       "<IPython.core.display.HTML object>"
      ]
     },
     "metadata": {},
     "output_type": "display_data"
    }
   ],
   "source": [
    "from qiskit import IBMQ\n",
    "IBMQ.save_account(\"d7a877f800d29c8810b1a51b48d8e0c22125b9137cc4aceec21026db78ebbc99dad913ad8e3a61b9dad3d079457ab928208a8a676ebc1b1f66ab2798fcd5c88a\", overwrite=True) \n",
    "provider = IBMQ.load_account()\n",
    "\n",
    "from qiskit import QuantumCircuit, QuantumRegister, ClassicalRegister, execute, transpile, Aer, assemble\n",
    "from qiskit.tools.monitor import job_monitor\n",
    "\n",
    "# Suppress warnings\n",
    "import warnings\n",
    "warnings.filterwarnings('ignore')\n",
    "\n",
    "qr = QuantumRegister(5)\n",
    "cr = ClassicalRegister(5)\n",
    "\n",
    "circuit = QuantumCircuit(qr, cr)\n",
    "circuit.x(qr[0])\n",
    "circuit.x(qr[1])\n",
    "circuit.ccx(qr[0], qr[1], qr[2])\n",
    "circuit.cx(qr[0], qr[1])\n",
    "circuit.measure(qr, cr)\n",
    "\n",
    "# Get backend for experiment\n",
    "provider = IBMQ.get_provider(hub='ibm-q-asu', project='main')\n",
    "backend = provider.get_backend('ibmq_quito')\n",
    "\n",
    "# prepare the circuit for the backend\n",
    "mapped_circuit = transpile(circuit, backend=backend)\n",
    "qobj = assemble(mapped_circuit, backend=backend, shots=1024)\n",
    "\n",
    "# execute the circuit\n",
    "job = backend.run(qobj)"
   ]
  },
  {
   "cell_type": "code",
   "execution_count": 13,
   "id": "33c8b568-6f02-4792-ae60-2910ec02ffaa",
   "metadata": {
    "tags": []
   },
   "outputs": [
    {
     "name": "stderr",
     "output_type": "stream",
     "text": [
      "ibmqfactory.load_account:WARNING:2023-03-24 20:43:20,467: Credentials are already in use. The existing account in the session will be replaced.\n"
     ]
    },
    {
     "name": "stdout",
     "output_type": "stream",
     "text": [
      "Traceback \u001b[1;36m(most recent call last)\u001b[0m:\n",
      "\u001b[0m  Cell \u001b[0;32mIn[13], line 23\u001b[0m\n",
      "    provider = IBMQ.get_provider(hub='ibm-q-asu')\u001b[0m\n",
      "\u001b[1;36m  File \u001b[1;32m/opt/conda/lib/python3.10/site-packages/qiskit/providers/ibmq/ibmqfactory.py:423\u001b[1;36m in \u001b[1;35mget_provider\u001b[1;36m\n",
      "\u001b[1;33m    raise IBMQProviderError('No provider matches the specified criteria: '\u001b[1;36m\n",
      "\u001b[1;31mIBMQProviderError\u001b[0m\u001b[1;31m:\u001b[0m 'No provider matches the specified criteria: hub = ibm-q-asu, group = None, project = None'\n",
      "\n",
      "Use %tb to get the full traceback.\n"
     ]
    },
    {
     "data": {
      "text/html": [
       "\n",
       "<style>\n",
       ".button {\n",
       "  border: none;\n",
       "  color: white;\n",
       "  padding: 4px 8px;\n",
       "  text-align: center;\n",
       "  text-decoration: none;\n",
       "  display: inline-block;\n",
       "  font-size: 12px;\n",
       "  margin: 4px 2px;\n",
       "  transition-duration: 0.2s;\n",
       "  cursor: pointer;\n",
       "}\n",
       ".iqx-button {\n",
       "  background-color: #0f62fe; \n",
       "  color: white; \n",
       "}\n",
       ".iqx-button:hover {\n",
       "  background-color: #0043ce;\n",
       "  color: white;\n",
       "}\n",
       "</style>\n",
       "<a href=\"https://stackoverflow.com/search?q=IBMQProviderError: No provider matches the specified criteria: hub = ibm-q-asu, group = None, project = None\" target='_blank'><button class='button iqx-button'>Search for solution online</button></a>\n"
      ],
      "text/plain": [
       "<IPython.core.display.HTML object>"
      ]
     },
     "metadata": {},
     "output_type": "display_data"
    }
   ],
   "source": [
    "from qiskit import IBMQ\n",
    "IBMQ.save_account(\"d7a877f800d29c8810b1a51b48d8e0c22125b9137cc4aceec21026db78ebbc99dad913ad8e3a61b9dad3d079457ab928208a8a676ebc1b1f66ab2798fcd5c88a\", overwrite=True) \n",
    "provider = IBMQ.load_account()\n",
    "\n",
    "from qiskit import QuantumCircuit, QuantumRegister, ClassicalRegister, execute, transpile, Aer, assemble\n",
    "from qiskit.tools.monitor import job_monitor\n",
    "\n",
    "# Suppress warnings\n",
    "import warnings\n",
    "warnings.filterwarnings('ignore')\n",
    "\n",
    "qr = QuantumRegister(5)\n",
    "cr = ClassicalRegister(5)\n",
    "\n",
    "circuit = QuantumCircuit(qr, cr)\n",
    "circuit.x(qr[0])\n",
    "circuit.x(qr[1])\n",
    "circuit.ccx(qr[0], qr[1], qr[2])\n",
    "circuit.cx(qr[0], qr[1])\n",
    "circuit.measure(qr, cr)\n",
    "\n",
    "# Get backend for experiment\n",
    "provider = IBMQ.get_provider(hub='ibm-q-asu')\n",
    "backend = provider.get_backend('ibmq_quito')\n",
    "\n",
    "# prepare the circuit for the backend\n",
    "mapped_circuit = transpile(circuit, backend=backend)\n",
    "qobj = assemble(mapped_circuit, backend=backend, shots=1024)\n",
    "\n",
    "# execute the circuit\n",
    "job = backend.run(qobj)"
   ]
  },
  {
   "cell_type": "code",
   "execution_count": 14,
   "id": "2770d10c-99aa-4ebb-a8b6-e76bfe24b8d7",
   "metadata": {
    "tags": []
   },
   "outputs": [
    {
     "name": "stderr",
     "output_type": "stream",
     "text": [
      "ibmqfactory.load_account:WARNING:2023-03-24 20:48:38,879: Credentials are already in use. The existing account in the session will be replaced.\n"
     ]
    },
    {
     "name": "stdout",
     "output_type": "stream",
     "text": [
      "Traceback \u001b[1;36m(most recent call last)\u001b[0m:\n",
      "\u001b[0m  Cell \u001b[0;32mIn[14], line 23\u001b[0m\n",
      "    provider = IBMQ.get_provider(hub='ibm-q-asu')\u001b[0m\n",
      "\u001b[1;36m  File \u001b[1;32m/opt/conda/lib/python3.10/site-packages/qiskit/providers/ibmq/ibmqfactory.py:423\u001b[1;36m in \u001b[1;35mget_provider\u001b[1;36m\n",
      "\u001b[1;33m    raise IBMQProviderError('No provider matches the specified criteria: '\u001b[1;36m\n",
      "\u001b[1;31mIBMQProviderError\u001b[0m\u001b[1;31m:\u001b[0m 'No provider matches the specified criteria: hub = ibm-q-asu, group = None, project = None'\n",
      "\n",
      "Use %tb to get the full traceback.\n"
     ]
    },
    {
     "data": {
      "text/html": [
       "\n",
       "<style>\n",
       ".button {\n",
       "  border: none;\n",
       "  color: white;\n",
       "  padding: 4px 8px;\n",
       "  text-align: center;\n",
       "  text-decoration: none;\n",
       "  display: inline-block;\n",
       "  font-size: 12px;\n",
       "  margin: 4px 2px;\n",
       "  transition-duration: 0.2s;\n",
       "  cursor: pointer;\n",
       "}\n",
       ".iqx-button {\n",
       "  background-color: #0f62fe; \n",
       "  color: white; \n",
       "}\n",
       ".iqx-button:hover {\n",
       "  background-color: #0043ce;\n",
       "  color: white;\n",
       "}\n",
       "</style>\n",
       "<a href=\"https://stackoverflow.com/search?q=IBMQProviderError: No provider matches the specified criteria: hub = ibm-q-asu, group = None, project = None\" target='_blank'><button class='button iqx-button'>Search for solution online</button></a>\n"
      ],
      "text/plain": [
       "<IPython.core.display.HTML object>"
      ]
     },
     "metadata": {},
     "output_type": "display_data"
    }
   ],
   "source": [
    "from qiskit import IBMQ\n",
    "IBMQ.save_account(\"d7a877f800d29c8810b1a51b48d8e0c22125b9137cc4aceec21026db78ebbc99dad913ad8e3a61b9dad3d079457ab928208a8a676ebc1b1f66ab2798fcd5c88a\", overwrite=True) \n",
    "provider = IBMQ.load_account()\n",
    "\n",
    "from qiskit import QuantumCircuit, QuantumRegister, ClassicalRegister, execute, transpile, Aer, assemble\n",
    "from qiskit.tools.monitor import job_monitor\n",
    "\n",
    "# Suppress warnings\n",
    "import warnings\n",
    "warnings.filterwarnings('ignore')\n",
    "\n",
    "qr = QuantumRegister(5)\n",
    "cr = ClassicalRegister(5)\n",
    "\n",
    "circuit = QuantumCircuit(qr, cr)\n",
    "circuit.x(qr[0])\n",
    "circuit.x(qr[1])\n",
    "circuit.ccx(qr[0], qr[1], qr[2])\n",
    "circuit.cx(qr[0], qr[1])\n",
    "circuit.measure(qr, cr)\n",
    "\n",
    "# Get backend for experiment\n",
    "provider = IBMQ.get_provider(hub='ibm-q-asu')\n",
    "backend = provider.get_backend('ibmq_quito')\n",
    "\n",
    "# prepare the circuit for the backend\n",
    "mapped_circuit = transpile(circuit, backend=backend)\n",
    "qobj = assemble(mapped_circuit, backend=backend, shots=1024)\n",
    "\n",
    "# execute the circuit\n",
    "job = backend.run(qobj)"
   ]
  },
  {
   "cell_type": "code",
   "execution_count": 15,
   "id": "0ece80ee-2b14-43ec-b0cb-3bf29548023e",
   "metadata": {
    "tags": []
   },
   "outputs": [
    {
     "name": "stderr",
     "output_type": "stream",
     "text": [
      "ibmqfactory.load_account:WARNING:2023-03-24 21:00:19,053: Credentials are already in use. The existing account in the session will be replaced.\n"
     ]
    },
    {
     "name": "stdout",
     "output_type": "stream",
     "text": [
      "Traceback \u001b[1;36m(most recent call last)\u001b[0m:\n",
      "\u001b[0m  Cell \u001b[0;32mIn[15], line 28\u001b[0m\n",
      "    provider = IBMQ.get_provider(hub='ibm-q-asu')\u001b[0m\n",
      "\u001b[1;36m  File \u001b[1;32m/opt/conda/lib/python3.10/site-packages/qiskit/providers/ibmq/ibmqfactory.py:423\u001b[1;36m in \u001b[1;35mget_provider\u001b[1;36m\n",
      "\u001b[1;33m    raise IBMQProviderError('No provider matches the specified criteria: '\u001b[1;36m\n",
      "\u001b[1;31mIBMQProviderError\u001b[0m\u001b[1;31m:\u001b[0m 'No provider matches the specified criteria: hub = ibm-q-asu, group = None, project = None'\n",
      "\n",
      "Use %tb to get the full traceback.\n"
     ]
    },
    {
     "data": {
      "text/html": [
       "\n",
       "<style>\n",
       ".button {\n",
       "  border: none;\n",
       "  color: white;\n",
       "  padding: 4px 8px;\n",
       "  text-align: center;\n",
       "  text-decoration: none;\n",
       "  display: inline-block;\n",
       "  font-size: 12px;\n",
       "  margin: 4px 2px;\n",
       "  transition-duration: 0.2s;\n",
       "  cursor: pointer;\n",
       "}\n",
       ".iqx-button {\n",
       "  background-color: #0f62fe; \n",
       "  color: white; \n",
       "}\n",
       ".iqx-button:hover {\n",
       "  background-color: #0043ce;\n",
       "  color: white;\n",
       "}\n",
       "</style>\n",
       "<a href=\"https://stackoverflow.com/search?q=IBMQProviderError: No provider matches the specified criteria: hub = ibm-q-asu, group = None, project = None\" target='_blank'><button class='button iqx-button'>Search for solution online</button></a>\n"
      ],
      "text/plain": [
       "<IPython.core.display.HTML object>"
      ]
     },
     "metadata": {},
     "output_type": "display_data"
    }
   ],
   "source": [
    "from qiskit import IBMQ\n",
    "\n",
    "# Save account\n",
    "IBMQ.save_account(\"d7a877f800d29c8810b1a51b48d8e0c22125b9137cc4aceec21026db78ebbc99dad913ad8e3a61b9dad3d079457ab928208a8a676ebc1b1f66ab2798fcd5c88a\", overwrite=True) \n",
    "\n",
    "# Load account\n",
    "provider = IBMQ.load_account()\n",
    "\n",
    "# Rest of the code\n",
    "from qiskit import QuantumCircuit, QuantumRegister, ClassicalRegister, execute, transpile, Aer, assemble\n",
    "from qiskit.tools.monitor import job_monitor\n",
    "\n",
    "# Suppress warnings\n",
    "import warnings\n",
    "warnings.filterwarnings('ignore')\n",
    "\n",
    "qr = QuantumRegister(5)\n",
    "cr = ClassicalRegister(5)\n",
    "\n",
    "circuit = QuantumCircuit(qr, cr)\n",
    "circuit.x(qr[0])\n",
    "circuit.x(qr[1])\n",
    "circuit.ccx(qr[0], qr[1], qr[2])\n",
    "circuit.cx(qr[0], qr[1])\n",
    "circuit.measure(qr, cr)\n",
    "\n",
    "# Get backend for experiment\n",
    "provider = IBMQ.get_provider(hub='ibm-q-asu')\n",
    "backend = provider.get_backend('ibmq_quito')\n",
    "\n",
    "# prepare the circuit for the backend\n",
    "mapped_circuit = transpile(circuit, backend=backend)\n",
    "qobj = assemble(mapped_circuit, backend=backend, shots=1024)\n",
    "\n",
    "# execute the circuit\n",
    "job = backend.run(qobj)\n",
    "\n"
   ]
  },
  {
   "cell_type": "code",
   "execution_count": 16,
   "id": "5ec89a8b-1629-43e3-acd4-874bd41dd7a0",
   "metadata": {},
   "outputs": [
    {
     "name": "stderr",
     "output_type": "stream",
     "text": [
      "ibmqfactory.load_account:WARNING:2023-03-24 21:14:54,752: Credentials are already in use. The existing account in the session will be replaced.\n",
      "ibmqfactory.load_account:WARNING:2023-03-24 21:14:57,386: Credentials are already in use. The existing account in the session will be replaced.\n"
     ]
    },
    {
     "name": "stdout",
     "output_type": "stream",
     "text": [
      "Traceback \u001b[1;36m(most recent call last)\u001b[0m:\n",
      "\u001b[0m  Cell \u001b[0;32mIn[16], line 24\u001b[0m\n",
      "    provider = IBMQ.get_provider(hub='ibm-q-asu')\u001b[0m\n",
      "\u001b[1;36m  File \u001b[1;32m/opt/conda/lib/python3.10/site-packages/qiskit/providers/ibmq/ibmqfactory.py:423\u001b[1;36m in \u001b[1;35mget_provider\u001b[1;36m\n",
      "\u001b[1;33m    raise IBMQProviderError('No provider matches the specified criteria: '\u001b[1;36m\n",
      "\u001b[1;31mIBMQProviderError\u001b[0m\u001b[1;31m:\u001b[0m 'No provider matches the specified criteria: hub = ibm-q-asu, group = None, project = None'\n",
      "\n",
      "Use %tb to get the full traceback.\n"
     ]
    },
    {
     "data": {
      "text/html": [
       "\n",
       "<style>\n",
       ".button {\n",
       "  border: none;\n",
       "  color: white;\n",
       "  padding: 4px 8px;\n",
       "  text-align: center;\n",
       "  text-decoration: none;\n",
       "  display: inline-block;\n",
       "  font-size: 12px;\n",
       "  margin: 4px 2px;\n",
       "  transition-duration: 0.2s;\n",
       "  cursor: pointer;\n",
       "}\n",
       ".iqx-button {\n",
       "  background-color: #0f62fe; \n",
       "  color: white; \n",
       "}\n",
       ".iqx-button:hover {\n",
       "  background-color: #0043ce;\n",
       "  color: white;\n",
       "}\n",
       "</style>\n",
       "<a href=\"https://stackoverflow.com/search?q=IBMQProviderError: No provider matches the specified criteria: hub = ibm-q-asu, group = None, project = None\" target='_blank'><button class='button iqx-button'>Search for solution online</button></a>\n"
      ],
      "text/plain": [
       "<IPython.core.display.HTML object>"
      ]
     },
     "metadata": {},
     "output_type": "display_data"
    }
   ],
   "source": [
    "from qiskit import IBMQ\n",
    "IBMQ.save_account(\"d7a877f800d29c8810b1a51b48d8e0c22125b9137cc4aceec21026db78ebbc99dad913ad8e3a61b9dad3d079457ab928208a8a676ebc1b1f66ab2798fcd5c88a\", overwrite=True) \n",
    "provider = IBMQ.load_account()\n",
    "\n",
    "from qiskit import QuantumCircuit, QuantumRegister, ClassicalRegister, execute, transpile, Aer, assemble\n",
    "from qiskit.tools.monitor import job_monitor\n",
    "\n",
    "# Suppress warnings\n",
    "import warnings\n",
    "warnings.filterwarnings('ignore')\n",
    "\n",
    "qr = QuantumRegister(5)\n",
    "cr = ClassicalRegister(5)\n",
    "\n",
    "circuit = QuantumCircuit(qr, cr)\n",
    "circuit.x(qr[0])\n",
    "circuit.x(qr[1])\n",
    "circuit.ccx(qr[0], qr[1], qr[2])\n",
    "circuit.cx(qr[0], qr[1])\n",
    "circuit.measure(qr, cr)\n",
    "\n",
    "# Get backend for experiment\n",
    "IBMQ.load_account()\n",
    "provider = IBMQ.get_provider(hub='ibm-q-asu')\n",
    "backend = provider.get_backend('ibmq_quito')\n",
    "\n",
    "# prepare the circuit for the backend\n",
    "mapped_circuit = transpile(circuit, backend=backend)\n",
    "qobj = assemble(mapped_circuit, backend=backend, shots=1024)\n",
    "\n",
    "# execute the circuit\n",
    "job = backend.run(qobj)"
   ]
  },
  {
   "cell_type": "code",
   "execution_count": 17,
   "id": "d6f41abf-7f9a-4fee-bde2-531c159150c7",
   "metadata": {
    "tags": []
   },
   "outputs": [
    {
     "name": "stderr",
     "output_type": "stream",
     "text": [
      "ibmqfactory.load_account:WARNING:2023-03-24 21:17:30,386: Credentials are already in use. The existing account in the session will be replaced.\n",
      "ibmqfactory.load_account:WARNING:2023-03-24 21:17:33,217: Credentials are already in use. The existing account in the session will be replaced.\n"
     ]
    },
    {
     "name": "stdout",
     "output_type": "stream",
     "text": [
      "Traceback \u001b[1;36m(most recent call last)\u001b[0m:\n",
      "\u001b[0m  Cell \u001b[0;32mIn[17], line 24\u001b[0m\n",
      "    provider = IBMQ.get_provider(hub='ibm-q-asu')\u001b[0m\n",
      "\u001b[1;36m  File \u001b[1;32m/opt/conda/lib/python3.10/site-packages/qiskit/providers/ibmq/ibmqfactory.py:423\u001b[1;36m in \u001b[1;35mget_provider\u001b[1;36m\n",
      "\u001b[1;33m    raise IBMQProviderError('No provider matches the specified criteria: '\u001b[1;36m\n",
      "\u001b[1;31mIBMQProviderError\u001b[0m\u001b[1;31m:\u001b[0m 'No provider matches the specified criteria: hub = ibm-q-asu, group = None, project = None'\n",
      "\n",
      "Use %tb to get the full traceback.\n"
     ]
    },
    {
     "data": {
      "text/html": [
       "\n",
       "<style>\n",
       ".button {\n",
       "  border: none;\n",
       "  color: white;\n",
       "  padding: 4px 8px;\n",
       "  text-align: center;\n",
       "  text-decoration: none;\n",
       "  display: inline-block;\n",
       "  font-size: 12px;\n",
       "  margin: 4px 2px;\n",
       "  transition-duration: 0.2s;\n",
       "  cursor: pointer;\n",
       "}\n",
       ".iqx-button {\n",
       "  background-color: #0f62fe; \n",
       "  color: white; \n",
       "}\n",
       ".iqx-button:hover {\n",
       "  background-color: #0043ce;\n",
       "  color: white;\n",
       "}\n",
       "</style>\n",
       "<a href=\"https://stackoverflow.com/search?q=IBMQProviderError: No provider matches the specified criteria: hub = ibm-q-asu, group = None, project = None\" target='_blank'><button class='button iqx-button'>Search for solution online</button></a>\n"
      ],
      "text/plain": [
       "<IPython.core.display.HTML object>"
      ]
     },
     "metadata": {},
     "output_type": "display_data"
    }
   ],
   "source": [
    "from qiskit import IBMQ\n",
    "IBMQ.save_account(\"d7a877f800d29c8810b1a51b48d8e0c22125b9137cc4aceec21026db78ebbc99dad913ad8e3a61b9dad3d079457ab928208a8a676ebc1b1f66ab2798fcd5c88a\", overwrite=True) \n",
    "provider = IBMQ.load_account()\n",
    "\n",
    "from qiskit import QuantumCircuit, QuantumRegister, ClassicalRegister, execute, transpile, Aer, assemble\n",
    "from qiskit.tools.monitor import job_monitor\n",
    "\n",
    "# Suppress warnings\n",
    "import warnings\n",
    "warnings.filterwarnings('ignore')\n",
    "\n",
    "qr = QuantumRegister(5)\n",
    "cr = ClassicalRegister(5)\n",
    "\n",
    "circuit = QuantumCircuit(qr, cr)\n",
    "circuit.x(qr[0])\n",
    "circuit.x(qr[1])\n",
    "circuit.ccx(qr[0], qr[1], qr[2])\n",
    "circuit.cx(qr[0], qr[1])\n",
    "circuit.measure(qr, cr)\n",
    "\n",
    "# Get backend for experiment\n",
    "IBMQ.load_account()\n",
    "provider = IBMQ.get_provider(hub='ibm-q-asu')\n",
    "backend = provider.get_backend('ibmq_quito')\n",
    "\n",
    "# prepare the circuit for the backend\n",
    "mapped_circuit = transpile(circuit, backend=backend)\n",
    "qobj = assemble(mapped_circuit, backend=backend, shots=1024)\n",
    "\n",
    "# execute the circuit\n",
    "job = backend.run(qobj)"
   ]
  },
  {
   "cell_type": "code",
   "execution_count": null,
   "id": "b2842020-91b1-4c0a-9b6b-37a47a52c7c3",
   "metadata": {},
   "outputs": [],
   "source": []
  }
 ],
 "metadata": {
  "kernelspec": {
   "display_name": "Python 3 (ipykernel)",
   "language": "python",
   "name": "python3"
  },
  "language_info": {
   "codemirror_mode": {
    "name": "ipython",
    "version": 3
   },
   "file_extension": ".py",
   "mimetype": "text/x-python",
   "name": "python",
   "nbconvert_exporter": "python",
   "pygments_lexer": "ipython3",
   "version": "3.10.8"
  },
  "widgets": {
   "application/vnd.jupyter.widget-state+json": {
    "state": {
     "0446c923ba324a84a0ba0ae9de0a4920": {
      "model_module": "@jupyter-widgets/controls",
      "model_module_version": "2.0.0",
      "model_name": "ButtonStyleModel",
      "state": {
       "font_family": null,
       "font_size": null,
       "font_style": null,
       "font_variant": null,
       "font_weight": null,
       "text_color": null,
       "text_decoration": null
      }
     },
     "0dd5dd38b29b459db22910ce3ebfcd58": {
      "model_module": "@jupyter-widgets/controls",
      "model_module_version": "2.0.0",
      "model_name": "HTMLStyleModel",
      "state": {
       "description_width": "",
       "font_size": null,
       "text_color": null
      }
     },
     "17ae642f01a249cfb2a042ecc5551583": {
      "model_module": "@quantum/lab-widgets",
      "model_module_version": "4.0.17",
      "model_name": "CircuitComposerModel",
      "state": {
       "circuit": "\"OPENQASM 2.0;\\ninclude \\\"qelib1.inc\\\";\\nqreg q[5];\\ncreg c[1];\\nsx q[2];\\nrz(-1.7735653242208347) q[2];\\nsx q[2];\\nrz(-1.8708889578374386) q[2];\\nbarrier q[2],q[0],q[1];\\nrz(pi/2) q[1];\\nsx q[1];\\nrz(pi/2) q[1];\\ncx q[1],q[0];\\nbarrier q[2],q[0],q[1];\\ncx q[2],q[1];\\nrz(pi/2) q[2];\\nsx q[2];\\nrz(pi/2) q[2];\\nbarrier q[2],q[0],q[1];\\ncx q[1],q[0];\\nrz(pi/2) q[0];\\nsx q[0];\\nrz(pi/2) q[0];\\ncx q[1],q[2];\\ncx q[2],q[1];\\ncx q[1],q[2];\\ncx q[1],q[0];\\nrz(-1.7827755683360094) q[0];\\nsx q[0];\\nrz(-1.8645555795380764) q[0];\\nsx q[0];\\nrz(1.6330311594885991) q[0];\\nbarrier q[4],q[1],q[0],q[3],q[2];\\nmeasure q[0] -> c[0];\\n\"",
       "editable": true,
       "layout": "IPY_MODEL_3f1233b136b040f3881455758bc6851c",
       "qiskit_code_cell_index": -1
      }
     },
     "250c47dc532d485c9dfce82fb698587c": {
      "model_module": "@jupyter-widgets/controls",
      "model_module_version": "2.0.0",
      "model_name": "HTMLModel",
      "state": {
       "layout": "IPY_MODEL_b76d4a7dabd04fa0ab938cd86020a620",
       "style": "IPY_MODEL_e46230da0b3247c199d6d77e0c8db6ad",
       "value": "QUEUED"
      }
     },
     "39489bdaf0e54c82902dbe2e8116e864": {
      "model_module": "@jupyter-widgets/base",
      "model_module_version": "2.0.0",
      "model_name": "LayoutModel",
      "state": {
       "margin": "0px 0px 0px 37px",
       "width": "600px"
      }
     },
     "3a3e9b9cc71f47beadf41f53acac4f17": {
      "model_module": "@jupyter-widgets/base",
      "model_module_version": "2.0.0",
      "model_name": "LayoutModel",
      "state": {
       "grid_template_areas": "\n                                       \". . . . right \"\n                                        ",
       "grid_template_columns": "20% 20% 20% 20% 20%",
       "width": "100%"
      }
     },
     "3f1233b136b040f3881455758bc6851c": {
      "model_module": "@jupyter-widgets/base",
      "model_module_version": "2.0.0",
      "model_name": "LayoutModel",
      "state": {}
     },
     "42b6fe4b591645e4b9e74b4f9263f3c3": {
      "model_module": "@jupyter-widgets/controls",
      "model_module_version": "2.0.0",
      "model_name": "HTMLStyleModel",
      "state": {
       "description_width": "",
       "font_size": null,
       "text_color": null
      }
     },
     "433e0b43df7e466b8c21334cb730bf29": {
      "model_module": "@jupyter-widgets/controls",
      "model_module_version": "2.0.0",
      "model_name": "HTMLStyleModel",
      "state": {
       "description_width": "",
       "font_size": null,
       "text_color": null
      }
     },
     "4588bb9ca7d94f0cb3409d7c61e5d3ff": {
      "model_module": "@jupyter-widgets/controls",
      "model_module_version": "2.0.0",
      "model_name": "HTMLModel",
      "state": {
       "layout": "IPY_MODEL_eba81470ba9848f88a1aa8209afb76a8",
       "style": "IPY_MODEL_bbcd1d96781c415887ddcee9b68eac3e",
       "value": "24"
      }
     },
     "49336fcf64f24f948ac53f7a60c5ceef": {
      "model_module": "@jupyter-widgets/controls",
      "model_module_version": "2.0.0",
      "model_name": "HTMLModel",
      "state": {
       "layout": "IPY_MODEL_ea31dd2c565b425c8ad9fe4ea6c8bc83",
       "style": "IPY_MODEL_f4ee6a54ea6f4379877039c78753f411",
       "value": "<h5>Message</h5>"
      }
     },
     "4f6e8181c740498f962b34a23cf27fa8": {
      "model_module": "@jupyter-widgets/base",
      "model_module_version": "2.0.0",
      "model_name": "LayoutModel",
      "state": {}
     },
     "50f024aaaac34957b5b872f54fc808ce": {
      "model_module": "@jupyter-widgets/controls",
      "model_module_version": "2.0.0",
      "model_name": "HTMLStyleModel",
      "state": {
       "description_width": "",
       "font_size": null,
       "text_color": null
      }
     },
     "52dcfb76408f4ffeb75e8eaba8aaf51f": {
      "model_module": "@jupyter-widgets/base",
      "model_module_version": "2.0.0",
      "model_name": "LayoutModel",
      "state": {
       "width": "70px"
      }
     },
     "5436ef1684884b36b3c9c58a7db0d5b2": {
      "model_module": "@jupyter-widgets/controls",
      "model_module_version": "2.0.0",
      "model_name": "HTMLStyleModel",
      "state": {
       "description_width": "",
       "font_size": null,
       "text_color": null
      }
     },
     "55ee01636d0a41ba86f60fcba837da43": {
      "model_module": "@jupyter-widgets/controls",
      "model_module_version": "2.0.0",
      "model_name": "ButtonModel",
      "state": {
       "icon": "close",
       "layout": "IPY_MODEL_d41b519d7209461abe8acea171f6c8d7",
       "style": "IPY_MODEL_c33d6a4a204149b8b0560d3b7dcc1526",
       "tooltip": null
      }
     },
     "5917e4cc7b4049fbb7ff1dd7ea5c0fc9": {
      "model_module": "@jupyter-widgets/controls",
      "model_module_version": "2.0.0",
      "model_name": "HBoxModel",
      "state": {
       "children": [
        "IPY_MODEL_55ee01636d0a41ba86f60fcba837da43",
        "IPY_MODEL_c646e69fd12e419eb38023a0ca58c466",
        "IPY_MODEL_d8523576825743cdbfecc8bf956ffd85",
        "IPY_MODEL_250c47dc532d485c9dfce82fb698587c",
        "IPY_MODEL_4588bb9ca7d94f0cb3409d7c61e5d3ff",
        "IPY_MODEL_980e44a9bde8497286495264d6e3fc06"
       ],
       "layout": "IPY_MODEL_5aae727585304230a6946a4ba0ccf430"
      }
     },
     "5aae727585304230a6946a4ba0ccf430": {
      "model_module": "@jupyter-widgets/base",
      "model_module_version": "2.0.0",
      "model_name": "LayoutModel",
      "state": {
       "max_width": "700px",
       "min_width": "700px"
      }
     },
     "6badcb887c7f43848a5b9bddd14c8b7e": {
      "model_module": "@jupyter-widgets/controls",
      "model_module_version": "2.0.0",
      "model_name": "HTMLModel",
      "state": {
       "layout": "IPY_MODEL_93008c6d6f4f41758efce9d625a8ca5f",
       "style": "IPY_MODEL_0dd5dd38b29b459db22910ce3ebfcd58",
       "value": "<h5>Job ID</h5>"
      }
     },
     "6e2456e442124ee9851d88f27680c8e5": {
      "model_module": "@jupyter-widgets/controls",
      "model_module_version": "2.0.0",
      "model_name": "HTMLStyleModel",
      "state": {
       "description_width": "",
       "font_size": null,
       "text_color": null
      }
     },
     "70d53a84677e479ca943bb540c69ee7d": {
      "model_module": "@jupyter-widgets/controls",
      "model_module_version": "2.0.0",
      "model_name": "HTMLModel",
      "state": {
       "layout": "IPY_MODEL_52dcfb76408f4ffeb75e8eaba8aaf51f",
       "style": "IPY_MODEL_42b6fe4b591645e4b9e74b4f9263f3c3",
       "value": "<h5>Queue</h5>"
      }
     },
     "766531bdf61d4678b8d366a3abe51286": {
      "model_module": "@jupyter-widgets/base",
      "model_module_version": "2.0.0",
      "model_name": "LayoutModel",
      "state": {
       "grid_area": "right",
       "padding": "0px 0px 0px 0px",
       "width": "70px"
      }
     },
     "8521fcf1f6f54fa6a9fdb003e8eba223": {
      "model_module": "@jupyter-widgets/controls",
      "model_module_version": "2.0.0",
      "model_name": "GridBoxModel",
      "state": {
       "children": [
        "IPY_MODEL_a4dc6cd308c14618863ae15fda9ebe68"
       ],
       "layout": "IPY_MODEL_3a3e9b9cc71f47beadf41f53acac4f17"
      }
     },
     "8731a92ad2bd4ce994f769b866ebb7e7": {
      "model_module": "@jupyter-widgets/base",
      "model_module_version": "2.0.0",
      "model_name": "LayoutModel",
      "state": {
       "width": "190px"
      }
     },
     "8961e13090b74c06864f1424f5c51c77": {
      "model_module": "@jupyter-widgets/controls",
      "model_module_version": "2.0.0",
      "model_name": "HTMLModel",
      "state": {
       "layout": "IPY_MODEL_8bccb311515a40dd8d4f9a6b9c047dfe",
       "style": "IPY_MODEL_6e2456e442124ee9851d88f27680c8e5",
       "value": "<h5>Backend</h5>"
      }
     },
     "8bccb311515a40dd8d4f9a6b9c047dfe": {
      "model_module": "@jupyter-widgets/base",
      "model_module_version": "2.0.0",
      "model_name": "LayoutModel",
      "state": {
       "width": "145px"
      }
     },
     "8c553b773a5145faa4abb1cc68d650b7": {
      "model_module": "@jupyter-widgets/controls",
      "model_module_version": "2.0.0",
      "model_name": "HBoxModel",
      "state": {
       "children": [
        "IPY_MODEL_6badcb887c7f43848a5b9bddd14c8b7e",
        "IPY_MODEL_8961e13090b74c06864f1424f5c51c77",
        "IPY_MODEL_9a2deff369c34b929488cf8631507680",
        "IPY_MODEL_70d53a84677e479ca943bb540c69ee7d",
        "IPY_MODEL_49336fcf64f24f948ac53f7a60c5ceef"
       ],
       "layout": "IPY_MODEL_39489bdaf0e54c82902dbe2e8116e864"
      }
     },
     "8d863241a74a4be783c6c722f106a46b": {
      "model_module": "@jupyter-widgets/base",
      "model_module_version": "2.0.0",
      "model_name": "LayoutModel",
      "state": {
       "width": "95px"
      }
     },
     "93008c6d6f4f41758efce9d625a8ca5f": {
      "model_module": "@jupyter-widgets/base",
      "model_module_version": "2.0.0",
      "model_name": "LayoutModel",
      "state": {
       "width": "190px"
      }
     },
     "980e44a9bde8497286495264d6e3fc06": {
      "model_module": "@jupyter-widgets/controls",
      "model_module_version": "2.0.0",
      "model_name": "HTMLModel",
      "state": {
       "layout": "IPY_MODEL_4f6e8181c740498f962b34a23cf27fa8",
       "style": "IPY_MODEL_e75a9f88cc194b38a24bd9d9a6ed4a93",
       "value": "job is queued"
      }
     },
     "9a2deff369c34b929488cf8631507680": {
      "model_module": "@jupyter-widgets/controls",
      "model_module_version": "2.0.0",
      "model_name": "HTMLModel",
      "state": {
       "layout": "IPY_MODEL_8d863241a74a4be783c6c722f106a46b",
       "style": "IPY_MODEL_b40b31c3e5b5490fa489b2f4aca8bca5",
       "value": "<h5>Status</h5>"
      }
     },
     "a4dc6cd308c14618863ae15fda9ebe68": {
      "model_module": "@jupyter-widgets/controls",
      "model_module_version": "2.0.0",
      "model_name": "ButtonModel",
      "state": {
       "button_style": "primary",
       "description": "Clear",
       "layout": "IPY_MODEL_766531bdf61d4678b8d366a3abe51286",
       "style": "IPY_MODEL_0446c923ba324a84a0ba0ae9de0a4920",
       "tooltip": null
      }
     },
     "b40b31c3e5b5490fa489b2f4aca8bca5": {
      "model_module": "@jupyter-widgets/controls",
      "model_module_version": "2.0.0",
      "model_name": "HTMLStyleModel",
      "state": {
       "description_width": "",
       "font_size": null,
       "text_color": null
      }
     },
     "b4c3435984894beaa437ec35dda9071f": {
      "model_module": "@jupyter-widgets/base",
      "model_module_version": "2.0.0",
      "model_name": "LayoutModel",
      "state": {
       "width": "145px"
      }
     },
     "b76d4a7dabd04fa0ab938cd86020a620": {
      "model_module": "@jupyter-widgets/base",
      "model_module_version": "2.0.0",
      "model_name": "LayoutModel",
      "state": {
       "width": "95px"
      }
     },
     "b9982da6f3964537a0f5b6e4494a95d8": {
      "model_module": "@jupyter-widgets/controls",
      "model_module_version": "2.0.0",
      "model_name": "HTMLModel",
      "state": {
       "layout": "IPY_MODEL_d5b65144327940aca230166f3df27e79",
       "style": "IPY_MODEL_433e0b43df7e466b8c21334cb730bf29",
       "value": "<p style='font-family: IBM Plex Sans, Arial, Helvetica, sans-serif; font-size: 20px; font-weight: medium;'>Circuit Properties</p>"
      }
     },
     "bbcd1d96781c415887ddcee9b68eac3e": {
      "model_module": "@jupyter-widgets/controls",
      "model_module_version": "2.0.0",
      "model_name": "HTMLStyleModel",
      "state": {
       "description_width": "",
       "font_size": null,
       "text_color": null
      }
     },
     "c33d6a4a204149b8b0560d3b7dcc1526": {
      "model_module": "@jupyter-widgets/controls",
      "model_module_version": "2.0.0",
      "model_name": "ButtonStyleModel",
      "state": {
       "button_color": "white",
       "font_family": null,
       "font_size": null,
       "font_style": null,
       "font_variant": null,
       "font_weight": null,
       "text_color": null,
       "text_decoration": null
      }
     },
     "c646e69fd12e419eb38023a0ca58c466": {
      "model_module": "@jupyter-widgets/controls",
      "model_module_version": "2.0.0",
      "model_name": "HTMLModel",
      "state": {
       "layout": "IPY_MODEL_8731a92ad2bd4ce994f769b866ebb7e7",
       "style": "IPY_MODEL_50f024aaaac34957b5b872f54fc808ce",
       "value": "641e0a289a1bc18176b0a1b2"
      }
     },
     "d41b519d7209461abe8acea171f6c8d7": {
      "model_module": "@jupyter-widgets/base",
      "model_module_version": "2.0.0",
      "model_name": "LayoutModel",
      "state": {
       "margin": "0px 5px 0px 0px",
       "width": "32px"
      }
     },
     "d5b65144327940aca230166f3df27e79": {
      "model_module": "@jupyter-widgets/base",
      "model_module_version": "2.0.0",
      "model_name": "LayoutModel",
      "state": {
       "margin": "0px 0px 10px 0px"
      }
     },
     "d8523576825743cdbfecc8bf956ffd85": {
      "model_module": "@jupyter-widgets/controls",
      "model_module_version": "2.0.0",
      "model_name": "HTMLModel",
      "state": {
       "layout": "IPY_MODEL_b4c3435984894beaa437ec35dda9071f",
       "style": "IPY_MODEL_5436ef1684884b36b3c9c58a7db0d5b2",
       "value": "ibmq_quito"
      }
     },
     "e46230da0b3247c199d6d77e0c8db6ad": {
      "model_module": "@jupyter-widgets/controls",
      "model_module_version": "2.0.0",
      "model_name": "HTMLStyleModel",
      "state": {
       "description_width": "",
       "font_size": null,
       "text_color": null
      }
     },
     "e75a9f88cc194b38a24bd9d9a6ed4a93": {
      "model_module": "@jupyter-widgets/controls",
      "model_module_version": "2.0.0",
      "model_name": "HTMLStyleModel",
      "state": {
       "description_width": "",
       "font_size": null,
       "text_color": null
      }
     },
     "ea31dd2c565b425c8ad9fe4ea6c8bc83": {
      "model_module": "@jupyter-widgets/base",
      "model_module_version": "2.0.0",
      "model_name": "LayoutModel",
      "state": {}
     },
     "eba81470ba9848f88a1aa8209afb76a8": {
      "model_module": "@jupyter-widgets/base",
      "model_module_version": "2.0.0",
      "model_name": "LayoutModel",
      "state": {
       "width": "70px"
      }
     },
     "f4ee6a54ea6f4379877039c78753f411": {
      "model_module": "@jupyter-widgets/controls",
      "model_module_version": "2.0.0",
      "model_name": "HTMLStyleModel",
      "state": {
       "description_width": "",
       "font_size": null,
       "text_color": null
      }
     }
    },
    "version_major": 2,
    "version_minor": 0
   }
  }
 },
 "nbformat": 4,
 "nbformat_minor": 5
}
