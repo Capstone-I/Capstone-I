{
 "cells": [
  {
   "cell_type": "code",
   "execution_count": 1,
   "id": "46f0cff9-a76f-4bcf-895a-6f9096ec2a6a",
   "metadata": {
    "tags": []
   },
   "outputs": [
    {
     "name": "stdout",
     "output_type": "stream",
     "text": [
      "Requirement already satisfied: qiskit in /opt/conda/lib/python3.10/site-packages (0.42.1)\n",
      "Requirement already satisfied: qiskit-terra==0.23.3 in /opt/conda/lib/python3.10/site-packages (from qiskit) (0.23.3)\n",
      "Requirement already satisfied: qiskit-ibmq-provider==0.20.2 in /opt/conda/lib/python3.10/site-packages (from qiskit) (0.20.2)\n",
      "Requirement already satisfied: qiskit-aer==0.12.0 in /opt/conda/lib/python3.10/site-packages (from qiskit) (0.12.0)\n",
      "Requirement already satisfied: scipy>=1.0 in /opt/conda/lib/python3.10/site-packages (from qiskit-aer==0.12.0->qiskit) (1.9.3)\n",
      "Requirement already satisfied: numpy>=1.16.3 in /opt/conda/lib/python3.10/site-packages (from qiskit-aer==0.12.0->qiskit) (1.23.5)\n",
      "Requirement already satisfied: urllib3>=1.21.1 in /opt/conda/lib/python3.10/site-packages (from qiskit-ibmq-provider==0.20.2->qiskit) (1.26.13)\n",
      "Requirement already satisfied: requests-ntlm<=1.1.0 in /opt/conda/lib/python3.10/site-packages (from qiskit-ibmq-provider==0.20.2->qiskit) (1.1.0)\n",
      "Requirement already satisfied: python-dateutil>=2.8.0 in /opt/conda/lib/python3.10/site-packages (from qiskit-ibmq-provider==0.20.2->qiskit) (2.8.2)\n",
      "Requirement already satisfied: requests>=2.19 in /opt/conda/lib/python3.10/site-packages (from qiskit-ibmq-provider==0.20.2->qiskit) (2.28.1)\n",
      "Requirement already satisfied: websocket-client>=1.5.1 in /opt/conda/lib/python3.10/site-packages (from qiskit-ibmq-provider==0.20.2->qiskit) (1.5.1)\n",
      "Requirement already satisfied: websockets>=10.0 in /opt/conda/lib/python3.10/site-packages (from qiskit-ibmq-provider==0.20.2->qiskit) (10.4)\n",
      "Requirement already satisfied: symengine>=0.9 in /opt/conda/lib/python3.10/site-packages (from qiskit-terra==0.23.3->qiskit) (0.9.2)\n",
      "Requirement already satisfied: psutil>=5 in /opt/conda/lib/python3.10/site-packages (from qiskit-terra==0.23.3->qiskit) (5.9.4)\n",
      "Requirement already satisfied: sympy>=1.3 in /opt/conda/lib/python3.10/site-packages (from qiskit-terra==0.23.3->qiskit) (1.11.1)\n",
      "Requirement already satisfied: rustworkx>=0.12.0 in /opt/conda/lib/python3.10/site-packages (from qiskit-terra==0.23.3->qiskit) (0.12.1)\n",
      "Requirement already satisfied: dill>=0.3 in /opt/conda/lib/python3.10/site-packages (from qiskit-terra==0.23.3->qiskit) (0.3.6)\n",
      "Requirement already satisfied: ply>=3.10 in /opt/conda/lib/python3.10/site-packages (from qiskit-terra==0.23.3->qiskit) (3.11)\n",
      "Requirement already satisfied: stevedore>=3.0.0 in /opt/conda/lib/python3.10/site-packages (from qiskit-terra==0.23.3->qiskit) (4.1.1)\n",
      "Requirement already satisfied: six>=1.5 in /opt/conda/lib/python3.10/site-packages (from python-dateutil>=2.8.0->qiskit-ibmq-provider==0.20.2->qiskit) (1.16.0)\n",
      "Requirement already satisfied: certifi>=2017.4.17 in /opt/conda/lib/python3.10/site-packages (from requests>=2.19->qiskit-ibmq-provider==0.20.2->qiskit) (2022.9.24)\n",
      "Requirement already satisfied: charset-normalizer<3,>=2 in /opt/conda/lib/python3.10/site-packages (from requests>=2.19->qiskit-ibmq-provider==0.20.2->qiskit) (2.1.1)\n",
      "Requirement already satisfied: idna<4,>=2.5 in /opt/conda/lib/python3.10/site-packages (from requests>=2.19->qiskit-ibmq-provider==0.20.2->qiskit) (3.4)\n",
      "Requirement already satisfied: ntlm-auth>=1.0.2 in /opt/conda/lib/python3.10/site-packages (from requests-ntlm<=1.1.0->qiskit-ibmq-provider==0.20.2->qiskit) (1.5.0)\n",
      "Requirement already satisfied: cryptography>=1.3 in /opt/conda/lib/python3.10/site-packages (from requests-ntlm<=1.1.0->qiskit-ibmq-provider==0.20.2->qiskit) (38.0.4)\n",
      "Requirement already satisfied: pbr!=2.1.0,>=2.0.0 in /opt/conda/lib/python3.10/site-packages (from stevedore>=3.0.0->qiskit-terra==0.23.3->qiskit) (5.11.1)\n",
      "Requirement already satisfied: mpmath>=0.19 in /opt/conda/lib/python3.10/site-packages (from sympy>=1.3->qiskit-terra==0.23.3->qiskit) (1.2.1)\n",
      "Requirement already satisfied: cffi>=1.12 in /opt/conda/lib/python3.10/site-packages (from cryptography>=1.3->requests-ntlm<=1.1.0->qiskit-ibmq-provider==0.20.2->qiskit) (1.15.1)\n",
      "Requirement already satisfied: pycparser in /opt/conda/lib/python3.10/site-packages (from cffi>=1.12->cryptography>=1.3->requests-ntlm<=1.1.0->qiskit-ibmq-provider==0.20.2->qiskit) (2.21)\n",
      "Note: you may need to restart the kernel to use updated packages.\n"
     ]
    }
   ],
   "source": [
    "pip install qiskit\n"
   ]
  },
  {
   "cell_type": "code",
   "execution_count": 2,
   "id": "7afb8cb0-8f47-4b11-bc4b-a06dbf581a92",
   "metadata": {
    "tags": []
   },
   "outputs": [],
   "source": [
    "from qiskit import QuantumCircuit, QuantumRegister, ClassicalRegister\n"
   ]
  },
  {
   "cell_type": "code",
   "execution_count": 3,
   "id": "9041ee49-2510-486f-89a6-14282ea1b02c",
   "metadata": {
    "tags": []
   },
   "outputs": [],
   "source": [
    "def example_ansatz(params):\n",
    "    # Create a quantum register with 2 qubits\n",
    "    q = QuantumRegister(2, 'q')\n",
    "\n",
    "    # Create a quantum circuit with the defined quantum register\n",
    "    qc = QuantumCircuit(q)\n",
    "\n",
    "    # Apply the Hadamard gate to both qubits\n",
    "    qc.h(q[0])\n",
    "    qc.h(q[1])\n",
    "\n",
    "    # Apply the CNOT gate from q[0] to q[1]\n",
    "    qc.cx(q[0], q[1])\n",
    "\n",
    "    # Apply the RZ gate to both qubits, with angles specified by params\n",
    "    qc.rz(params[0], q[0])\n",
    "    qc.rz(params[1], q[1])\n",
    "\n",
    "    # Apply another CNOT gate from q[0] to q[1]\n",
    "    qc.cx(q[0], q[1])\n",
    "\n",
    "    return qc\n"
   ]
  },
  {
   "cell_type": "code",
   "execution_count": 4,
   "id": "48c28b42-7dd1-4811-8b64-0d069cca60a5",
   "metadata": {
    "tags": []
   },
   "outputs": [],
   "source": [
    "import numpy as np\n",
    "\n",
    "params = [np.pi/2, np.pi/2]\n",
    "ansatz_circuit = example_ansatz(params)\n"
   ]
  },
  {
   "cell_type": "code",
   "execution_count": 13,
   "id": "051480c4-47f2-4038-9935-b1b572487891",
   "metadata": {
    "tags": []
   },
   "outputs": [
    {
     "name": "stdout",
     "output_type": "stream",
     "text": [
      "     ┌─────────────┐┌─────────────┐ ┌─────────────┐                »\n",
      "q_0: ┤ Rx(theta_0) ├┤ Ry(theta_1) ├─┤ Rz(theta_2) ├───■────■────■──»\n",
      "     ├─────────────┤├─────────────┤ ├─────────────┤ ┌─┴─┐  │    │  »\n",
      "q_1: ┤ Rx(theta_3) ├┤ Ry(theta_4) ├─┤ Rz(theta_5) ├─┤ X ├──┼────┼──»\n",
      "     ├─────────────┤├─────────────┤ ├─────────────┤ └───┘┌─┴─┐  │  »\n",
      "q_2: ┤ Rx(theta_6) ├┤ Ry(theta_7) ├─┤ Rz(theta_8) ├──────┤ X ├──┼──»\n",
      "     ├─────────────┤├─────────────┴┐├─────────────┴┐     └───┘┌─┴─┐»\n",
      "q_3: ┤ Rx(theta_9) ├┤ Ry(theta_10) ├┤ Rz(theta_11) ├──────────┤ X ├»\n",
      "     └─────────────┘└──────────────┘└──────────────┘          └───┘»\n",
      "«     ┌──────────────┐┌──────────────┐┌──────────────┐                »\n",
      "«q_0: ┤ Rx(theta_12) ├┤ Ry(theta_13) ├┤ Rz(theta_14) ├────────────────»\n",
      "«     └──────────────┘└──────────────┘├──────────────┤┌──────────────┐»\n",
      "«q_1: ───────■───────────────■────────┤ Rx(theta_15) ├┤ Ry(theta_16) ├»\n",
      "«          ┌─┴─┐             │        └──────────────┘├──────────────┤»\n",
      "«q_2: ─────┤ X ├─────────────┼───────────────■────────┤ Rx(theta_18) ├»\n",
      "«          └───┘           ┌─┴─┐           ┌─┴─┐      ├──────────────┤»\n",
      "«q_3: ─────────────────────┤ X ├───────────┤ X ├──────┤ Rx(theta_21) ├»\n",
      "«                          └───┘           └───┘      └──────────────┘»\n",
      "«                                                              \n",
      "«q_0: ───────────────────────■──────────■────■─────────────────\n",
      "«     ┌──────────────┐     ┌─┴─┐        │    │                 \n",
      "«q_1: ┤ Rz(theta_17) ├─────┤ X ├────────┼────┼────■────■───────\n",
      "«     ├──────────────┤┌────┴───┴─────┐┌─┴─┐  │  ┌─┴─┐  │       \n",
      "«q_2: ┤ Ry(theta_19) ├┤ Rz(theta_20) ├┤ X ├──┼──┤ X ├──┼────■──\n",
      "«     ├──────────────┤├──────────────┤└───┘┌─┴─┐└───┘┌─┴─┐┌─┴─┐\n",
      "«q_3: ┤ Ry(theta_22) ├┤ Rz(theta_23) ├─────┤ X ├─────┤ X ├┤ X ├\n",
      "«     └──────────────┘└──────────────┘     └───┘     └───┘└───┘\n"
     ]
    }
   ],
   "source": [
    "print(ansatz_circuit.draw(output='text'))\n",
    "\n"
   ]
  },
  {
   "cell_type": "code",
   "execution_count": 6,
   "id": "d039dafa-bd1d-4f87-8f51-acf387fbd68d",
   "metadata": {
    "tags": []
   },
   "outputs": [
    {
     "name": "stdout",
     "output_type": "stream",
     "text": [
      "Figure(454.517x200.667)\n"
     ]
    }
   ],
   "source": [
    "from qiskit import QuantumCircuit, QuantumRegister, ClassicalRegister\n",
    "\n",
    "def example_ansatz(params):\n",
    "    # Create a quantum register with 2 qubits\n",
    "    q = QuantumRegister(2, 'q')\n",
    "\n",
    "    # Create a quantum circuit with the defined quantum register\n",
    "    qc = QuantumCircuit(q)\n",
    "\n",
    "    # Apply the Hadamard gate to both qubits\n",
    "    qc.h(q[0])\n",
    "    qc.h(q[1])\n",
    "\n",
    "    # Apply the CNOT gate from q[0] to q[1]\n",
    "    qc.cx(q[0], q[1])\n",
    "\n",
    "    # Apply the RZ gate to both qubits, with angles specified by params\n",
    "    qc.rz(params[0], q[0])\n",
    "    qc.rz(params[1], q[1])\n",
    "\n",
    "    # Apply another CNOT gate from q[0] to q[1]\n",
    "    qc.cx(q[0], q[1])\n",
    "\n",
    "    return qc\n",
    "\n",
    "import numpy as np\n",
    "\n",
    "params = [np.pi/2, np.pi/2]\n",
    "ansatz_circuit = example_ansatz(params)\n",
    "\n",
    "print(ansatz_circuit.draw())"
   ]
  },
  {
   "cell_type": "code",
   "execution_count": 7,
   "id": "96a47a3a-b6c0-498e-80b6-e988b9fc87e5",
   "metadata": {},
   "outputs": [
    {
     "data": {
      "text/plain": [
       "<qiskit.circuit.instructionset.InstructionSet at 0x7f8f8646e9b0>"
      ]
     },
     "execution_count": 7,
     "metadata": {},
     "output_type": "execute_result"
    }
   ],
   "source": [
    "from qiskit import QuantumRegister, ClassicalRegister, QuantumCircuit\n",
    "from numpy import pi\n",
    "\n",
    "qreg_q = QuantumRegister(4, 'q')\n",
    "creg_c = ClassicalRegister(4, 'c')\n",
    "circuit = QuantumCircuit(qreg_q, creg_c)\n",
    "\n",
    "circuit.h(qreg_q[0])\n",
    "circuit.cx(qreg_q[0], qreg_q[1])\n",
    "circuit.h(qreg_q[0])\n",
    "circuit.h(qreg_q[1])\n",
    "circuit.measure(qreg_q[0], creg_c[0])\n",
    "circuit.measure(qreg_q[1], creg_c[1])"
   ]
  },
  {
   "cell_type": "code",
   "execution_count": 8,
   "id": "abd1c453-fbfe-4103-9c88-a8b0a6508b4e",
   "metadata": {
    "tags": []
   },
   "outputs": [],
   "source": [
    "from qiskit.circuit import Parameter\n",
    "import itertools\n",
    "\n",
    "def hardware_efficient_ansatz(num_qubits, num_layers):\n",
    "    # Create a quantum register with num_qubits qubits\n",
    "    q = QuantumRegister(num_qubits, 'q')\n",
    "\n",
    "    # Create a quantum circuit with the defined quantum register\n",
    "    qc = QuantumCircuit(q)\n",
    "\n",
    "    # Define the parameters for the ansatz\n",
    "    params = [Parameter(f'theta_{i}') for i in range(num_qubits * 3 * num_layers)]\n",
    "\n",
    "    # Apply alternating layers of single-qubit rotations and entangling layers\n",
    "    param_idx = 0\n",
    "    for layer in range(num_layers):\n",
    "        # Apply single-qubit rotations (RX, RY, RZ)\n",
    "        for qubit in range(num_qubits):\n",
    "            qc.rx(params[param_idx], q[qubit])\n",
    "            param_idx += 1\n",
    "            qc.ry(params[param_idx], q[qubit])\n",
    "            param_idx += 1\n",
    "            qc.rz(params[param_idx], q[qubit])\n",
    "            param_idx += 1\n",
    "\n",
    "        # Apply the entangling layer with CNOT gates\n",
    "        for qubit_pairs in itertools.combinations(range(num_qubits), 2):\n",
    "            qc.cx(q[qubit_pairs[0]], q[qubit_pairs[1]])\n",
    "\n",
    "    return qc, params\n"
   ]
  },
  {
   "cell_type": "code",
   "execution_count": 9,
   "id": "d7326a4f-934e-450c-b9da-316c45d6dc8c",
   "metadata": {
    "tags": []
   },
   "outputs": [],
   "source": [
    "num_qubits = 4\n",
    "num_layers = 2\n",
    "\n",
    "ansatz_circuit, ansatz_params = hardware_efficient_ansatz(num_qubits, num_layers)\n"
   ]
  },
  {
   "cell_type": "code",
   "execution_count": 10,
   "id": "4621aa2f-050d-4d9b-9b68-75c083ee2fa0",
   "metadata": {
    "tags": []
   },
   "outputs": [
    {
     "name": "stdout",
     "output_type": "stream",
     "text": [
      "Figure(1541.66x367.889)\n"
     ]
    }
   ],
   "source": [
    "print(ansatz_circuit.draw())\n"
   ]
  },
  {
   "cell_type": "code",
   "execution_count": 11,
   "id": "19566f2b-a2f4-484d-be37-e301b621be03",
   "metadata": {
    "tags": []
   },
   "outputs": [
    {
     "name": "stdout",
     "output_type": "stream",
     "text": [
      "     ┌─────────────┐┌─────────────┐ ┌─────────────┐                »\n",
      "q_0: ┤ Rx(theta_0) ├┤ Ry(theta_1) ├─┤ Rz(theta_2) ├───■────■────■──»\n",
      "     ├─────────────┤├─────────────┤ ├─────────────┤ ┌─┴─┐  │    │  »\n",
      "q_1: ┤ Rx(theta_3) ├┤ Ry(theta_4) ├─┤ Rz(theta_5) ├─┤ X ├──┼────┼──»\n",
      "     ├─────────────┤├─────────────┤ ├─────────────┤ └───┘┌─┴─┐  │  »\n",
      "q_2: ┤ Rx(theta_6) ├┤ Ry(theta_7) ├─┤ Rz(theta_8) ├──────┤ X ├──┼──»\n",
      "     ├─────────────┤├─────────────┴┐├─────────────┴┐     └───┘┌─┴─┐»\n",
      "q_3: ┤ Rx(theta_9) ├┤ Ry(theta_10) ├┤ Rz(theta_11) ├──────────┤ X ├»\n",
      "     └─────────────┘└──────────────┘└──────────────┘          └───┘»\n",
      "«     ┌──────────────┐┌──────────────┐┌──────────────┐                »\n",
      "«q_0: ┤ Rx(theta_12) ├┤ Ry(theta_13) ├┤ Rz(theta_14) ├────────────────»\n",
      "«     └──────────────┘└──────────────┘├──────────────┤┌──────────────┐»\n",
      "«q_1: ───────■───────────────■────────┤ Rx(theta_15) ├┤ Ry(theta_16) ├»\n",
      "«          ┌─┴─┐             │        └──────────────┘├──────────────┤»\n",
      "«q_2: ─────┤ X ├─────────────┼───────────────■────────┤ Rx(theta_18) ├»\n",
      "«          └───┘           ┌─┴─┐           ┌─┴─┐      ├──────────────┤»\n",
      "«q_3: ─────────────────────┤ X ├───────────┤ X ├──────┤ Rx(theta_21) ├»\n",
      "«                          └───┘           └───┘      └──────────────┘»\n",
      "«                                                              \n",
      "«q_0: ───────────────────────■──────────■────■─────────────────\n",
      "«     ┌──────────────┐     ┌─┴─┐        │    │                 \n",
      "«q_1: ┤ Rz(theta_17) ├─────┤ X ├────────┼────┼────■────■───────\n",
      "«     ├──────────────┤┌────┴───┴─────┐┌─┴─┐  │  ┌─┴─┐  │       \n",
      "«q_2: ┤ Ry(theta_19) ├┤ Rz(theta_20) ├┤ X ├──┼──┤ X ├──┼────■──\n",
      "«     ├──────────────┤├──────────────┤└───┘┌─┴─┐└───┘┌─┴─┐┌─┴─┐\n",
      "«q_3: ┤ Ry(theta_22) ├┤ Rz(theta_23) ├─────┤ X ├─────┤ X ├┤ X ├\n",
      "«     └──────────────┘└──────────────┘     └───┘     └───┘└───┘\n"
     ]
    }
   ],
   "source": [
    "print(ansatz_circuit.draw(output='text'))\n"
   ]
  },
  {
   "cell_type": "code",
   "execution_count": null,
   "id": "0648fb3c-2e1c-4eb8-8128-7e0f69a51d18",
   "metadata": {},
   "outputs": [],
   "source": []
  }
 ],
 "metadata": {
  "kernelspec": {
   "display_name": "Python 3 (ipykernel)",
   "language": "python",
   "name": "python3"
  },
  "language_info": {
   "codemirror_mode": {
    "name": "ipython",
    "version": 3
   },
   "file_extension": ".py",
   "mimetype": "text/x-python",
   "name": "python",
   "nbconvert_exporter": "python",
   "pygments_lexer": "ipython3",
   "version": "3.10.8"
  },
  "widgets": {
   "application/vnd.jupyter.widget-state+json": {
    "state": {},
    "version_major": 2,
    "version_minor": 0
   }
  }
 },
 "nbformat": 4,
 "nbformat_minor": 5
}
