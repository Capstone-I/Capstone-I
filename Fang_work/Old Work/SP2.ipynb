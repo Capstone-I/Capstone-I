{
 "cells": [
  {
   "cell_type": "code",
   "execution_count": null,
   "metadata": {},
   "outputs": [],
   "source": [
    "from ibm_quantum_widgets import CircuitComposer\n",
    "from qiskit import QuantumRegister, ClassicalRegister, QuantumCircuit\n",
    "from numpy import pi\n",
    "\n",
    "qreg_q = QuantumRegister(5, 'q')\n",
    "creg_c = ClassicalRegister(1, 'c')\n",
    "circuit = QuantumCircuit(qreg_q, creg_c)\n",
    "\n",
    "circuit.sx(qreg_q[2])\n",
    "circuit.rz(-1.7735653242208347, qreg_q[2])\n",
    "circuit.sx(qreg_q[2])\n",
    "circuit.rz(-1.8708889578374386, qreg_q[2])\n",
    "circuit.barrier(qreg_q[2], qreg_q[0], qreg_q[1])\n",
    "circuit.rz(1.5707963267948966, qreg_q[1])\n",
    "circuit.sx(qreg_q[1])\n",
    "circuit.rz(1.5707963267948966, qreg_q[1])\n",
    "circuit.cx(qreg_q[1], qreg_q[0])\n",
    "circuit.barrier(qreg_q[2], qreg_q[0], qreg_q[1])\n",
    "circuit.cx(qreg_q[2], qreg_q[1])\n",
    "circuit.rz(1.5707963267948966, qreg_q[2])\n",
    "circuit.sx(qreg_q[2])\n",
    "circuit.rz(1.5707963267948966, qreg_q[2])\n",
    "circuit.barrier(qreg_q[2], qreg_q[0], qreg_q[1])\n",
    "circuit.cx(qreg_q[1], qreg_q[0])\n",
    "circuit.rz(1.5707963267948966, qreg_q[0])\n",
    "circuit.sx(qreg_q[0])\n",
    "circuit.rz(1.5707963267948966, qreg_q[0])\n",
    "circuit.cx(qreg_q[1], qreg_q[2])\n",
    "circuit.cx(qreg_q[2], qreg_q[1])\n",
    "circuit.cx(qreg_q[1], qreg_q[2])\n",
    "circuit.cx(qreg_q[1], qreg_q[0])\n",
    "circuit.rz(-1.7827755683360094, qreg_q[0])\n",
    "circuit.sx(qreg_q[0])\n",
    "circuit.rz(-1.8645555795380764, qreg_q[0])\n",
    "circuit.sx(qreg_q[0])\n",
    "circuit.rz(1.6330311594885991, qreg_q[0])\n",
    "circuit.barrier(qreg_q[4], qreg_q[1], qreg_q[0], qreg_q[3], qreg_q[2])\n",
    "circuit.measure(qreg_q[0], creg_c[0])\n",
    "\n",
    "\n",
    "editor = CircuitComposer(circuit=circuit)\n",
    "editor"
   ]
  }
 ],
 "metadata": {
  "kernelspec": {
   "display_name": "Python 3 (ipykernel)",
   "language": "python",
   "name": "python3"
  },
  "language_info": {
   "codemirror_mode": {
    "name": "ipython",
    "version": 3
   },
   "file_extension": ".py",
   "mimetype": "text/x-python",
   "name": "python",
   "nbconvert_exporter": "python",
   "pygments_lexer": "ipython3",
   "version": "3.10.8"
  },
  "widgets": {
   "application/vnd.jupyter.widget-state+json": {
    "state": {},
    "version_major": 2,
    "version_minor": 0
   }
  }
 },
 "nbformat": 4,
 "nbformat_minor": 4
}
