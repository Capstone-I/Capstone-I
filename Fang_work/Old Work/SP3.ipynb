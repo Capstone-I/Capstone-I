{
 "cells": [
  {
   "cell_type": "code",
   "execution_count": 1,
   "id": "88515c77-b26b-4598-903c-ec519a59f2ec",
   "metadata": {
    "tags": []
   },
   "outputs": [
    {
     "name": "stdout",
     "output_type": "stream",
     "text": [
      "Sampler results: SamplerResult(quasi_dists=[{0: 0.50425, 3: 0.49575}], metadata=[{'shots': 4000}])\n",
      "Estimator results: EstimatorResult(values=array([1.5655]), metadata=[{'variance': 8.94386875, 'shots': 4000}])\n"
     ]
    }
   ],
   "source": [
    "from qiskit_ibm_runtime import QiskitRuntimeService, Session, Sampler, Estimator, Options\n",
    "from qiskit.test.reference_circuits import ReferenceCircuits\n",
    "from qiskit.circuit.library import RealAmplitudes\n",
    "from qiskit.quantum_info import SparsePauliOp\n",
    "\n",
    "# Initialize account.\n",
    "service = QiskitRuntimeService()\n",
    "\n",
    "# Set options, which can be overwritten at job level.\n",
    "options = Options(optimization_level=3)\n",
    "\n",
    "# Prepare inputs.\n",
    "bell = ReferenceCircuits.bell()\n",
    "psi = RealAmplitudes(num_qubits=2, reps=2)\n",
    "H1 = SparsePauliOp.from_list([(\"II\", 1), (\"IZ\", 2), (\"XI\", 3)])\n",
    "theta = [0, 1, 1, 2, 3, 5]\n",
    "\n",
    "with Session(service=service, backend=\"ibmq_qasm_simulator\") as session:\n",
    "    # Submit a request to the Sampler primitive within the session.\n",
    "    sampler = Sampler(session=session, options=options)\n",
    "    job = sampler.run(circuits=bell)\n",
    "    print(f\"Sampler results: {job.result()}\")\n",
    "\n",
    "    # Submit a request to the Estimator primitive within the session.\n",
    "    estimator = Estimator(session=session, options=options)\n",
    "    job = estimator.run(\n",
    "        circuits=[psi], observables=[H1], parameter_values=[theta]\n",
    "    )\n",
    "    print(f\"Estimator results: {job.result()}\")\n",
    "    # Close the session only if all jobs are finished and you don't need to run more in the session.\n",
    "    session.close()"
   ]
  },
  {
   "cell_type": "code",
   "execution_count": 2,
   "id": "7d4c7f23-d404-4a30-bb9a-5fc79d1186cc",
   "metadata": {
    "tags": []
   },
   "outputs": [
    {
     "data": {
      "text/plain": [
       "array([[0.10695899]])"
      ]
     },
     "execution_count": 2,
     "metadata": {},
     "output_type": "execute_result"
    }
   ],
   "source": [
    "from qiskit import QuantumCircuit\n",
    "from qiskit.circuit.library import ZZFeatureMap, RealAmplitudes\n",
    "\n",
    "from qiskit_machine_learning.neural_networks import EstimatorQNN\n",
    "\n",
    "num_qubits = 2\n",
    "feature_map = ZZFeatureMap(feature_dimension=num_qubits)\n",
    "ansatz = RealAmplitudes(num_qubits=num_qubits, reps=1)\n",
    "\n",
    "qc = QuantumCircuit(num_qubits)\n",
    "qc.compose(feature_map, inplace=True)\n",
    "qc.compose(ansatz, inplace=True)\n",
    "\n",
    "qnn = EstimatorQNN(\n",
    "    circuit=qc,\n",
    "    input_params=feature_map.parameters,\n",
    "    weight_params=ansatz.parameters\n",
    ")\n",
    "\n",
    "qnn.forward(input_data=[1, 2], weights=[1, 2, 3, 4])"
   ]
  },
  {
   "cell_type": "code",
   "execution_count": 3,
   "id": "a4c45764-59c4-49f1-a110-a5a654b37ae2",
   "metadata": {
    "tags": []
   },
   "outputs": [
    {
     "data": {
      "text/plain": [
       "array([[0.10695899]])"
      ]
     },
     "execution_count": 3,
     "metadata": {},
     "output_type": "execute_result"
    }
   ],
   "source": [
    "from qiskit import QuantumCircuit\n",
    "from qiskit.circuit.library import ZZFeatureMap, RealAmplitudes\n",
    "\n",
    "from qiskit_machine_learning.neural_networks import EstimatorQNN\n",
    "\n",
    "num_qubits = 2\n",
    "feature_map = ZZFeatureMap(feature_dimension=num_qubits)\n",
    "ansatz = RealAmplitudes(num_qubits=num_qubits, reps=1)\n",
    "\n",
    "qc = QuantumCircuit(num_qubits)\n",
    "qc.compose(feature_map, inplace=True)\n",
    "qc.compose(ansatz, inplace=True)\n",
    "\n",
    "qnn = EstimatorQNN(\n",
    "    circuit=qc,\n",
    "    input_params=feature_map.parameters,\n",
    "    weight_params=ansatz.parameters\n",
    ")\n",
    "\n",
    "qnn.forward(input_data=[1, 2], weights=[1, 2, 3, 4])"
   ]
  },
  {
   "cell_type": "code",
   "execution_count": 4,
   "id": "185d244a-df86-4dfd-a6b4-c07b91cccca5",
   "metadata": {},
   "outputs": [
    {
     "name": "stdout",
     "output_type": "stream",
     "text": [
      "Traceback \u001b[1;36m(most recent call last)\u001b[0m:\n",
      "\u001b[1;36m  Cell \u001b[1;32mIn[4], line 5\u001b[1;36m\n",
      "\u001b[1;33m    from qiskit_machine_learning.circuit.library import ZZFeatureMap\u001b[1;36m\n",
      "\u001b[1;31mImportError\u001b[0m\u001b[1;31m:\u001b[0m cannot import name 'ZZFeatureMap' from 'qiskit_machine_learning.circuit.library' (/opt/conda/lib/python3.10/site-packages/qiskit_machine_learning/circuit/library/__init__.py)\n",
      "\n",
      "Use %tb to get the full traceback.\n"
     ]
    },
    {
     "data": {
      "text/html": [
       "\n",
       "<style>\n",
       ".button {\n",
       "  border: none;\n",
       "  color: white;\n",
       "  padding: 4px 8px;\n",
       "  text-align: center;\n",
       "  text-decoration: none;\n",
       "  display: inline-block;\n",
       "  font-size: 12px;\n",
       "  margin: 4px 2px;\n",
       "  transition-duration: 0.2s;\n",
       "  cursor: pointer;\n",
       "}\n",
       ".iqx-button {\n",
       "  background-color: #0f62fe; \n",
       "  color: white; \n",
       "}\n",
       ".iqx-button:hover {\n",
       "  background-color: #0043ce;\n",
       "  color: white;\n",
       "}\n",
       "</style>\n",
       "<a href=\"https://stackoverflow.com/search?q=ImportError: cannot import name 'ZZFeatureMap' from 'qiskit_machine_learning.circuit.library' (/opt/conda/lib/python3.10/site-packages/qiskit_machine_learning/circuit/library/__init__.py)\" target='_blank'><button class='button iqx-button'>Search for solution online</button></a>\n"
      ],
      "text/plain": [
       "<IPython.core.display.HTML object>"
      ]
     },
     "metadata": {},
     "output_type": "display_data"
    }
   ],
   "source": [
    "from qiskit import BasicAer\n",
    "from qiskit.utils import QuantumInstance\n",
    "from qiskit_machine_learning.algorithms.classifiers import VQC\n",
    "from qiskit_machine_learning.neural_networks import TwoLayerQNN\n",
    "from qiskit_machine_learning.circuit.library import ZZFeatureMap\n",
    "from qiskit.algorithms.optimizers import COBYLA\n",
    "from qiskit.datasets import load_iris\n",
    "\n",
    "feature_dim = 4\n",
    "_, iris_data, target = load_iris().values()\n",
    "\n",
    "feature_map = ZZFeatureMap(feature_dimension=feature_dim, reps=2)\n",
    "\n",
    "qnn = TwoLayerQNN(feature_dim, quantum_instance=QuantumInstance(BasicAer.get_backend('qasm_simulator')))\n",
    "\n",
    "vqc = VQC(optimizer=COBYLA(), feature_map=feature_map, ansatz=qnn, training_dataset=iris_data, \n",
    "           multiclass=True, label_to_class={0: 'setosa', 1: 'versicolor', 2: 'virginica'})\n",
    "\n",
    "vqc.train(iris_data, target)\n",
    "\n",
    "test_data = iris_data[0:5]\n",
    "print(vqc.predict(test_data))\n"
   ]
  },
  {
   "cell_type": "code",
   "execution_count": 5,
   "id": "cd9efbf6-b46e-4996-9a9d-7f6ece9b2fad",
   "metadata": {
    "tags": []
   },
   "outputs": [
    {
     "data": {
      "text/plain": [
       "array([[0.55347949, 0.44652051]])"
      ]
     },
     "execution_count": 5,
     "metadata": {},
     "output_type": "execute_result"
    }
   ],
   "source": [
    "from qiskit import QuantumCircuit\n",
    "from qiskit.circuit.library import ZZFeatureMap, RealAmplitudes\n",
    "\n",
    "from qiskit_machine_learning.neural_networks import SamplerQNN\n",
    "\n",
    "num_qubits = 2\n",
    "feature_map = ZZFeatureMap(feature_dimension=num_qubits)\n",
    "ansatz = RealAmplitudes(num_qubits=num_qubits, reps=1)\n",
    "\n",
    "qc = QuantumCircuit(num_qubits)\n",
    "qc.compose(feature_map, inplace=True)\n",
    "qc.compose(ansatz, inplace=True)\n",
    "\n",
    "\n",
    "def parity(x):\n",
    "    return \"{:b}\".format(x).count(\"1\") % 2\n",
    "\n",
    "\n",
    "qnn = SamplerQNN(\n",
    "    circuit=qc,\n",
    "    input_params=feature_map.parameters,\n",
    "    weight_params=ansatz.parameters,\n",
    "    interpret=parity,\n",
    "    output_shape=2\n",
    ")\n",
    "\n",
    "qnn.forward(input_data=[1, 2], weights=[1, 2, 3, 4])"
   ]
  },
  {
   "cell_type": "code",
   "execution_count": 37,
   "id": "0dc02c59-6562-4fec-900d-ffe5f9c0cfe0",
   "metadata": {
    "tags": []
   },
   "outputs": [
    {
     "name": "stdout",
     "output_type": "stream",
     "text": [
      "Traceback \u001b[1;36m(most recent call last)\u001b[0m:\n",
      "\u001b[1;36m  Cell \u001b[1;32mIn[37], line 5\u001b[1;36m\n",
      "\u001b[1;33m    from qiskit_machine_learning.circuit.library import ZZFeatureMap, RealAmplitudes\u001b[1;36m\n",
      "\u001b[1;31mImportError\u001b[0m\u001b[1;31m:\u001b[0m cannot import name 'ZZFeatureMap' from 'qiskit_machine_learning.circuit.library' (/opt/conda/lib/python3.10/site-packages/qiskit_machine_learning/circuit/library/__init__.py)\n",
      "\n",
      "Use %tb to get the full traceback.\n"
     ]
    },
    {
     "data": {
      "text/html": [
       "\n",
       "<style>\n",
       ".button {\n",
       "  border: none;\n",
       "  color: white;\n",
       "  padding: 4px 8px;\n",
       "  text-align: center;\n",
       "  text-decoration: none;\n",
       "  display: inline-block;\n",
       "  font-size: 12px;\n",
       "  margin: 4px 2px;\n",
       "  transition-duration: 0.2s;\n",
       "  cursor: pointer;\n",
       "}\n",
       ".iqx-button {\n",
       "  background-color: #0f62fe; \n",
       "  color: white; \n",
       "}\n",
       ".iqx-button:hover {\n",
       "  background-color: #0043ce;\n",
       "  color: white;\n",
       "}\n",
       "</style>\n",
       "<a href=\"https://stackoverflow.com/search?q=ImportError: cannot import name 'ZZFeatureMap' from 'qiskit_machine_learning.circuit.library' (/opt/conda/lib/python3.10/site-packages/qiskit_machine_learning/circuit/library/__init__.py)\" target='_blank'><button class='button iqx-button'>Search for solution online</button></a>\n"
      ],
      "text/plain": [
       "<IPython.core.display.HTML object>"
      ]
     },
     "metadata": {},
     "output_type": "display_data"
    }
   ],
   "source": [
    "from qiskit import BasicAer\n",
    "from qiskit.utils import QuantumInstance\n",
    "from qiskit_machine_learning.algorithms.classifiers import VQC\n",
    "from qiskit_machine_learning.neural_networks import TwoLayerQNN, CircuitQNN\n",
    "from qiskit_machine_learning.circuit.library import ZZFeatureMap, RealAmplitudes\n",
    "from qiskit.algorithms.optimizers import COBYLA\n",
    "from qiskit.datasets import load_iris\n",
    "\n",
    "feature_dim = 4\n",
    "_, iris_data, target = load_iris().values()\n",
    "\n",
    "estimator_feature_map = ZZFeatureMap(feature_dimension=feature_dim, reps=2)\n",
    "estimator_ansatz = RealAmplitudes(num_qubits=feature_dim, reps=1)\n",
    "\n",
    "estimator_qnn = TwoLayerQNN(feature_dim, quantum_instance=QuantumInstance(BasicAer.get_backend('qasm_simulator')))\n",
    "\n",
    "estimator = VQC(optimizer=COBYLA(), feature_map=estimator_feature_map, ansatz=estimator_ansatz, \n",
    "                 quantum_instance=QuantumInstance(BasicAer.get_backend('ibmq_qasm_simulator')))\n",
    "estimator_qnn = CircuitQNN(circuit=estimator_circuit, input_params=estimator_feature_map.parameters, \n",
    "                           weight_params=estimator_ansatz.parameters, quantum_instance=QuantumInstance(BasicAer.get_backend('qasm_simulator')))\n",
    "\n",
    "estimator.fit(iris_data, target)\n",
    "\n",
    "estimator_predictions = estimator.predict(iris_data)\n",
    "\n",
    "sampler_feature_map = ZZFeatureMap(feature_dimension=feature_dim, reps=2)\n",
    "sampler_ansatz = RealAmplitudes(num_qubits=feature_dim, reps=1)\n",
    "\n",
    "def parity(x):\n",
    "    return \"{:b}\".format(x).count(\"1\") % 2\n",
    "\n",
    "sampler_qnn = CircuitQNN(circuit=sampler_feature_map + sampler_ansatz, input_params=sampler_feature_map.parameters, \n",
    "                         weight_params=sampler_ansatz.parameters, interpret=parity, output_shape=2, \n",
    "                         quantum_instance=QuantumInstance(BasicAer.get_backend('qasm_simulator')))\n",
    "\n",
    "sampler_qnn.fit(iris_data, target)\n",
    "\n",
    "sampler_predictions = sampler_qnn.predict(iris_data)\n",
    "\n",
    "\n"
   ]
  },
  {
   "cell_type": "code",
   "execution_count": 1,
   "id": "dd5a6576-fe67-449f-bcb8-7a4777a4bc07",
   "metadata": {},
   "outputs": [
    {
     "name": "stdout",
     "output_type": "stream",
     "text": [
      "Traceback \u001b[1;36m(most recent call last)\u001b[0m:\n",
      "\u001b[1;36m  Cell \u001b[1;32mIn[1], line 5\u001b[1;36m\n",
      "\u001b[1;33m    from qiskit_machine_learning.circuit.library import ZZFeatureMap, RealAmplitudes\u001b[1;36m\n",
      "\u001b[1;31mImportError\u001b[0m\u001b[1;31m:\u001b[0m cannot import name 'ZZFeatureMap' from 'qiskit_machine_learning.circuit.library' (/opt/conda/lib/python3.10/site-packages/qiskit_machine_learning/circuit/library/__init__.py)\n",
      "\n",
      "Use %tb to get the full traceback.\n"
     ]
    },
    {
     "data": {
      "text/html": [
       "\n",
       "<style>\n",
       ".button {\n",
       "  border: none;\n",
       "  color: white;\n",
       "  padding: 4px 8px;\n",
       "  text-align: center;\n",
       "  text-decoration: none;\n",
       "  display: inline-block;\n",
       "  font-size: 12px;\n",
       "  margin: 4px 2px;\n",
       "  transition-duration: 0.2s;\n",
       "  cursor: pointer;\n",
       "}\n",
       ".iqx-button {\n",
       "  background-color: #0f62fe; \n",
       "  color: white; \n",
       "}\n",
       ".iqx-button:hover {\n",
       "  background-color: #0043ce;\n",
       "  color: white;\n",
       "}\n",
       "</style>\n",
       "<a href=\"https://stackoverflow.com/search?q=ImportError: cannot import name 'ZZFeatureMap' from 'qiskit_machine_learning.circuit.library' (/opt/conda/lib/python3.10/site-packages/qiskit_machine_learning/circuit/library/__init__.py)\" target='_blank'><button class='button iqx-button'>Search for solution online</button></a>\n"
      ],
      "text/plain": [
       "<IPython.core.display.HTML object>"
      ]
     },
     "metadata": {},
     "output_type": "display_data"
    }
   ],
   "source": [
    "from qiskit import BasicAer\n",
    "from qiskit.utils import QuantumInstance\n",
    "from qiskit_machine_learning.algorithms.classifiers import VQC\n",
    "from qiskit_machine_learning.neural_networks import TwoLayerQNN, CircuitQNN\n",
    "from qiskit_machine_learning.circuit.library import ZZFeatureMap, RealAmplitudes\n",
    "from qiskit.algorithms.optimizers import COBYLA\n",
    "from qiskit.datasets import load_iris\n",
    "\n",
    "feature_dim = 4\n",
    "_, iris_data, target = load_iris().values()\n",
    "\n",
    "estimator_feature_map = ZZFeatureMap(feature_dimension=feature_dim, reps=2)\n",
    "estimator_ansatz = RealAmplitudes(num_qubits=feature_dim, reps=1)\n",
    "\n",
    "estimator_qnn = TwoLayerQNN(feature_dim, quantum_instance=QuantumInstance(BasicAer.get_backend('qasm_simulator')))\n",
    "\n",
    "estimator = VQC(optimizer=COBYLA(), feature_map=estimator_feature_map, ansatz=estimator_ansatz, \n",
    "                 quantum_instance=QuantumInstance(BasicAer.get_backend('qasm_simulator')))\n",
    "estimator_qnn = CircuitQNN(circuit=estimator_circuit, input_params=estimator_feature_map.parameters, \n",
    "                           weight_params=estimator_ansatz.parameters, quantum_instance=QuantumInstance(BasicAer.get_backend('qasm_simulator')))\n",
    "\n",
    "estimator.fit(iris_data, target)\n",
    "\n",
    "estimator_predictions = estimator.predict(iris_data)\n",
    "\n",
    "sampler_feature_map = ZZFeatureMap(feature_dimension=feature_dim, reps=2)\n",
    "sampler_ansatz = RealAmplitudes(num_qubits=feature_dim, reps=1)\n",
    "\n",
    "def parity(x):\n",
    "    return \"{:b}\".format(x).count(\"1\") % 2\n",
    "\n",
    "sampler_qnn = CircuitQNN(circuit=sampler_feature_map + sampler_ansatz, input_params=sampler_feature_map.parameters, \n",
    "                         weight_params=sampler_ansatz.parameters, interpret=parity, output_shape=2, \n",
    "                         quantum_instance=QuantumInstance(BasicAer.get_backend('qasm_simulator')))\n",
    "\n",
    "sampler_qnn.fit(iris_data, target)\n",
    "\n",
    "sampler_predictions = sampler_qnn.predict(iris_data)\n"
   ]
  },
  {
   "cell_type": "code",
   "execution_count": 7,
   "id": "83476a0b-ec44-4fe7-966d-e25f66561ac8",
   "metadata": {},
   "outputs": [
    {
     "name": "stdout",
     "output_type": "stream",
     "text": [
      "Traceback \u001b[1;36m(most recent call last)\u001b[0m:\n",
      "\u001b[1;36m  Cell \u001b[1;32mIn[7], line 8\u001b[1;36m\n",
      "\u001b[1;33m    from qiskit_machine_learning.circuit.library import ZZFeatureMap, RealAmplitudes\u001b[1;36m\n",
      "\u001b[1;31mImportError\u001b[0m\u001b[1;31m:\u001b[0m cannot import name 'ZZFeatureMap' from 'qiskit_machine_learning.circuit.library' (/opt/conda/lib/python3.10/site-packages/qiskit_machine_learning/circuit/library/__init__.py)\n",
      "\n",
      "Use %tb to get the full traceback.\n"
     ]
    },
    {
     "data": {
      "text/html": [
       "\n",
       "<style>\n",
       ".button {\n",
       "  border: none;\n",
       "  color: white;\n",
       "  padding: 4px 8px;\n",
       "  text-align: center;\n",
       "  text-decoration: none;\n",
       "  display: inline-block;\n",
       "  font-size: 12px;\n",
       "  margin: 4px 2px;\n",
       "  transition-duration: 0.2s;\n",
       "  cursor: pointer;\n",
       "}\n",
       ".iqx-button {\n",
       "  background-color: #0f62fe; \n",
       "  color: white; \n",
       "}\n",
       ".iqx-button:hover {\n",
       "  background-color: #0043ce;\n",
       "  color: white;\n",
       "}\n",
       "</style>\n",
       "<a href=\"https://stackoverflow.com/search?q=ImportError: cannot import name 'ZZFeatureMap' from 'qiskit_machine_learning.circuit.library' (/opt/conda/lib/python3.10/site-packages/qiskit_machine_learning/circuit/library/__init__.py)\" target='_blank'><button class='button iqx-button'>Search for solution online</button></a>\n"
      ],
      "text/plain": [
       "<IPython.core.display.HTML object>"
      ]
     },
     "metadata": {},
     "output_type": "display_data"
    }
   ],
   "source": [
    "from qiskit import BasicAer\n",
    "from qiskit.utils import QuantumInstance\n",
    "from qiskit_machine_learning.algorithms.classifiers import VQC\n",
    "\n",
    "\n",
    "from qiskit_machine_learning.neural_networks import EstimatorQNN\n",
    "\n",
    "from qiskit_machine_learning.circuit.library import ZZFeatureMap, RealAmplitudes\n",
    "from qiskit.algorithms.optimizers import COBYLA\n",
    "from qiskit.datasets import load_iris\n",
    "\n",
    "feature_dim = 4\n",
    "_, iris_data, target = load_iris().values()\n",
    "\n",
    "estimator_feature_map = ZZFeatureMap(feature_dimension=feature_dim, reps=2)\n",
    "estimator_ansatz = RealAmplitudes(num_qubits=feature_dim, reps=1)\n",
    "\n",
    "estimator_qnn = TwoLayerQNN(feature_dim, quantum_instance=QuantumInstance(BasicAer.get_backend('qasm_simulator')))\n",
    "\n",
    "estimator = VQC(optimizer=COBYLA(), feature_map=estimator_feature_map, ansatz=estimator_ansatz, \n",
    "                 quantum_instance=QuantumInstance(BasicAer.get_backend('qasm_simulator')))\n",
    "estimator_qnn = CircuitQNN(circuit=estimator_circuit, input_params=estimator_feature_map.parameters, \n",
    "                           weight_params=estimator_ansatz.parameters, quantum_instance=QuantumInstance(BasicAer.get_backend('qasm_simulator')))\n",
    "\n",
    "estimator.fit(iris_data, target)\n",
    "\n",
    "estimator_predictions = estimator.predict(iris_data)\n",
    "\n",
    "sampler_feature_map = ZZFeatureMap(feature_dimension=feature_dim, reps=2)\n",
    "sampler_ansatz = RealAmplitudes(num_qubits=feature_dim, reps=1)\n",
    "\n",
    "def parity(x):\n",
    "    return \"{:b}\".format(x).count(\"1\") % 2\n",
    "\n",
    "sampler_qnn = CircuitQNN(circuit=sampler_feature_map + sampler_ansatz, input_params=sampler_feature_map.parameters, \n",
    "                         weight_params=sampler_ansatz.parameters, interpret=parity, output_shape=2, \n",
    "                         quantum_instance=QuantumInstance(BasicAer.get_backend('qasm_simulator')))\n",
    "\n",
    "sampler_qnn.fit(iris_data, target)\n",
    "\n",
    "sampler_predictions = sampler_qnn.predict(iris_data)\n"
   ]
  },
  {
   "cell_type": "code",
   "execution_count": 8,
   "id": "2574b833-884c-482a-84b1-8f16e0293c5d",
   "metadata": {},
   "outputs": [
    {
     "name": "stdout",
     "output_type": "stream",
     "text": [
      "Traceback \u001b[1;36m(most recent call last)\u001b[0m:\n",
      "\u001b[1;36m  Cell \u001b[1;32mIn[8], line 9\u001b[1;36m\n",
      "\u001b[1;33m    from qiskit.datasets import load_iris\u001b[1;36m\n",
      "\u001b[1;31mModuleNotFoundError\u001b[0m\u001b[1;31m:\u001b[0m No module named 'qiskit.datasets'\n",
      "\n",
      "Use %tb to get the full traceback.\n"
     ]
    },
    {
     "data": {
      "text/html": [
       "\n",
       "<style>\n",
       ".button {\n",
       "  border: none;\n",
       "  color: white;\n",
       "  padding: 4px 8px;\n",
       "  text-align: center;\n",
       "  text-decoration: none;\n",
       "  display: inline-block;\n",
       "  font-size: 12px;\n",
       "  margin: 4px 2px;\n",
       "  transition-duration: 0.2s;\n",
       "  cursor: pointer;\n",
       "}\n",
       ".iqx-button {\n",
       "  background-color: #0f62fe; \n",
       "  color: white; \n",
       "}\n",
       ".iqx-button:hover {\n",
       "  background-color: #0043ce;\n",
       "  color: white;\n",
       "}\n",
       "</style>\n",
       "<a href=\"https://stackoverflow.com/search?q=ModuleNotFoundError: No module named 'qiskit.datasets'\" target='_blank'><button class='button iqx-button'>Search for solution online</button></a>\n"
      ],
      "text/plain": [
       "<IPython.core.display.HTML object>"
      ]
     },
     "metadata": {},
     "output_type": "display_data"
    }
   ],
   "source": [
    "from qiskit import BasicAer\n",
    "from qiskit.utils import QuantumInstance\n",
    "from qiskit_machine_learning.algorithms.classifiers import VQC\n",
    "\n",
    "\n",
    "from qiskit_machine_learning.neural_networks import EstimatorQNN\n",
    "\n",
    "from qiskit.algorithms.optimizers import COBYLA\n",
    "from qiskit.datasets import load_iris\n",
    "\n",
    "feature_dim = 4\n",
    "_, iris_data, target = load_iris().values()\n",
    "\n",
    "estimator_feature_map = ZZFeatureMap(feature_dimension=feature_dim, reps=2)\n",
    "estimator_ansatz = RealAmplitudes(num_qubits=feature_dim, reps=1)\n",
    "\n",
    "estimator_qnn = TwoLayerQNN(feature_dim, quantum_instance=QuantumInstance(BasicAer.get_backend('qasm_simulator')))\n",
    "\n",
    "estimator = VQC(optimizer=COBYLA(), feature_map=estimator_feature_map, ansatz=estimator_ansatz, \n",
    "                 quantum_instance=QuantumInstance(BasicAer.get_backend('qasm_simulator')))\n",
    "estimator_qnn = CircuitQNN(circuit=estimator_circuit, input_params=estimator_feature_map.parameters, \n",
    "                           weight_params=estimator_ansatz.parameters, quantum_instance=QuantumInstance(BasicAer.get_backend('qasm_simulator')))\n",
    "\n",
    "estimator.fit(iris_data, target)\n",
    "\n",
    "estimator_predictions = estimator.predict(iris_data)\n",
    "\n",
    "sampler_feature_map = ZZFeatureMap(feature_dimension=feature_dim, reps=2)\n",
    "sampler_ansatz = RealAmplitudes(num_qubits=feature_dim, reps=1)\n",
    "\n",
    "def parity(x):\n",
    "    return \"{:b}\".format(x).count(\"1\") % 2\n",
    "\n",
    "sampler_qnn = CircuitQNN(circuit=sampler_feature_map + sampler_ansatz, input_params=sampler_feature_map.parameters, \n",
    "                         weight_params=sampler_ansatz.parameters, interpret=parity, output_shape=2, \n",
    "                         quantum_instance=QuantumInstance(BasicAer.get_backend('qasm_simulator')))\n",
    "\n",
    "sampler_qnn.fit(iris_data, target)\n",
    "\n",
    "sampler_predictions = sampler_qnn.predict(iris_data)\n"
   ]
  },
  {
   "cell_type": "code",
   "execution_count": 44,
   "id": "f29a1219-2c99-49a5-ab88-52330c744d34",
   "metadata": {
    "tags": []
   },
   "outputs": [
    {
     "name": "stdout",
     "output_type": "stream",
     "text": [
      "Traceback \u001b[1;36m(most recent call last)\u001b[0m:\n",
      "\u001b[1;36m  Cell \u001b[1;32mIn[44], line 7\u001b[1;36m\n",
      "\u001b[1;33m    from qiskit.datasets import load_iris\u001b[1;36m\n",
      "\u001b[1;31mModuleNotFoundError\u001b[0m\u001b[1;31m:\u001b[0m No module named 'qiskit.datasets'\n",
      "\n",
      "Use %tb to get the full traceback.\n"
     ]
    },
    {
     "data": {
      "text/html": [
       "\n",
       "<style>\n",
       ".button {\n",
       "  border: none;\n",
       "  color: white;\n",
       "  padding: 4px 8px;\n",
       "  text-align: center;\n",
       "  text-decoration: none;\n",
       "  display: inline-block;\n",
       "  font-size: 12px;\n",
       "  margin: 4px 2px;\n",
       "  transition-duration: 0.2s;\n",
       "  cursor: pointer;\n",
       "}\n",
       ".iqx-button {\n",
       "  background-color: #0f62fe; \n",
       "  color: white; \n",
       "}\n",
       ".iqx-button:hover {\n",
       "  background-color: #0043ce;\n",
       "  color: white;\n",
       "}\n",
       "</style>\n",
       "<a href=\"https://stackoverflow.com/search?q=ModuleNotFoundError: No module named 'qiskit.datasets'\" target='_blank'><button class='button iqx-button'>Search for solution online</button></a>\n"
      ],
      "text/plain": [
       "<IPython.core.display.HTML object>"
      ]
     },
     "metadata": {},
     "output_type": "display_data"
    }
   ],
   "source": [
    "from qiskit import BasicAer\n",
    "from qiskit.utils import QuantumInstance\n",
    "from qiskit_machine_learning.algorithms.classifiers import VQC\n",
    "from qiskit_machine_learning.neural_networks import CircuitQNN, TwoLayerQNN\n",
    "from qiskit.circuit.library import ZZFeatureMap, RealAmplitudes\n",
    "from qiskit.algorithms.optimizers import COBYLA\n",
    "from qiskit.datasets import load_iris\n",
    "\n",
    "\n",
    "# Load the iris dataset\n",
    "feature_dim = 4\n",
    "_, iris_data, target = load_iris().values()\n",
    "\n",
    "# Define the feature map and ansatz for the EstimatorQNN\n",
    "estimator_feature_map = ZZFeatureMap(feature_dimension=feature_dim, reps=2)\n",
    "estimator_ansatz = RealAmplitudes(num_qubits=feature_dim, reps=1)\n",
    "\n",
    "# Define the quantum neural network for the EstimatorQNN\n",
    "estimator_qnn = TwoLayerQNN(feature_dim, quantum_instance=QuantumInstance(BasicAer.get_backend('qasm_simulator')))\n",
    "\n",
    "# Define the EstimatorQNN\n",
    "estimator_circuit = estimator_feature_map + estimator_ansatz\n",
    "estimator = VQC(optimizer=COBYLA(), feature_map=estimator_feature_map, ansatz=estimator_ansatz, \n",
    "                 quantum_instance=QuantumInstance(BasicAer.get_backend('ibmq_qasm_simulator')))\n",
    "estimator_qnn = CircuitQNN(circuit=estimator_circuit, input_params=estimator_feature_map.parameters, \n",
    "                           weight_params=estimator_ansatz.parameters, quantum_instance=QuantumInstance(BasicAer.get_backend('qasm_simulator')))\n",
    "\n",
    "# Train the EstimatorQNN\n",
    "estimator.fit(iris_data, target)\n",
    "\n",
    "# Use the trained EstimatorQNN to make predictions\n",
    "estimator_predictions = estimator.predict(iris_data)\n",
    "\n",
    "# Define the feature map and ansatz for the SamplerQNN\n",
    "sampler_feature_map = ZZFeatureMap(feature_dimension=feature_dim, reps=2)\n",
    "sampler_ansatz = RealAmplitudes(num_qubits=feature_dim, reps=1)\n",
    "\n",
    "# Define the quantum neural network for the SamplerQNN\n",
    "def parity(x):\n",
    "    return \"{:b}\".format(x).count(\"1\") % 2\n",
    "\n",
    "sampler_qnn = CircuitQNN(circuit=sampler_feature_map + sampler_ansatz, input_params=sampler_feature_map.parameters, \n",
    "                         weight_params=sampler_ansatz.parameters, interpret=parity, output_shape=2, \n",
    "                         quantum_instance=QuantumInstance(BasicAer.get_backend('ibmq_qasm_simulator')))\n",
    "\n",
    "# Train the SamplerQNN\n",
    "sampler_qnn.fit(iris_data, target)\n",
    "\n",
    "# Use the trained SamplerQNN to make predictions\n",
    "sampler_predictions = sampler_qnn.predict(iris_data)\n"
   ]
  },
  {
   "cell_type": "code",
   "execution_count": 42,
   "id": "7a412016-74df-4fb2-9794-1df150411f89",
   "metadata": {
    "tags": []
   },
   "outputs": [
    {
     "name": "stdout",
     "output_type": "stream",
     "text": [
      "Traceback \u001b[1;36m(most recent call last)\u001b[0m:\n",
      "\u001b[1;36m  Cell \u001b[1;32mIn[42], line 11\u001b[1;36m\n",
      "\u001b[1;33m    _, iris_data, target = load_iris(return_X_y=True)\u001b[1;36m\n",
      "\u001b[1;31mValueError\u001b[0m\u001b[1;31m:\u001b[0m not enough values to unpack (expected 3, got 2)\n",
      "\n",
      "Use %tb to get the full traceback.\n"
     ]
    },
    {
     "data": {
      "text/html": [
       "\n",
       "<style>\n",
       ".button {\n",
       "  border: none;\n",
       "  color: white;\n",
       "  padding: 4px 8px;\n",
       "  text-align: center;\n",
       "  text-decoration: none;\n",
       "  display: inline-block;\n",
       "  font-size: 12px;\n",
       "  margin: 4px 2px;\n",
       "  transition-duration: 0.2s;\n",
       "  cursor: pointer;\n",
       "}\n",
       ".iqx-button {\n",
       "  background-color: #0f62fe; \n",
       "  color: white; \n",
       "}\n",
       ".iqx-button:hover {\n",
       "  background-color: #0043ce;\n",
       "  color: white;\n",
       "}\n",
       "</style>\n",
       "<a href=\"https://stackoverflow.com/search?q=ValueError: not enough values to unpack (expected 3, got 2)\" target='_blank'><button class='button iqx-button'>Search for solution online</button></a>\n"
      ],
      "text/plain": [
       "<IPython.core.display.HTML object>"
      ]
     },
     "metadata": {},
     "output_type": "display_data"
    }
   ],
   "source": [
    "from qiskit import BasicAer\n",
    "from qiskit.utils import QuantumInstance\n",
    "from qiskit_machine_learning.algorithms.classifiers import VQC\n",
    "from qiskit_machine_learning.neural_networks import CircuitQNN, TwoLayerQNN\n",
    "from qiskit.circuit.library import ZZFeatureMap, RealAmplitudes\n",
    "from qiskit.algorithms.optimizers import COBYLA\n",
    "from sklearn.datasets import load_iris\n",
    "\n",
    "\n",
    "# Load the iris dataset\n",
    "_, iris_data, target = load_iris(return_X_y=True)\n",
    "\n",
    "# Define the feature map and ansatz for the EstimatorQNN\n",
    "feature_dim = iris_data.shape[1]\n",
    "estimator_feature_map = ZZFeatureMap(feature_dimension=feature_dim, reps=2)\n",
    "estimator_ansatz = RealAmplitudes(num_qubits=feature_dim, reps=1)\n",
    "\n",
    "# Define the EstimatorQNN\n",
    "estimator_circuit = estimator_feature_map + estimator_ansatz\n",
    "estimator = VQC(optimizer=COBYLA(), feature_map=estimator_feature_map, ansatz=estimator_ansatz, \n",
    "                 quantum_instance=QuantumInstance(BasicAer.get_backend('ibmq_qasm_simulatorr')))\n",
    "estimator_qnn = CircuitQNN(circuit=estimator_circuit, input_params=estimator_feature_map.parameters, \n",
    "                           weight_params=estimator_ansatz.parameters, quantum_instance=QuantumInstance(BasicAer.get_backend('qasm_simulator')))\n",
    "\n",
    "# Train the EstimatorQNN\n",
    "estimator.fit(iris_data, target)\n",
    "\n",
    "# Use the trained EstimatorQNN to make predictions\n",
    "estimator_predictions = estimator.predict(iris_data)\n",
    "\n",
    "# Define the feature map and ansatz for the SamplerQNN\n",
    "sampler_feature_map = ZZFeatureMap(feature_dimension=feature_dim, reps=2)\n",
    "sampler_ansatz = RealAmplitudes(num_qubits=feature_dim, reps=1)\n",
    "\n",
    "# Define the quantum neural network for the SamplerQNN\n",
    "def parity(x):\n",
    "    return \"{:b}\".format(x).count(\"1\") % 2\n",
    "\n",
    "sampler_qnn = CircuitQNN(circuit=sampler_feature_map + sampler_ansatz, input_params=sampler_feature_map.parameters, \n",
    "                         weight_params=sampler_ansatz.parameters, interpret=parity, output_shape=2, \n",
    "                         quantum_instance=QuantumInstance(BasicAer.get_backend('qasm_simulator')))\n",
    "\n",
    "# Train the SamplerQNN\n",
    "sampler_qnn.fit(iris_data, target)\n",
    "\n",
    "# Use the trained SamplerQNN to make predictions\n",
    "sampler_predictions = sampler_qnn.predict(iris_data)\n",
    "\n"
   ]
  },
  {
   "cell_type": "code",
   "execution_count": 41,
   "id": "10100f8f-6596-4f87-8907-ae594e219baf",
   "metadata": {
    "tags": []
   },
   "outputs": [
    {
     "name": "stdout",
     "output_type": "stream",
     "text": [
      "Traceback \u001b[1;36m(most recent call last)\u001b[0m:\n",
      "\u001b[1;36m  Cell \u001b[1;32mIn[41], line 11\u001b[1;36m\n",
      "\u001b[1;33m    _, iris_data, target = load_iris(return_X_y=True)\u001b[1;36m\n",
      "\u001b[1;31mValueError\u001b[0m\u001b[1;31m:\u001b[0m not enough values to unpack (expected 3, got 2)\n",
      "\n",
      "Use %tb to get the full traceback.\n"
     ]
    },
    {
     "data": {
      "text/html": [
       "\n",
       "<style>\n",
       ".button {\n",
       "  border: none;\n",
       "  color: white;\n",
       "  padding: 4px 8px;\n",
       "  text-align: center;\n",
       "  text-decoration: none;\n",
       "  display: inline-block;\n",
       "  font-size: 12px;\n",
       "  margin: 4px 2px;\n",
       "  transition-duration: 0.2s;\n",
       "  cursor: pointer;\n",
       "}\n",
       ".iqx-button {\n",
       "  background-color: #0f62fe; \n",
       "  color: white; \n",
       "}\n",
       ".iqx-button:hover {\n",
       "  background-color: #0043ce;\n",
       "  color: white;\n",
       "}\n",
       "</style>\n",
       "<a href=\"https://stackoverflow.com/search?q=ValueError: not enough values to unpack (expected 3, got 2)\" target='_blank'><button class='button iqx-button'>Search for solution online</button></a>\n"
      ],
      "text/plain": [
       "<IPython.core.display.HTML object>"
      ]
     },
     "metadata": {},
     "output_type": "display_data"
    }
   ],
   "source": [
    "from qiskit import BasicAer\n",
    "from qiskit.utils import QuantumInstance\n",
    "from qiskit_machine_learning.algorithms.classifiers.vqc import VQC\n",
    "from qiskit_machine_learning.neural_networks import CircuitQNN, TwoLayerQNN\n",
    "from qiskit.circuit.library import ZZFeatureMap, RealAmplitudes\n",
    "from qiskit.algorithms.optimizers import COBYLA\n",
    "from sklearn.datasets import load_iris\n",
    "\n",
    "\n",
    "# Load the iris dataset\n",
    "_, iris_data, target = load_iris(return_X_y=True)\n",
    "\n",
    "# Define the feature map and ansatz for the EstimatorQNN\n",
    "feature_dim = iris_data.shape[1]\n",
    "estimator_feature_map = ZZFeatureMap(feature_dimension=feature_dim, reps=2)\n",
    "estimator_ansatz = RealAmplitudes(num_qubits=feature_dim, reps=1)\n",
    "\n",
    "# Define the EstimatorQNN\n",
    "estimator_circuit = estimator_feature_map + estimator_ansatz\n",
    "estimator = VQC(optimizer=COBYLA(), feature_map=estimator_feature_map, ansatz=estimator_ansatz, \n",
    "                 quantum_instance=QuantumInstance(BasicAer.get_backend('ibmq_qasm_simulator')))\n",
    "estimator_qnn = CircuitQNN(circuit=estimator_circuit, input_params=estimator_feature_map.parameters, \n",
    "                           weight_params=estimator_ansatz.parameters, quantum_instance=QuantumInstance(BasicAer.get_backend('qasm_simulator')))\n",
    "\n",
    "# Train the EstimatorQNN\n",
    "estimator.fit(iris_data, target)\n",
    "\n",
    "# Use the trained EstimatorQNN to make predictions\n",
    "estimator_predictions = estimator.predict(iris_data)\n",
    "\n",
    "# Define the feature map and ansatz for the SamplerQNN\n",
    "sampler_feature_map = ZZFeatureMap(feature_dimension=feature_dim, reps=2)\n",
    "sampler_ansatz = RealAmplitudes(num_qubits=feature_dim, reps=1)\n",
    "\n",
    "# Define the quantum neural network for the SamplerQNN\n",
    "def parity(x):\n",
    "    return \"{:b}\".format(x).count(\"1\") % 2\n",
    "\n",
    "sampler_qnn = CircuitQNN(circuit=sampler_feature_map + sampler_ansatz, input_params=sampler_feature_map.parameters, \n",
    "                         weight_params=sampler_ansatz.parameters, interpret=parity, output_shape=2, \n",
    "                         quantum_instance=QuantumInstance(BasicAer.get_backend('qasm_simulator')))\n",
    "\n",
    "# Train the SamplerQNN\n",
    "sampler_qnn.fit(iris_data, target)\n",
    "\n",
    "# Use the trained SamplerQNN to make predictions\n",
    "sampler_predictions = sampler_qnn.predict(iris_data)\n",
    "\n"
   ]
  },
  {
   "cell_type": "code",
   "execution_count": 14,
   "id": "1a02e1f1-788e-46ef-8065-87c5bd9f9862",
   "metadata": {
    "tags": []
   },
   "outputs": [],
   "source": [
    "from qiskit_ibm_runtime import QiskitRuntimeService\n",
    "\n",
    "service = QiskitRuntimeService(channel=\"ibm_quantum\")\n",
    "backend = service.backend(\"ibmq_qasm_simulator\")"
   ]
  },
  {
   "cell_type": "code",
   "execution_count": 15,
   "id": "22d6563e-c159-4ad4-b63f-bac502d5fa59",
   "metadata": {
    "tags": []
   },
   "outputs": [
    {
     "data": {
      "image/png": "[encoded data removed]",
      "text/plain": [
       "<Figure size 1039.79x284.278 with 1 Axes>"
      ]
     },
     "metadata": {},
     "output_type": "display_data"
    }
   ],
   "source": [
    "from qiskit.circuit.random import random_circuit\n",
    "\n",
    "circuit = random_circuit(2, 2, seed=0, measure=True).decompose(reps=1)\n",
    "display(circuit.draw(\"mpl\"))"
   ]
  },
  {
   "cell_type": "code",
   "execution_count": 16,
   "id": "e83c7677-c419-4189-bd3a-e7d3d7af3804",
   "metadata": {
    "tags": []
   },
   "outputs": [
    {
     "name": "stdout",
     "output_type": "stream",
     "text": [
      ">>> Quasi-distribution from the first run: {1: 0.03175, 3: 0.515, 2: 0.03875, 0: 0.4145}\n",
      ">>> Quasi-distribution from the second run: {1: 0.033, 2: 0.03375, 0: 0.39875, 3: 0.5345}\n"
     ]
    }
   ],
   "source": [
    "from qiskit_ibm_runtime import Session, Estimator\n",
    "\n",
    "with Session(backend=backend, max_time=\"1h\"):\n",
    "    sampler = Sampler()\n",
    "\n",
    "    result = sampler.run(circuit).result()\n",
    "    print(f\">>> Quasi-distribution from the first run: {result.quasi_dists[0]}\")\n",
    "\n",
    "    result = sampler.run(circuit).result()\n",
    "    print(f\">>> Quasi-distribution from the second run: {result.quasi_dists[0]}\")"
   ]
  },
  {
   "cell_type": "code",
   "execution_count": 40,
   "id": "00cbf2fd-40ad-41b0-a927-92b0530fcdd4",
   "metadata": {
    "tags": []
   },
   "outputs": [
    {
     "name": "stdout",
     "output_type": "stream",
     "text": [
      "Traceback \u001b[1;36m(most recent call last)\u001b[0m:\n",
      "\u001b[1;36m  Cell \u001b[1;32mIn[40], line 27\u001b[1;36m\n",
      "\u001b[1;33m    estimator_job = estimator.run(estimator_circuit, observable)\u001b[1;36m\n",
      "\u001b[1;31mNameError\u001b[0m\u001b[1;31m:\u001b[0m name 'estimator_circuit' is not defined\n",
      "\n",
      "Use %tb to get the full traceback.\n"
     ]
    },
    {
     "data": {
      "text/html": [
       "\n",
       "<style>\n",
       ".button {\n",
       "  border: none;\n",
       "  color: white;\n",
       "  padding: 4px 8px;\n",
       "  text-align: center;\n",
       "  text-decoration: none;\n",
       "  display: inline-block;\n",
       "  font-size: 12px;\n",
       "  margin: 4px 2px;\n",
       "  transition-duration: 0.2s;\n",
       "  cursor: pointer;\n",
       "}\n",
       ".iqx-button {\n",
       "  background-color: #0f62fe; \n",
       "  color: white; \n",
       "}\n",
       ".iqx-button:hover {\n",
       "  background-color: #0043ce;\n",
       "  color: white;\n",
       "}\n",
       "</style>\n",
       "<a href=\"https://stackoverflow.com/search?q=NameError: name 'estimator_circuit' is not defined\" target='_blank'><button class='button iqx-button'>Search for solution online</button></a>\n"
      ],
      "text/plain": [
       "<IPython.core.display.HTML object>"
      ]
     },
     "metadata": {},
     "output_type": "display_data"
    }
   ],
   "source": [
    "from qiskit_ibm_runtime import (\n",
    "    QiskitRuntimeService,\n",
    "    Session,\n",
    "    Sampler,\n",
    "    Estimator,\n",
    "    Options,\n",
    ")\n",
    "\n",
    "# 1. Initialize account\n",
    "service = QiskitRuntimeService(channel=\"ibm_quantum\")\n",
    "\n",
    "# 2. Specify options, such as enabling error mitigation\n",
    "options = Options(resilience_level=1)\n",
    "\n",
    "# 3. Select a backend.\n",
    "backend = service.backend(\"ibmq_qasm_simulator\")\n",
    "\n",
    "# 4. Create a session\n",
    "with Session(backend=backend):\n",
    "\n",
    "    # 5. Create primitive instances\n",
    "    sampler = Sampler(options=options)\n",
    "    estimator = Estimator(options=options)\n",
    "\n",
    "    # 6. Submit jobs\n",
    "    sampler_job = sampler.run(circuit)\n",
    "    estimator_job = estimator.run(estimator_circuit, observable)\n",
    "\n",
    "    # 7. Get results\n",
    "    print(\n",
    "        f\">>> Quasi Distribution from the sampler job: {sampler_job.result().quasi_dists[0]}\"\n",
    "    )\n",
    "    print(\n",
    "        f\">>> Expectation value from the estimator job: {estimator_job.result().values[0]}\"\n",
    "    )"
   ]
  },
  {
   "cell_type": "code",
   "execution_count": 19,
   "id": "9504db48-64ee-420a-9a3c-ad54042eab87",
   "metadata": {
    "tags": []
   },
   "outputs": [
    {
     "name": "stdout",
     "output_type": "stream",
     "text": [
      ">>> Quasi-distribution from the first run: {1: 0.03325, 3: 0.5165, 2: 0.04525, 0: 0.405}\n",
      ">>> Quasi-distribution from the second run: {1: 0.03175, 3: 0.52, 2: 0.03675, 0: 0.4115}\n"
     ]
    }
   ],
   "source": [
    "from qiskit_ibm_runtime import Session, Estimator\n",
    "\n",
    "with Session(backend=backend, max_time=\"1h\"):\n",
    "    sampler = Sampler()\n",
    "\n",
    "    result = sampler.run(circuit).result()\n",
    "    print(f\">>> Quasi-distribution from the first run: {result.quasi_dists[0]}\")\n",
    "\n",
    "    result = sampler.run(circuit).result()\n",
    "    print(f\">>> Quasi-distribution from the second run: {result.quasi_dists[0]}\")"
   ]
  },
  {
   "cell_type": "code",
   "execution_count": null,
   "id": "aade75de-b03a-447a-a108-23a9bf8b3c5f",
   "metadata": {
    "tags": []
   },
   "outputs": [
    {
     "name": "stdout",
     "output_type": "stream",
     "text": [
      "Traceback \u001b[1;36m(most recent call last)\u001b[0m:\n",
      "\u001b[0m  Cell \u001b[0;32mIn[36], line 16\u001b[0m\n",
      "    backend = service.backend(\"ibmq\")\u001b[0m\n",
      "\u001b[1;36m  File \u001b[1;32m/opt/conda/lib/python3.10/site-packages/qiskit_ibm_runtime/qiskit_runtime_service.py:752\u001b[1;36m in \u001b[1;35mbackend\u001b[1;36m\n",
      "\u001b[1;33m    raise QiskitBackendNotFoundError(\u001b[1;36m\n",
      "\u001b[1;31mQiskitBackendNotFoundError\u001b[0m\u001b[1;31m:\u001b[0m 'No backend matches the criteria.'\n",
      "\n",
      "Use %tb to get the full traceback.\n"
     ]
    },
    {
     "data": {
      "text/html": [
       "\n",
       "<style>\n",
       ".button {\n",
       "  border: none;\n",
       "  color: white;\n",
       "  padding: 4px 8px;\n",
       "  text-align: center;\n",
       "  text-decoration: none;\n",
       "  display: inline-block;\n",
       "  font-size: 12px;\n",
       "  margin: 4px 2px;\n",
       "  transition-duration: 0.2s;\n",
       "  cursor: pointer;\n",
       "}\n",
       ".iqx-button {\n",
       "  background-color: #0f62fe; \n",
       "  color: white; \n",
       "}\n",
       ".iqx-button:hover {\n",
       "  background-color: #0043ce;\n",
       "  color: white;\n",
       "}\n",
       "</style>\n",
       "<a href=\"https://stackoverflow.com/search?q=QiskitBackendNotFoundError: No backend matches the criteria.\" target='_blank'><button class='button iqx-button'>Search for solution online</button></a>\n"
      ],
      "text/plain": [
       "<IPython.core.display.HTML object>"
      ]
     },
     "metadata": {},
     "output_type": "display_data"
    }
   ],
   "source": [
    "from qiskit_ibm_runtime import (\n",
    "    QiskitRuntimeService,\n",
    "    Session,\n",
    "    Sampler,\n",
    "    Estimator,\n",
    "    Options,\n",
    ")\n",
    "\n",
    "# 1. Initialize account\n",
    "service = QiskitRuntimeService(channel=\"ibm_quantum\")\n",
    "\n",
    "# 2. Specify options, such as enabling error mitigation\n",
    "options = Options(resilience_level=1)\n",
    "\n",
    "# 3. Select a backend.\n",
    "backend = service.backend(\"ibmq\")\n",
    "\n",
    "# 4. Create a session\n",
    "with Session(backend=backend):\n",
    "\n",
    "    # 5. Create primitive instances\n",
    "    sampler = Sampler(options=options)\n",
    "    estimator = Estimator(options=options)\n",
    "\n",
    "    # 6. Submit jobs\n",
    "    sampler_job = sampler.run(circuit)\n",
    "    estimator_job = estimator.run(estimator_circuit, observable)\n",
    "\n",
    "    # 7. Get results\n",
    "    print(\n",
    "        f\">>> Quasi Distribution from the sampler job: {sampler_job.result().quasi_dists[0]}\"\n",
    "    )\n",
    "    print(\n",
    "        f\">>> Expectation value from the estimator job: {estimator_job.result().values[0]}\"\n",
    "    )"
   ]
  },
  {
   "cell_type": "code",
   "execution_count": 39,
   "id": "c4916a14-a157-4b79-acbf-6bb24ac866ba",
   "metadata": {
    "tags": []
   },
   "outputs": [
    {
     "name": "stdout",
     "output_type": "stream",
     "text": [
      "Traceback \u001b[1;36m(most recent call last)\u001b[0m:\n",
      "\u001b[0m  Cell \u001b[0;32mIn[39], line 30\u001b[0m\n",
      "    quantum_instance = QuantumInstance(Aer.get_backend('ibmq_qasm_simulator'), shots=1024, seed_simulator=42, seed_transpiler=42)\u001b[0m\n",
      "\u001b[0m  File \u001b[0;32m/opt/conda/lib/python3.10/site-packages/qiskit_aer/aerprovider.py:72\u001b[0m in \u001b[0;35mget_backend\u001b[0m\n",
      "    return super().get_backend(name=name, **kwargs)\u001b[0m\n",
      "\u001b[1;36m  File \u001b[1;32m/opt/conda/lib/python3.10/site-packages/qiskit/providers/provider.py:55\u001b[1;36m in \u001b[1;35mget_backend\u001b[1;36m\n",
      "\u001b[1;33m    raise QiskitBackendNotFoundError(\"No backend matches the criteria\")\u001b[1;36m\n",
      "\u001b[1;31mQiskitBackendNotFoundError\u001b[0m\u001b[1;31m:\u001b[0m 'No backend matches the criteria'\n",
      "\n",
      "Use %tb to get the full traceback.\n"
     ]
    },
    {
     "data": {
      "text/html": [
       "\n",
       "<style>\n",
       ".button {\n",
       "  border: none;\n",
       "  color: white;\n",
       "  padding: 4px 8px;\n",
       "  text-align: center;\n",
       "  text-decoration: none;\n",
       "  display: inline-block;\n",
       "  font-size: 12px;\n",
       "  margin: 4px 2px;\n",
       "  transition-duration: 0.2s;\n",
       "  cursor: pointer;\n",
       "}\n",
       ".iqx-button {\n",
       "  background-color: #0f62fe; \n",
       "  color: white; \n",
       "}\n",
       ".iqx-button:hover {\n",
       "  background-color: #0043ce;\n",
       "  color: white;\n",
       "}\n",
       "</style>\n",
       "<a href=\"https://stackoverflow.com/search?q=QiskitBackendNotFoundError: No backend matches the criteria\" target='_blank'><button class='button iqx-button'>Search for solution online</button></a>\n"
      ],
      "text/plain": [
       "<IPython.core.display.HTML object>"
      ]
     },
     "metadata": {},
     "output_type": "display_data"
    }
   ],
   "source": [
    "import numpy as np\n",
    "import torch\n",
    "from qiskit import Aer\n",
    "from qiskit.utils import QuantumInstance\n",
    "from qiskit_machine_learning.neural_networks import TwoLayerQNN, SamplerQNN, EstimatorQNN\n",
    "from sklearn.datasets import load_iris\n",
    "from qiskit.circuit.library import RealAmplitudes\n",
    "from sklearn.model_selection import train_test_split\n",
    "from sklearn.preprocessing import StandardScaler, LabelEncoder\n",
    "from sklearn.metrics import classification_report\n",
    "from qiskit_machine_learning.algorithms.classifiers import NeuralNetworkClassifier\n",
    "\n",
    "# Load Iris dataset\n",
    "iris_data = load_iris()\n",
    "data = iris_data['data']\n",
    "target = iris_data['target']\n",
    "\n",
    "# Standardize the data\n",
    "scaler = StandardScaler()\n",
    "data = scaler.fit_transform(data)\n",
    "\n",
    "# Convert target labels to binary classes\n",
    "encoder = LabelEncoder()\n",
    "target = encoder.fit_transform(target)\n",
    "\n",
    "# Split data into training and testing sets\n",
    "data_train, data_test, target_train, target_test = train_test_split(data, target, test_size=0.2, random_state=42)\n",
    "\n",
    "# Define the quantum instance using the Aer qasm_simulator\n",
    "quantum_instance = QuantumInstance(Aer.get_backend('ibmq_qasm_simulator'), shots=1024, seed_simulator=42, seed_transpiler=42)\n",
    "\n",
    "# Define the feature map\n",
    "feature_map = RealAmplitudes(num_qubits=4, entanglement='linear', reps=1)\n",
    "\n",
    "# Define the ansatz\n",
    "ansatz = RealAmplitudes(num_qubits=4, entanglement='linear', reps=1)\n",
    "\n",
    "# Create the SamplerQNN\n",
    "sampler_qnn = SamplerQNN(feature_map, ansatz, quantum_instance=quantum_instance)\n",
    "\n",
    "# Create the EstimatorQNN\n",
    "estimator_qnn = EstimatorQNN(feature_map, ansatz, quantum_instance=quantum_instance)\n",
    "\n",
    "class CustomQNN(TwoLayerQNN):\n",
    "    def __init__(self, sampler_qnn, estimator_qnn):\n",
    "        super().__init__(sampler_qnn.num_qubits, sampler_qnn.output_shape, sampler_qnn.sparse, sampler_qnn.quantum_instance)\n",
    "        self.sampler_qnn = sampler_qnn\n",
    "        self.estimator_qnn = estimator_qnn\n",
    "\n",
    "    def forward(self, input_data):\n",
    "        # Pass input_data through the sampler_qnn\n",
    "        sampler_output = self.sampler_qnn.forward(input_data)\n",
    "        \n",
    "        # Pass the sampler_output through the estimator_qnn\n",
    "        estimator_output = self.estimator_qnn.forward(sampler_output)\n",
    "        return estimator_output\n",
    "\n",
    "# Instantiate the custom QNN\n",
    "custom_qnn = CustomQNN(sampler_qnn, estimator_qnn)\n",
    "\n",
    "# Define the NeuralNetworkClassifier with the custom QNN\n",
    "model = NeuralNetworkClassifier(custom_qnn, optimizer=torch.optim.Adam(custom_qnn.parameters(), lr=0.1))\n",
    "\n",
    "# Train the model\n",
    "model.fit(data_train, target_train, epochs=10, batch_size=10)\n",
    "\n",
    "# Test the model\n",
    "target_predicted = model.predict(data_test)\n",
    "\n",
    "# Evaluate the model\n",
    "print(\"Classification Report:\\n\", classification_report(target_test, target_predicted))\n"
   ]
  },
  {
   "cell_type": "code",
   "execution_count": 23,
   "id": "089622b9-069a-40f8-b813-f0343605444e",
   "metadata": {
    "tags": []
   },
   "outputs": [
    {
     "name": "stdout",
     "output_type": "stream",
     "text": [
      "Requirement already satisfied: qiskit_ibm_provider in /opt/conda/lib/python3.10/site-packages (0.4.0)\n",
      "Requirement already satisfied: websocket-client>=1.5.1 in /opt/conda/lib/python3.10/site-packages (from qiskit_ibm_provider) (1.5.1)\n",
      "Requirement already satisfied: python-dateutil>=2.8.0 in /opt/conda/lib/python3.10/site-packages (from qiskit_ibm_provider) (2.8.2)\n",
      "Requirement already satisfied: numpy>=1.13 in /opt/conda/lib/python3.10/site-packages (from qiskit_ibm_provider) (1.23.5)\n",
      "Requirement already satisfied: requests>=2.19 in /opt/conda/lib/python3.10/site-packages (from qiskit_ibm_provider) (2.28.1)\n",
      "Requirement already satisfied: requests-ntlm>=1.1.0 in /opt/conda/lib/python3.10/site-packages (from qiskit_ibm_provider) (1.1.0)\n",
      "Requirement already satisfied: urllib3>=1.21.1 in /opt/conda/lib/python3.10/site-packages (from qiskit_ibm_provider) (1.26.13)\n",
      "Requirement already satisfied: websockets>=10.0 in /opt/conda/lib/python3.10/site-packages (from qiskit_ibm_provider) (10.4)\n",
      "Requirement already satisfied: qiskit-terra>=0.23.1 in /opt/conda/lib/python3.10/site-packages (from qiskit_ibm_provider) (0.23.2)\n",
      "Requirement already satisfied: typing-extensions>=4.3 in /opt/conda/lib/python3.10/site-packages (from qiskit_ibm_provider) (4.5.0)\n",
      "Requirement already satisfied: six>=1.5 in /opt/conda/lib/python3.10/site-packages (from python-dateutil>=2.8.0->qiskit_ibm_provider) (1.16.0)\n",
      "Requirement already satisfied: dill>=0.3 in /opt/conda/lib/python3.10/site-packages (from qiskit-terra>=0.23.1->qiskit_ibm_provider) (0.3.6)\n",
      "Requirement already satisfied: ply>=3.10 in /opt/conda/lib/python3.10/site-packages (from qiskit-terra>=0.23.1->qiskit_ibm_provider) (3.11)\n",
      "Requirement already satisfied: psutil>=5 in /opt/conda/lib/python3.10/site-packages (from qiskit-terra>=0.23.1->qiskit_ibm_provider) (5.9.4)\n",
      "Requirement already satisfied: sympy>=1.3 in /opt/conda/lib/python3.10/site-packages (from qiskit-terra>=0.23.1->qiskit_ibm_provider) (1.11.1)\n",
      "Requirement already satisfied: rustworkx>=0.12.0 in /opt/conda/lib/python3.10/site-packages (from qiskit-terra>=0.23.1->qiskit_ibm_provider) (0.12.1)\n",
      "Requirement already satisfied: symengine>=0.9 in /opt/conda/lib/python3.10/site-packages (from qiskit-terra>=0.23.1->qiskit_ibm_provider) (0.9.2)\n",
      "Requirement already satisfied: scipy>=1.5 in /opt/conda/lib/python3.10/site-packages (from qiskit-terra>=0.23.1->qiskit_ibm_provider) (1.9.3)\n",
      "Requirement already satisfied: stevedore>=3.0.0 in /opt/conda/lib/python3.10/site-packages (from qiskit-terra>=0.23.1->qiskit_ibm_provider) (4.1.1)\n",
      "Requirement already satisfied: idna<4,>=2.5 in /opt/conda/lib/python3.10/site-packages (from requests>=2.19->qiskit_ibm_provider) (3.4)\n",
      "Requirement already satisfied: charset-normalizer<3,>=2 in /opt/conda/lib/python3.10/site-packages (from requests>=2.19->qiskit_ibm_provider) (2.1.1)\n",
      "Requirement already satisfied: certifi>=2017.4.17 in /opt/conda/lib/python3.10/site-packages (from requests>=2.19->qiskit_ibm_provider) (2022.9.24)\n",
      "Requirement already satisfied: ntlm-auth>=1.0.2 in /opt/conda/lib/python3.10/site-packages (from requests-ntlm>=1.1.0->qiskit_ibm_provider) (1.5.0)\n",
      "Requirement already satisfied: cryptography>=1.3 in /opt/conda/lib/python3.10/site-packages (from requests-ntlm>=1.1.0->qiskit_ibm_provider) (38.0.4)\n",
      "Requirement already satisfied: cffi>=1.12 in /opt/conda/lib/python3.10/site-packages (from cryptography>=1.3->requests-ntlm>=1.1.0->qiskit_ibm_provider) (1.15.1)\n",
      "Requirement already satisfied: pbr!=2.1.0,>=2.0.0 in /opt/conda/lib/python3.10/site-packages (from stevedore>=3.0.0->qiskit-terra>=0.23.1->qiskit_ibm_provider) (5.11.1)\n",
      "Requirement already satisfied: mpmath>=0.19 in /opt/conda/lib/python3.10/site-packages (from sympy>=1.3->qiskit-terra>=0.23.1->qiskit_ibm_provider) (1.2.1)\n",
      "Requirement already satisfied: pycparser in /opt/conda/lib/python3.10/site-packages (from cffi>=1.12->cryptography>=1.3->requests-ntlm>=1.1.0->qiskit_ibm_provider) (2.21)\n",
      "Note: you may need to restart the kernel to use updated packages.\n"
     ]
    }
   ],
   "source": [
    "pip install qiskit_ibm_provider"
   ]
  },
  {
   "cell_type": "code",
   "execution_count": 38,
   "id": "8958a908-b3f0-41cc-a842-2d23052cfc92",
   "metadata": {
    "tags": []
   },
   "outputs": [
    {
     "name": "stderr",
     "output_type": "stream",
     "text": [
      "ibmqfactory.load_account:WARNING:2023-03-31 02:27:19,361: Credentials are already in use. The existing account in the session will be replaced.\n"
     ]
    },
    {
     "name": "stdout",
     "output_type": "stream",
     "text": [
      "Traceback \u001b[1;36m(most recent call last)\u001b[0m:\n",
      "\u001b[0m  Cell \u001b[0;32mIn[38], line 44\u001b[0m\n",
      "    qnn = TwoLayerQNN(4, feature_map=feature_map, ansatz=ansatz, quantum_instance=quantum_instance)\u001b[0m\n",
      "\u001b[0m  File \u001b[0;32m/opt/conda/lib/python3.10/site-packages/qiskit/utils/deprecation.py:51\u001b[0m in \u001b[0;35mwrapper\u001b[0m\n",
      "    return func(*args, **kwargs)\u001b[0m\n",
      "\u001b[0m  File \u001b[0;32m/opt/conda/lib/python3.10/site-packages/qiskit_machine_learning/neural_networks/two_layer_qnn.py:89\u001b[0m in \u001b[0;35m__init__\u001b[0m\n",
      "    self._circuit.append(self._ansatz, range(num_qubits))\u001b[0m\n",
      "\u001b[0m  File \u001b[0;32m/opt/conda/lib/python3.10/site-packages/qiskit/circuit/quantumcircuit.py:1267\u001b[0m in \u001b[0;35mappend\u001b[0m\n",
      "    appender(instruction)\u001b[0m\n",
      "\u001b[0m  File \u001b[0;32m/opt/conda/lib/python3.10/site-packages/qiskit/circuit/quantumcircuit.py:1332\u001b[0m in \u001b[0;35m_append\u001b[0m\n",
      "    self._update_parameter_table(instruction)\u001b[0m\n",
      "\u001b[1;36m  File \u001b[1;32m/opt/conda/lib/python3.10/site-packages/qiskit/circuit/quantumcircuit.py:1352\u001b[1;36m in \u001b[1;35m_update_parameter_table\u001b[1;36m\n",
      "\u001b[1;33m    raise CircuitError(f\"Name conflict on adding parameter: {parameter.name}\")\u001b[1;36m\n",
      "\u001b[1;31mCircuitError\u001b[0m\u001b[1;31m:\u001b[0m 'Name conflict on adding parameter: θ[0]'\n",
      "\n",
      "Use %tb to get the full traceback.\n"
     ]
    },
    {
     "data": {
      "text/html": [
       "\n",
       "<style>\n",
       ".button {\n",
       "  border: none;\n",
       "  color: white;\n",
       "  padding: 4px 8px;\n",
       "  text-align: center;\n",
       "  text-decoration: none;\n",
       "  display: inline-block;\n",
       "  font-size: 12px;\n",
       "  margin: 4px 2px;\n",
       "  transition-duration: 0.2s;\n",
       "  cursor: pointer;\n",
       "}\n",
       ".iqx-button {\n",
       "  background-color: #0f62fe; \n",
       "  color: white; \n",
       "}\n",
       ".iqx-button:hover {\n",
       "  background-color: #0043ce;\n",
       "  color: white;\n",
       "}\n",
       "</style>\n",
       "<a href=\"https://stackoverflow.com/search?q=CircuitError: Name conflict on adding parameter: θ[0]\" target='_blank'><button class='button iqx-button'>Search for solution online</button></a>\n"
      ],
      "text/plain": [
       "<IPython.core.display.HTML object>"
      ]
     },
     "metadata": {},
     "output_type": "display_data"
    }
   ],
   "source": [
    "import numpy as np\n",
    "import torch\n",
    "from qiskit import Aer, IBMQ\n",
    "from qiskit.utils import QuantumInstance\n",
    "from qiskit_machine_learning.neural_networks import TwoLayerQNN\n",
    "from sklearn.datasets import load_iris\n",
    "from qiskit.circuit.library import RealAmplitudes\n",
    "from sklearn.model_selection import train_test_split\n",
    "from sklearn.preprocessing import StandardScaler, LabelEncoder\n",
    "from sklearn.metrics import classification_report\n",
    "from qiskit_machine_learning.algorithms.classifiers import NeuralNetworkClassifier\n",
    "\n",
    "# Load Iris dataset\n",
    "iris_data = load_iris()\n",
    "data = iris_data['data']\n",
    "target = iris_data['target']\n",
    "\n",
    "# Standardize the data\n",
    "scaler = StandardScaler()\n",
    "data = scaler.fit_transform(data)\n",
    "\n",
    "# Convert target labels to binary classes\n",
    "encoder = LabelEncoder()\n",
    "target = encoder.fit_transform(target)\n",
    "\n",
    "# Split data into training and testing sets\n",
    "data_train, data_test, target_train, target_test = train_test_split(data, target, test_size=0.2, random_state=42)\n",
    "\n",
    "# Load your IBMQ account\n",
    "IBMQ.load_account()\n",
    "provider = IBMQ.get_provider(hub='ibm-q')\n",
    "backend = provider.get_backend('ibmq_qasm_simulator')  # Replace 'your_quantum_backend' with the name of the backend you want to use\n",
    "\n",
    "# Define the quantum instance using the selected backend\n",
    "quantum_instance = QuantumInstance(backend, shots=1024, seed_simulator=42, seed_transpiler=42)\n",
    "\n",
    "# Define the feature map\n",
    "feature_map = RealAmplitudes(num_qubits=4, entanglement='linear', reps=1)\n",
    "\n",
    "# Define the ansatz\n",
    "ansatz = RealAmplitudes(num_qubits=4, entanglement='linear', reps=1)\n",
    "\n",
    "# Create the TwoLayerQNN\n",
    "qnn = TwoLayerQNN(4, feature_map=feature_map, ansatz=ansatz, quantum_instance=quantum_instance)\n",
    "\n",
    "# Define the NeuralNetworkClassifier with the QNN\n",
    "model = NeuralNetworkClassifier(qnn, optimizer=torch.optim.Adam(qnn.parameters(), lr=0.1))\n",
    "\n",
    "# Train the model\n",
    "model.fit(data_train, target_train, epochs=10, batch_size=10)\n",
    "\n",
    "# Test the model\n",
    "target_predicted = model.predict(data_test)\n",
    "\n",
    "# Evaluate the model\n",
    "print(\"Classification Report:\\n\", classification_report(target_test, target_predicted))\n"
   ]
  },
  {
   "cell_type": "code",
   "execution_count": 28,
   "id": "4f50f196-73c6-4562-8b2f-edcb2755de12",
   "metadata": {
    "tags": []
   },
   "outputs": [
    {
     "name": "stdout",
     "output_type": "stream",
     "text": [
      "Sampler results: SamplerResult(quasi_dists=[{0: 0.50775, 3: 0.49225}], metadata=[{'shots': 4000}])\n",
      "Estimator results: EstimatorResult(values=array([1.5725]), metadata=[{'variance': 8.84157075, 'shots': 4000}])\n"
     ]
    }
   ],
   "source": [
    "from qiskit_ibm_runtime import QiskitRuntimeService, Session, Sampler, Estimator, Options\n",
    "from qiskit.test.reference_circuits import ReferenceCircuits\n",
    "from qiskit.circuit.library import RealAmplitudes\n",
    "from qiskit.quantum_info import SparsePauliOp\n",
    "\n",
    "# Initialize account.\n",
    "service = QiskitRuntimeService()\n",
    "\n",
    "# Set options, which can be overwritten at job level.\n",
    "options = Options(optimization_level=3)\n",
    "\n",
    "# Prepare inputs.\n",
    "bell = ReferenceCircuits.bell()\n",
    "psi = RealAmplitudes(num_qubits=2, reps=2)\n",
    "H1 = SparsePauliOp.from_list([(\"II\", 1), (\"IZ\", 2), (\"XI\", 3)])\n",
    "theta = [0, 1, 1, 2, 3, 5]\n",
    "\n",
    "with Session(service=service, backend=\"ibmq_qasm_simulator\") as session:\n",
    "    # Submit a request to the Sampler primitive within the session.\n",
    "    sampler = Sampler(session=session, options=options)\n",
    "    job = sampler.run(circuits=bell)\n",
    "    print(f\"Sampler results: {job.result()}\")\n",
    "\n",
    "    # Submit a request to the Estimator primitive within the session.\n",
    "    estimator = Estimator(session=session, options=options)\n",
    "    job = estimator.run(\n",
    "        circuits=[psi], observables=[H1], parameter_values=[theta]\n",
    "    )\n",
    "    print(f\"Estimator results: {job.result()}\")\n",
    "    # Close the session only if all jobs are finished and you don't need to run more in the session.\n",
    "    session.close()"
   ]
  },
  {
   "cell_type": "code",
   "execution_count": null,
   "id": "07a91bfc-4c9b-4993-a8bb-1e9bad1e078f",
   "metadata": {},
   "outputs": [],
   "source": []
  }
 ],
 "metadata": {
  "kernelspec": {
   "display_name": "Python 3 (ipykernel)",
   "language": "python",
   "name": "python3"
  },
  "language_info": {
   "codemirror_mode": {
    "name": "ipython",
    "version": 3
   },
   "file_extension": ".py",
   "mimetype": "text/x-python",
   "name": "python",
   "nbconvert_exporter": "python",
   "pygments_lexer": "ipython3",
   "version": "3.10.8"
  },
  "widgets": {
   "application/vnd.jupyter.widget-state+json": {
    "state": {},
    "version_major": 2,
    "version_minor": 0
   }
  }
 },
 "nbformat": 4,
 "nbformat_minor": 5
}
