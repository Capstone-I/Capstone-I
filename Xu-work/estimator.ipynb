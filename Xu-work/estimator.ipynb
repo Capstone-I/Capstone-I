{
 "cells": [
  {
   "cell_type": "code",
   "execution_count": 117,
   "id": "24232541-6680-4e13-a583-146df231e789",
   "metadata": {
    "tags": []
   },
   "outputs": [],
   "source": [
    "import matplotlib.pyplot as plt\n",
    "import numpy as np\n",
    "from IPython.display import clear_output\n",
    "from qiskit import QuantumCircuit\n",
    "from qiskit.algorithms.optimizers import COBYLA, L_BFGS_B\n",
    "from qiskit.circuit import Parameter\n",
    "from qiskit.circuit.library import RealAmplitudes, ZZFeatureMap\n",
    "from qiskit.utils import algorithm_globals\n",
    "\n",
    "from qiskit_machine_learning.algorithms.classifiers import NeuralNetworkClassifier, VQC\n",
    "from qiskit_machine_learning.algorithms.regressors import NeuralNetworkRegressor, VQR\n",
    "from qiskit_machine_learning.neural_networks import SamplerQNN, EstimatorQNN\n",
    "\n",
    "algorithm_globals.random_seed = 42"
   ]
  },
  {
   "cell_type": "code",
   "execution_count": 150,
   "id": "b12fd8f9-60e4-410f-9e0b-7d685dd94d81",
   "metadata": {
    "tags": []
   },
   "outputs": [],
   "source": [
    "from sklearn.datasets import load_iris\n",
    "from sklearn.model_selection import train_test_split\n",
    "from sklearn.preprocessing import StandardScaler, OneHotEncoder\n",
    "\n",
    "iris_data = load_iris()\n",
    "features = iris_data.data\n",
    "labels = iris_data.target\n",
    "\n",
    "train_features, test_features, train_labels, test_labels = train_test_split(\n",
    "    features, labels, train_size=0.8, random_state=algorithm_globals.random_seed\n",
    ")\n",
    "\n",
    "# Scale the data\n",
    "scaler = StandardScaler().fit(train_features)\n",
    "train_features = scaler.transform(train_features)\n",
    "test_features = scaler.transform(test_features)\n",
    "\n",
    "# One-hot encode the target values\n",
    "#encoder = OneHotEncoder()\n",
    "#features = encoder.fit_transform(features.reshape(-1, 1))\n",
    "#train_features = encoder.fit_transform(train_features.reshape(-1, 1))\n",
    "#train_labels = encoder.fit_transform(train_labels.reshape(-1, 1))\n",
    "\n",
    "num_qubits = features.shape[1]\n",
    "#print(\"num_qubits = \", num_qubits)\n",
    "\n",
    "#num_qubits = 2"
   ]
  },
  {
   "cell_type": "code",
   "execution_count": 151,
   "id": "aac4ad12-dec3-4876-80b7-1e173b2105bb",
   "metadata": {
    "tags": []
   },
   "outputs": [
    {
     "data": {
      "image/png": "[encoded data removed]",
      "text/plain": [
       "<Figure size 1123.61x367.889 with 1 Axes>"
      ]
     },
     "execution_count": 151,
     "metadata": {},
     "output_type": "execute_result"
    }
   ],
   "source": [
    "# construct QNN\n",
    "qc = QuantumCircuit(num_qubits)\n",
    "feature_map = ZZFeatureMap(num_qubits)\n",
    "ansatz = RealAmplitudes(num_qubits)\n",
    "qc.compose(feature_map, inplace=True)\n",
    "qc.compose(ansatz, inplace=True)\n",
    "qc.draw(output=\"mpl\")"
   ]
  },
  {
   "cell_type": "code",
   "execution_count": 152,
   "id": "7f26676b-c073-4e3a-8cb4-94deb17f2a28",
   "metadata": {
    "tags": []
   },
   "outputs": [],
   "source": [
    "estimator_qnn = EstimatorQNN(\n",
    "    circuit=qc, \n",
    "    input_params=feature_map.parameters, \n",
    "    weight_params=ansatz.parameters\n",
    ")\n",
    "\n",
    "# construct neural network classifier\n",
    "classifier = NeuralNetworkClassifier(\n",
    "    estimator_qnn,\n",
    "    optimizer=COBYLA(maxiter=60),\n",
    "    one_hot=False\n",
    ")"
   ]
  },
  {
   "cell_type": "code",
   "execution_count": 153,
   "id": "2e43b930-101b-489f-95e5-e9ec615c6193",
   "metadata": {
    "tags": []
   },
   "outputs": [
    {
     "name": "stdout",
     "output_type": "stream",
     "text": [
      "Traceback \u001b[1;36m(most recent call last)\u001b[0m:\n",
      "\u001b[0m  Cell \u001b[0;32mIn[153], line 1\u001b[0m\n",
      "    classifier.fit(train_features, train_labels)\u001b[0m\n",
      "\u001b[0m  File \u001b[0;32m/opt/conda/lib/python3.10/site-packages/qiskit_machine_learning/algorithms/trainable_model.py:201\u001b[0m in \u001b[0;35mfit\u001b[0m\n",
      "    self._fit_result = self._fit_internal(X, y)\u001b[0m\n",
      "\u001b[0m  File \u001b[0;32m/opt/conda/lib/python3.10/site-packages/qiskit_machine_learning/algorithms/classifiers/neural_network_classifier.py:111\u001b[0m in \u001b[0;35m_fit_internal\u001b[0m\n",
      "    return self._minimize(X, y)\u001b[0m\n",
      "\u001b[0m  File \u001b[0;32m/opt/conda/lib/python3.10/site-packages/qiskit_machine_learning/algorithms/classifiers/neural_network_classifier.py:117\u001b[0m in \u001b[0;35m_minimize\u001b[0m\n",
      "    self._validate_binary_targets(y)\u001b[0m\n",
      "\u001b[1;36m  File \u001b[1;32m/opt/conda/lib/python3.10/site-packages/qiskit_machine_learning/algorithms/classifiers/neural_network_classifier.py:227\u001b[1;36m in \u001b[1;35m_validate_binary_targets\u001b[1;36m\n",
      "\u001b[1;33m    raise QiskitMachineLearningError(\u001b[1;36m\n",
      "\u001b[1;31mQiskitMachineLearningError\u001b[0m\u001b[1;31m:\u001b[0m 'The target values appear to be multi-classified. The neural network output shape is only suitable for binary classification.'\n",
      "\n",
      "Use %tb to get the full traceback.\n"
     ]
    },
    {
     "data": {
      "text/html": [
       "\n",
       "<style>\n",
       ".button {\n",
       "  border: none;\n",
       "  color: white;\n",
       "  padding: 4px 8px;\n",
       "  text-align: center;\n",
       "  text-decoration: none;\n",
       "  display: inline-block;\n",
       "  font-size: 12px;\n",
       "  margin: 4px 2px;\n",
       "  transition-duration: 0.2s;\n",
       "  cursor: pointer;\n",
       "}\n",
       ".iqx-button {\n",
       "  background-color: #0f62fe; \n",
       "  color: white; \n",
       "}\n",
       ".iqx-button:hover {\n",
       "  background-color: #0043ce;\n",
       "  color: white;\n",
       "}\n",
       "</style>\n",
       "<a href=\"https://stackoverflow.com/search?q=QiskitMachineLearningError: The target values appear to be multi-classified. The neural network output shape is only suitable for binary classification.\" target='_blank'><button class='button iqx-button'>Search for solution online</button></a>\n"
      ],
      "text/plain": [
       "<IPython.core.display.HTML object>"
      ]
     },
     "metadata": {},
     "output_type": "display_data"
    }
   ],
   "source": [
    "classifier.fit(train_features, train_labels)"
   ]
  },
  {
   "cell_type": "code",
   "execution_count": null,
   "id": "4dd63888-dfb0-472a-8854-2ce7e34b4153",
   "metadata": {},
   "outputs": [],
   "source": []
  }
 ],
 "metadata": {
  "kernelspec": {
   "display_name": "Python 3 (ipykernel)",
   "language": "python",
   "name": "python3"
  },
  "language_info": {
   "codemirror_mode": {
    "name": "ipython",
    "version": 3
   },
   "file_extension": ".py",
   "mimetype": "text/x-python",
   "name": "python",
   "nbconvert_exporter": "python",
   "pygments_lexer": "ipython3",
   "version": "3.10.8"
  },
  "widgets": {
   "application/vnd.jupyter.widget-state+json": {
    "state": {},
    "version_major": 2,
    "version_minor": 0
   }
  }
 },
 "nbformat": 4,
 "nbformat_minor": 5
}
